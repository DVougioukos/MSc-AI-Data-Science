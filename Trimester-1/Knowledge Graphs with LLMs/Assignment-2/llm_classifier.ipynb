{
 "cells": [
  {
   "cell_type": "markdown",
   "metadata": {},
   "source": [
    "## LLM-Based Classifier"
   ]
  },
  {
   "cell_type": "markdown",
   "metadata": {},
   "source": [
    "The following is the implementation of the relationship classifier. To execute it you should already have the pandas, openai and scikit-learn libraries installed on your system and also have a valid OpenAI API key."
   ]
  },
  {
   "cell_type": "code",
   "execution_count": 1,
   "metadata": {},
   "outputs": [],
   "source": [
    "# Importing the required libraries\n",
    "import pandas as pd\n",
    "from openai import OpenAI\n",
    "from sklearn.metrics import precision_score, recall_score\n",
    "\n",
    "def load_data(file_path):\n",
    "    \"\"\"\n",
    "    This function used to load a dataset from a given .tsv file.\n",
    "\n",
    "    :param file_path: The path of the file\n",
    "    :return: A dataframe containing the dataset\n",
    "    \"\"\"\n",
    "    \n",
    "    # Retrieving data\n",
    "    relation_dataset = pd.read_csv(file_path, sep='\\t')\n",
    "\n",
    "    # Renaming some columns\n",
    "    relation_dataset.rename(columns={\"text\":\"sentence\", \"relation_in_sentence\": \"original_relation\"}, inplace=True)\n",
    "    \n",
    "    return relation_dataset\n",
    "\n",
    "\n",
    "def find_relation(entity_1, entity_2, sentence, openai_key):\n",
    "    \"\"\"\n",
    "    This function used to esimate and return the existing relation between two entites in a sentence \n",
    "    using the ChatGPT LLM and especially the gpt-4o-mini model of it.\n",
    "\n",
    "    :param entity_1: The name of the first entity\n",
    "    :param entity_2: The name of the second entity\n",
    "    :param sentence: The sentence to be examined\n",
    "    :param openai_key: The OpenAI key to access the corresponding API\n",
    "    :return: The estimated relation\n",
    "    \"\"\"\n",
    "\n",
    "    # Requesting\n",
    "    completion = openai_key.chat.completions.create(\n",
    "        model=\"gpt-4o-mini\",\n",
    "        temperature=0,\n",
    "        messages=[\n",
    "            {\n",
    "            \"role\": \"system\",\n",
    "            \"content\": \"\"\"\n",
    "            You are a system that identifies relationships between two entities in a sentence. The possible relationships are:\\n\\\n",
    "                1. 'spouse': relates a person to the persons they are currently married to or have been married to in the past. Not in the future.\\n\\\n",
    "                2. 'schools_attended': relates a person to the schools they are currently attending or have attended in the past. Not in the future.\\n\\\n",
    "                3. 'employee_of': relates a person to the organizations they are currently employees of or have been in the past. Not in the future.\\n\\\n",
    "                4. 'cities_of_residence': relates a person to the cities they currently live or have lived in the past. Not in the future.\\n\\\n",
    "                \\n\\\n",
    "            Important Instructions:\\n\\\n",
    "                - If the relationship is negated in the sentence (e.g., 'John is not married to Jane'), return 'unknown'.\\n\\\n",
    "                - If the relationship is expressed with uncertainty or probability (e.g., 'John may be employed by Google' or 'John could have lived in San Francisco'), return 'unknown'.\\n\\\n",
    "                - If none of the above relationships are expressed in the sentence, return 'unknown'.\\n\\\n",
    "                - Return only a single word that represents the relationship (e.g., 'spouse', 'employee_of', or 'unknown'). Do not include any extra text or explanations.\\n\\\n",
    "            Below are some examples for how to handle these cases:\\n\\\n",
    "                Example 1:\\n\\\n",
    "                Sentence: 'John and Jane were married two weeks ago.'\\n\\\n",
    "                Subject: John\\n\\\n",
    "                Object: Jane\\n\\\n",
    "                Return: spouse\\n\\\n",
    "                \\n\\\n",
    "                Example 2:\\n\\\n",
    "                Sentence: 'Alice graduated from MIT in 2005.'\\n\\\n",
    "                Subject: Alice\\n\\\n",
    "                Object: MIT\\n\\\n",
    "                Return: schools_attended\\n\\\n",
    "                \\n\\\n",
    "                Example 3:\\n\\\n",
    "                Sentence: 'Mark lives in San Francisco and also spent several years in New York.'\\n\\\n",
    "                Subject: Mark\\n\\\n",
    "                Object: San Francisco\\n\\\n",
    "                Return: cities_of_residence\\n\\\n",
    "                \\n\\\n",
    "                Example 4:\\n\\\n",
    "                Sentence: 'Maria works for IBM as a software engineer.'\\n\\\n",
    "                Subject: Maria\\n\\\n",
    "                Object: IBM\\n\\\n",
    "                Return: employee_of\\n\\\n",
    "                \\n\\\n",
    "                Example 5 (Negation):\\n\\\n",
    "                Sentence: 'John is not married to Jane.'\\n\\\n",
    "                Subject: John\\n\\\n",
    "                Object: Jane\\n\\\n",
    "                Return: unknown\\n\\\n",
    "                \\n\\\n",
    "                Example 6 (Uncertainty):\\n\\\n",
    "                Sentence: 'John may work at Google.'\\n\\\n",
    "                Subject: John\\n\\\n",
    "                Object: Google\\n\\\n",
    "                Return: unknown\n",
    "            \"\"\"\n",
    "            },\n",
    "            {\"role\": \"user\", \"content\": f\"Given the sentence: {sentence}, what is the relationship between the entities {entity_1} and {entity_2}?\"},\n",
    "        ],\n",
    "    )\n",
    "\n",
    "    return completion.choices[0].message.content\n",
    "\n",
    "\n",
    "def calculate_metrics(labels, categories):\n",
    "    \"\"\"\n",
    "    This function used to generate the precission and recall metrics for each relation based on a given dataset.\n",
    "\n",
    "    :param labels: A dataframe contaning the real and the estimated relations\n",
    "    :param categories: A list with the possible relations between the entities\n",
    "    :return: The precision and recall of each relation\n",
    "    \"\"\"\n",
    "    \n",
    "    # Converting the original and estimated relations of the 'labels' dataframe to lists\n",
    "    original_labels = labels[\"original_relation\"].to_list()\n",
    "    estimated_labels = labels[\"estimated_relation\"].to_list()\n",
    "\n",
    "    # Calculating precision and recall for each relation\n",
    "    precision = precision_score(original_labels, estimated_labels, average=None, labels=categories)\n",
    "    recall = recall_score(original_labels, estimated_labels, average=None, labels=categories)\n",
    "\n",
    "    return precision, recall"
   ]
  },
  {
   "cell_type": "markdown",
   "metadata": {},
   "source": [
    " If you want to run task 1 using the dataset called 'relation_extraction_dataset.tsv', then comment the second line of code, otherwise if you want to run task 2 using the new dataset called 'new_relation_extraction_dataset.tsv', comment the first line of code and uncomment the second."
   ]
  },
  {
   "cell_type": "code",
   "execution_count": 2,
   "metadata": {},
   "outputs": [],
   "source": [
    "\n",
    "# Extracting the relation dataset\n",
    "relation_dataset = load_data(\"relation_extraction_dataset.tsv\")\n",
    "# relation_dataset = load_data(\"new_relation_extraction_dataset.tsv\")"
   ]
  },
  {
   "cell_type": "markdown",
   "metadata": {},
   "source": [
    "Now, we use the ChatGPT model to get the estimated relations. To use the classifier and get answers you must specify the OpenAI key in the following lines of code."
   ]
  },
  {
   "cell_type": "code",
   "execution_count": null,
   "metadata": {},
   "outputs": [],
   "source": [
    "# Setting the OpenAI key\n",
    "openai_key = OpenAI(\n",
    "    api_key=\"Here put your OpenAI API key\"\n",
    ")\n",
    "\n",
    "# Finding the estimated relation for each record of the relation dataset\n",
    "relation_dataset[\"estimated_relation\"] = relation_dataset.apply(lambda row: find_relation(row[\"subject\"], row[\"object\"], row[\"sentence\"], openai_key), axis=1)\n",
    "\n",
    "# Printing some relation estimations\n",
    "print(\"Here is the first 30 relation estimations:\\n\", relation_dataset.head(30))\n",
    "\n",
    "# Storing the dataset together with the estimated relations\n",
    "relation_dataset.to_csv(\"classifier_results.csv\", index=False)"
   ]
  },
  {
   "cell_type": "markdown",
   "metadata": {},
   "source": [
    "Now, we calculate the precision and recall for all the relations of the dataset."
   ]
  },
  {
   "cell_type": "code",
   "execution_count": null,
   "metadata": {},
   "outputs": [],
   "source": [
    "# Setting the possible relations\n",
    "relations = [\"spouse\", \"employee_of\", \"cities_of_residence\", \"schools_attended\", \"unknown\"]\n",
    "\n",
    "# Generating the precision and recall for each possible relation\n",
    "precision, recall = calculate_metrics(relation_dataset[[\"original_relation\", \"estimated_relation\"]], relations)\n",
    "\n",
    "# Iterating through the list and printing the precision and recall of each relation\n",
    "for index, relation in enumerate(relations):\n",
    "    print(f\"Relation '{relation}' - Precision:{precision[index]:.2f}, Recall:{recall[index]:.2f}\")"
   ]
  }
 ],
 "metadata": {
  "kernelspec": {
   "display_name": "Python 3",
   "language": "python",
   "name": "python3"
  },
  "language_info": {
   "codemirror_mode": {
    "name": "ipython",
    "version": 3
   },
   "file_extension": ".py",
   "mimetype": "text/x-python",
   "name": "python",
   "nbconvert_exporter": "python",
   "pygments_lexer": "ipython3",
   "version": "3.12.6"
  }
 },
 "nbformat": 4,
 "nbformat_minor": 2
}
