{
 "cells": [
  {
   "cell_type": "markdown",
   "metadata": {},
   "source": [
    "## **Assignment 3 - Numerical Optimization & Large Scale Linear Algebra**"
   ]
  },
  {
   "cell_type": "markdown",
   "metadata": {},
   "source": [
    "This notebook contains the implementation of all tasks from the third assignment for the Numerical Optimization and Large Scale Linear Algebra course"
   ]
  },
  {
   "cell_type": "markdown",
   "metadata": {},
   "source": [
    "### **Part 1**"
   ]
  },
  {
   "cell_type": "markdown",
   "metadata": {},
   "source": [
    "### **• Task 1**\n",
    "\n",
    "<u>**Description**</u>\n",
    "\n",
    "**Find the vector $\\pi$ with**\n",
    "\n",
    "**i) the Power method**\n",
    "\n",
    "**ii) solving the corresponding system**\n",
    "\n",
    "**as they described in paragraph 5.1 and 5.2 of the tutorial. For both methods consider as $\\alpha = 0.85$ and stopping criterion $\\tau = 10^{-8}$ and the vector $a$ having 1 if it is corresponds to a node with no out links and 0 otherwise. Are the results the same for both methods? Which method seems to be faster? Use Gauss Seidel method for the iterative solution of the system.**\n",
    "\n",
    "<u>**Solution**</u>"
   ]
  },
  {
   "cell_type": "markdown",
   "metadata": {},
   "source": [
    "Import some packages"
   ]
  },
  {
   "cell_type": "code",
   "execution_count": 1,
   "metadata": {},
   "outputs": [],
   "source": [
    "# Importing some packages\n",
    "\n",
    "import time\n",
    "import pandas as pd\n",
    "import numpy as np\n",
    "from scipy.sparse import csr_matrix, tril, triu, identity, vstack, hstack\n",
    "from scipy.sparse.linalg import splu\n",
    "from matplotlib import pyplot as plt"
   ]
  },
  {
   "cell_type": "markdown",
   "metadata": {},
   "source": [
    "Load the data and construct the transition matrix using a sparse matrix representation, because of the large amount of data"
   ]
  },
  {
   "cell_type": "code",
   "execution_count": 2,
   "metadata": {},
   "outputs": [],
   "source": [
    "# Loading the connectivity matrix\n",
    "connectivity_matrix = pd.read_csv(\n",
    "    \"../data/stanweb.dat\",\n",
    "    sep=r\"\\s+\",\n",
    "    header=None,\n",
    "    names=[\"source_node\", \"destination_node\", \"probability\"],\n",
    ")\n",
    "\n",
    "# Converting to integers\n",
    "connectivity_matrix[\"source_node\"] = connectivity_matrix[\"source_node\"].astype(int)\n",
    "connectivity_matrix[\"destination_node\"] = connectivity_matrix[\n",
    "    \"destination_node\"\n",
    "].astype(int)\n",
    "\n",
    "# Getting the total nodes\n",
    "total_nodes = connectivity_matrix[\"source_node\"].max()\n",
    "\n",
    "# Building the transition matrix\n",
    "transition_matrix = csr_matrix(\n",
    "    (\n",
    "        connectivity_matrix[\"probability\"],\n",
    "        (\n",
    "            connectivity_matrix[\"source_node\"] - 1,\n",
    "            connectivity_matrix[\"destination_node\"] - 1,\n",
    "        ),\n",
    "    ),\n",
    "    shape=(total_nodes, total_nodes),\n",
    ")"
   ]
  },
  {
   "cell_type": "markdown",
   "metadata": {},
   "source": [
    "Recompute the a vector having 1 if it is corresponds to a node with no out links and 0 otherwise"
   ]
  },
  {
   "cell_type": "code",
   "execution_count": 3,
   "metadata": {},
   "outputs": [],
   "source": [
    "# Building the a vector (1 or 0)\n",
    "out_degree = np.asarray(transition_matrix.sum(axis=0)).flatten()\n",
    "a_vector = (out_degree == 0).astype(int)"
   ]
  },
  {
   "cell_type": "markdown",
   "metadata": {},
   "source": [
    "Define a method to compute the PageRank vector using the Power method."
   ]
  },
  {
   "cell_type": "code",
   "execution_count": 4,
   "metadata": {},
   "outputs": [],
   "source": [
    "def solve_power_method(\n",
    "    transition_matrix, a_vector, alpha, stopping_criterion, iterations\n",
    "):\n",
    "    \"\"\"\n",
    "    This function illustrates the Power method for finding the PageRank vector.\n",
    "\n",
    "    :param transition_matrix: The transition matrix\n",
    "    :param a_vector: A vector having 1 if it is corresponds to a node with no out links and 0 otherwise\n",
    "    :param alpha: The alpha parameter\n",
    "    :param stopping_criterion: the stopping criterion\n",
    "    :param iterations: The number of iterations\n",
    "    :return: The PageRank vector and the iteration where the method converged\n",
    "    \"\"\"\n",
    "\n",
    "    # Getting the shape\n",
    "    (shape_0, shape_1) = transition_matrix.shape\n",
    "\n",
    "    # Initializing\n",
    "    v_vector = np.ones(shape_1) / shape_0\n",
    "    rank_vector = np.ones(shape_1) / shape_0\n",
    "\n",
    "    # Keeping the first 50 top/bottom nodes\n",
    "    top_previous = (np.argsort(-rank_vector) + 1)[:50]\n",
    "    bottom_previous = (np.argsort(rank_vector) + 1)[:50]\n",
    "\n",
    "    # Tracking changes in 50 top/bottom rankings\n",
    "    top_diffs = []\n",
    "    bottom_diffs = []\n",
    "\n",
    "    # Iterating\n",
    "    for iteration in range(iterations):\n",
    "\n",
    "        # Computing the next rank vector\n",
    "        rank_vector_new = (\n",
    "            alpha * transition_matrix.T.dot(rank_vector)\n",
    "            + (alpha * np.dot(a_vector, rank_vector) + (1 - alpha)) * v_vector\n",
    "        )\n",
    "\n",
    "        # Get new top/bottom 50 nodes\n",
    "        top_new = (np.argsort(-rank_vector_new) + 1)[:50]\n",
    "        bottom_new = (np.argsort(rank_vector_new) + 1)[:50]\n",
    "\n",
    "        # Updating\n",
    "        top_diffs.append(len(set(top_new).symmetric_difference(set(top_previous))))\n",
    "        bottom_diffs.append(len(set(bottom_new).symmetric_difference(bottom_previous)))\n",
    "\n",
    "        # Updating\n",
    "        top_previous = top_new\n",
    "        bottom_previous = bottom_new\n",
    "\n",
    "        # Checking\n",
    "        if np.linalg.norm(rank_vector_new - rank_vector, 1) < stopping_criterion:\n",
    "\n",
    "            break\n",
    "\n",
    "        # Updating\n",
    "        rank_vector = rank_vector_new\n",
    "\n",
    "    # Checking\n",
    "    if iteration == iterations:\n",
    "\n",
    "        print(\"Power method did not converge within max iterations!\")\n",
    "\n",
    "        return None, None, None, None\n",
    "\n",
    "    else:\n",
    "\n",
    "        return rank_vector_new, iteration + 1, top_diffs, bottom_diffs"
   ]
  },
  {
   "cell_type": "markdown",
   "metadata": {},
   "source": [
    "Compute the PageRank vector using the Power method, with the alpha parameter set to 0.85 and a stopping criterion of $10^{-8}$"
   ]
  },
  {
   "cell_type": "code",
   "execution_count": 5,
   "metadata": {},
   "outputs": [
    {
     "name": "stdout",
     "output_type": "stream",
     "text": [
      "The power method with alpha=0.85 and stopping criterion=1e-08 converged at iteration 90\n"
     ]
    }
   ],
   "source": [
    "# Executing the power method\n",
    "(\n",
    "    pagerank_vector_power_method_1,\n",
    "    iteration_power_method_1,\n",
    "    top_diffs_power_method_1,\n",
    "    bottom_diffs_power_method_1,\n",
    ") = solve_power_method(transition_matrix, a_vector, 0.85, np.power(10.0, -8), 2000)\n",
    "\n",
    "print(\n",
    "    f\"The power method with alpha=0.85 and stopping criterion=1e-08 converged at iteration {iteration_power_method_1}\"\n",
    ")"
   ]
  },
  {
   "cell_type": "markdown",
   "metadata": {},
   "source": [
    "Define a method to identify some top-ranked nodes based on a given PageRank vector"
   ]
  },
  {
   "cell_type": "code",
   "execution_count": 6,
   "metadata": {},
   "outputs": [],
   "source": [
    "def find_top_ranked_nodes(rank_vector, top=50):\n",
    "    \"\"\"\n",
    "    Returns some top-ranked nodes based on a given PageRank vector.\n",
    "\n",
    "    :param rank_vector: A PageRank vector\n",
    "    :param top: How many nodes to find\n",
    "    :return: The top-ranked nodes\n",
    "    \"\"\"\n",
    "\n",
    "    # Flattening\n",
    "    rank_vector = rank_vector.flatten()\n",
    "\n",
    "    # Finding the nodes\n",
    "    top_nodes = (np.argsort(-rank_vector) + 1)[:top]\n",
    "\n",
    "    return top_nodes"
   ]
  },
  {
   "cell_type": "markdown",
   "metadata": {},
   "source": [
    "Find the 50 top-ranked nodes"
   ]
  },
  {
   "cell_type": "code",
   "execution_count": 7,
   "metadata": {},
   "outputs": [
    {
     "name": "stdout",
     "output_type": "stream",
     "text": [
      "The top 50 nodes using the Power method are:\n",
      "[ 89073 226411 241454 262860 134832 234704 136821  68889 105607  69358\n",
      "  67756 225872 186750  95163 251796 272442 119479 231363  55788 167295\n",
      " 179645  38342 117152 198090  60210 235496 132695 181701 259455 247241\n",
      " 120708  62478 161890 176790 137632  77999 221087  17781 183004  96745\n",
      " 112742 145892 151428  81435  60440 208542     91 214128 258348 222873]\n"
     ]
    }
   ],
   "source": [
    "# Getting the top 50 nodes\n",
    "top_50_nodes_power_method_1 = find_top_ranked_nodes(pagerank_vector_power_method_1)\n",
    "\n",
    "print(f\"The top 50 nodes using the Power method are:\\n{top_50_nodes_power_method_1}\")"
   ]
  },
  {
   "cell_type": "markdown",
   "metadata": {},
   "source": [
    "Define a function to compute the PageRank vector by solving the linear system and using the Gauss Seidel method"
   ]
  },
  {
   "cell_type": "code",
   "execution_count": 8,
   "metadata": {},
   "outputs": [],
   "source": [
    "def solve_system_gauss_seidel(transition_matrix, alpha, stopping_criterion, iterations):\n",
    "    \"\"\"\n",
    "    This function is used to solve the system by using the Gauss Seidel method.\n",
    "\n",
    "    :param transition_matrix: The transition matrix\n",
    "    :param alpha: The alpha parameter\n",
    "    :param stopping_criterion: the stopping criterion\n",
    "    :param iterations: The number of iterations\n",
    "    :return: The PageRank vector and the iteration where the method converged\n",
    "    \"\"\"\n",
    "\n",
    "    # Getting the shape\n",
    "    (shape_0, shape_1) = transition_matrix.shape\n",
    "\n",
    "    # Computing the A matrix\n",
    "    a_matrix = (identity(shape_0, format=\"csc\") - alpha * transition_matrix).T\n",
    "\n",
    "    # Splitting A matrix\n",
    "    l_matrix = splu(tril(a_matrix, 0, format=\"csc\"))\n",
    "    u_matrix = triu(a_matrix, 1, format=\"csc\")\n",
    "\n",
    "    # Initializing\n",
    "    v_vector = np.ones(shape_1) / shape_0\n",
    "    rank_vector = np.ones(shape_1) / shape_0\n",
    "\n",
    "    # Keeping the first 50 top/bottom nodes\n",
    "    top_previous = (np.argsort(-rank_vector) + 1)[:50]\n",
    "    bottom_previous = (np.argsort(rank_vector) + 1)[:50]\n",
    "\n",
    "    # Tracking changes in 50 top/bottom rankings\n",
    "    top_diffs = []\n",
    "    bottom_diffs = []\n",
    "\n",
    "    # Iterating\n",
    "    for iteration in range(iterations):\n",
    "\n",
    "        # Getting the next rank vector\n",
    "        rank_vector_new = l_matrix.solve(v_vector - u_matrix.dot(rank_vector))\n",
    "\n",
    "        # Get new top/bottom 50 nodes\n",
    "        top_new = (np.argsort(-rank_vector_new) + 1)[:50]\n",
    "        bottom_new = (np.argsort(rank_vector_new) + 1)[:50]\n",
    "\n",
    "        # Updating\n",
    "        top_diffs.append(len(set(top_new).symmetric_difference(set(top_previous))))\n",
    "        bottom_diffs.append(len(set(bottom_new).symmetric_difference(bottom_previous)))\n",
    "\n",
    "        # Updating\n",
    "        top_previous = top_new\n",
    "        bottom_previous = bottom_new\n",
    "\n",
    "        if np.linalg.norm(rank_vector_new - rank_vector, 1) < stopping_criterion:\n",
    "\n",
    "            break\n",
    "\n",
    "        # Updating\n",
    "        rank_vector = rank_vector_new\n",
    "\n",
    "    # Checking\n",
    "    if iteration == iterations:\n",
    "\n",
    "        print(\"Gauss-Seidel did not converge within max iterations!\")\n",
    "\n",
    "        return None, None, None, None\n",
    "\n",
    "    else:\n",
    "\n",
    "        return (\n",
    "            rank_vector_new / np.sum(rank_vector_new),\n",
    "            iteration + 1,\n",
    "            top_diffs,\n",
    "            bottom_diffs,\n",
    "        )"
   ]
  },
  {
   "cell_type": "markdown",
   "metadata": {},
   "source": [
    "Compute the PageRank vector by solving the corresponding linear system, with the alpha parameter set to 0.85 and a stopping criterion of $10^{-8}$"
   ]
  },
  {
   "cell_type": "code",
   "execution_count": 9,
   "metadata": {},
   "outputs": [
    {
     "name": "stdout",
     "output_type": "stream",
     "text": [
      "Solving the system using Gauss Seidel with alpha=0.85 and stopping criterion=1e-08 converged at iteration 62\n"
     ]
    }
   ],
   "source": [
    "# Solving the system\n",
    "(\n",
    "    pagerank_vector_gauss_seidel_1,\n",
    "    iteration_gauss_seidel_1,\n",
    "    top_diffs_gauss_seidel_1,\n",
    "    bottom_diffs_gauss_seidel_1,\n",
    ") = solve_system_gauss_seidel(transition_matrix, 0.85, np.power(10.0, -8), 2000)\n",
    "\n",
    "print(\n",
    "    f\"Solving the system using Gauss Seidel with alpha=0.85 and stopping criterion=1e-08 converged at iteration {iteration_gauss_seidel_1}\"\n",
    ")"
   ]
  },
  {
   "cell_type": "code",
   "execution_count": 10,
   "metadata": {},
   "outputs": [
    {
     "name": "stdout",
     "output_type": "stream",
     "text": [
      "The top 50 nodes by solving the linear system are:\n",
      "[ 89073 226411 241454 262860 134832 234704 136821  68889 105607  69358\n",
      "  67756 225872 186750 272442 251796  95163 119479 231363  55788 167295\n",
      " 179645  38342 117152 198090  60210 235496 132695 181701 259455 247241\n",
      " 120708  62478 161890 221087 183004 176790 137632  77999  17781  96745\n",
      " 112742 145892 151428  81435  60440 208542     91 214128 258348 222873]\n"
     ]
    }
   ],
   "source": [
    "# Getting the top 50 nodes\n",
    "top_50_nodes_gauss_seidel_1 = find_top_ranked_nodes(pagerank_vector_gauss_seidel_1)\n",
    "\n",
    "\n",
    "print(\n",
    "    f\"The top 50 nodes by solving the linear system are:\\n{top_50_nodes_gauss_seidel_1}\"\n",
    ")"
   ]
  },
  {
   "cell_type": "markdown",
   "metadata": {},
   "source": [
    "From the results above, we observe that both methods produce nearly identical rankings for the first 50 nodes/pages. Specifically, the differences are highlighted below"
   ]
  },
  {
   "cell_type": "code",
   "execution_count": 11,
   "metadata": {},
   "outputs": [
    {
     "name": "stdout",
     "output_type": "stream",
     "text": [
      "Number of different positions: 8\n",
      "At position 14: Power methos = 95163, Linear System = 272442\n",
      "At position 16: Power methos = 272442, Linear System = 95163\n",
      "At position 34: Power methos = 176790, Linear System = 221087\n",
      "At position 35: Power methos = 137632, Linear System = 183004\n",
      "At position 36: Power methos = 77999, Linear System = 176790\n",
      "At position 37: Power methos = 221087, Linear System = 137632\n",
      "At position 38: Power methos = 17781, Linear System = 77999\n",
      "At position 39: Power methos = 183004, Linear System = 17781\n",
      "\n",
      "Nodes in top-50 list of Power method which are not in the corresponding list of the linear system:\n",
      "[] (Total: 0)\n",
      "\n",
      "Nodes in top-50 list of linear system method which are not in the corresponding list of the Power method:\n",
      "[] (Total: 0)\n"
     ]
    }
   ],
   "source": [
    "# Getting the different positions\n",
    "different_positions = np.where(\n",
    "    top_50_nodes_power_method_1 != top_50_nodes_gauss_seidel_1\n",
    ")[0]\n",
    "\n",
    "print(f\"Number of different positions: {len(different_positions)}\")\n",
    "\n",
    "# Iterating\n",
    "for position in different_positions:\n",
    "\n",
    "    print(\n",
    "        f\"At position {position + 1}: Power methos = {top_50_nodes_power_method_1[position]}, Linear System = {top_50_nodes_gauss_seidel_1[position]}\"\n",
    "    )\n",
    "\n",
    "# Nodes in 'top_50_nodes_power_method_1' and not in 'top_50_nodes_gauss_seidel_1'\n",
    "nodes_1 = np.setdiff1d(top_50_nodes_power_method_1, top_50_nodes_gauss_seidel_1)\n",
    "\n",
    "# Nodes in 'top_50_nodes_gauss_seidel_1' and not in 'top_50_nodes_power_method_1'\n",
    "nodes_2 = np.setdiff1d(top_50_nodes_gauss_seidel_1, top_50_nodes_power_method_1)\n",
    "\n",
    "print(\n",
    "    f\"\\nNodes in top-50 list of Power method which are not in the corresponding list of the linear system:\\n{nodes_1} (Total: {len(nodes_1)})\\n\"\n",
    ")\n",
    "\n",
    "print(\n",
    "    f\"Nodes in top-50 list of linear system method which are not in the corresponding list of the Power method:\\n{nodes_2} (Total: {len(nodes_2)})\"\n",
    ")"
   ]
  },
  {
   "cell_type": "markdown",
   "metadata": {},
   "source": [
    "Define a function to evaluate the performance of each method in terms of the runtime to convergence and calculate the corresponding PageRank vector"
   ]
  },
  {
   "cell_type": "code",
   "execution_count": 12,
   "metadata": {},
   "outputs": [],
   "source": [
    "def test_speed(\n",
    "    method, transition_matrix, a_vector, alpha, stopping_criterion, iterations\n",
    "):\n",
    "    \"\"\"\n",
    "    This function is used to compute the average runtime of a method to converge\n",
    "\n",
    "    :param method: Which method to use\n",
    "    :param transition_matrix: The transition matrix\n",
    "    :param a_vector: A vector having 1 if it is corresponds to a node with no out links and 0 otherwise\n",
    "    :param alpha: The alpha parameter\n",
    "    :param stopping_criterion: the stopping criterion\n",
    "    :param iterations: The number of iterations\n",
    "    \"\"\"\n",
    "\n",
    "    # Initializing a variable keeping the runtimes\n",
    "    time_to_run = 0\n",
    "\n",
    "    # Checking which method to use\n",
    "    if method == \"power\":\n",
    "\n",
    "        # Testing 10 times\n",
    "        for test_iteration in range(10):\n",
    "\n",
    "            # Getting the start time\n",
    "            start_time = time.time()\n",
    "\n",
    "            # Executing the power method\n",
    "            _ = solve_power_method(\n",
    "                transition_matrix, a_vector, alpha, stopping_criterion, iterations\n",
    "            )\n",
    "\n",
    "            # Getting the end time\n",
    "            end_time = time.time()\n",
    "\n",
    "            # Updating\n",
    "            time_to_run += end_time - start_time\n",
    "\n",
    "        print(\n",
    "            f\"Power Method with alpha={alpha} and stopping criterion=1e-08 runs in: {time_to_run / 10:.4f}s.\"\n",
    "        )\n",
    "\n",
    "    else:\n",
    "\n",
    "        # Testing 10 times\n",
    "        for test_iteration in range(10):\n",
    "\n",
    "            # Getting the start time\n",
    "            start_time = time.time()\n",
    "\n",
    "            # Executing the method\n",
    "            _ = solve_system_gauss_seidel(\n",
    "                transition_matrix, alpha, stopping_criterion, iterations\n",
    "            )\n",
    "\n",
    "            # Getting the end time\n",
    "            end_time = time.time()\n",
    "\n",
    "            # Updating\n",
    "            time_to_run += end_time - start_time\n",
    "\n",
    "        print(\n",
    "            f\"Solving the system using Gauss Seidel with alpha={alpha} and stopping criterion=1e-08 runs in: {time_to_run / 10:.4f}s.\"\n",
    "        )"
   ]
  },
  {
   "cell_type": "markdown",
   "metadata": {},
   "source": [
    "Compute the average runtime of the Power method"
   ]
  },
  {
   "cell_type": "code",
   "execution_count": 13,
   "metadata": {},
   "outputs": [
    {
     "name": "stdout",
     "output_type": "stream",
     "text": [
      "Power Method with alpha=0.85 and stopping criterion=1e-08 runs in: 3.5023s.\n"
     ]
    }
   ],
   "source": [
    "test_speed(\"power\", transition_matrix, a_vector, 0.85, np.power(10.0, -8), 2000)"
   ]
  },
  {
   "cell_type": "markdown",
   "metadata": {},
   "source": [
    "Compute the average runtime by solving the linear system"
   ]
  },
  {
   "cell_type": "code",
   "execution_count": 14,
   "metadata": {},
   "outputs": [
    {
     "name": "stdout",
     "output_type": "stream",
     "text": [
      "Solving the system using Gauss Seidel with alpha=0.85 and stopping criterion=1e-08 runs in: 4.3413s.\n"
     ]
    }
   ],
   "source": [
    "test_speed(\"system\", transition_matrix, None, 0.85, np.power(10.0, -8), 2000)"
   ]
  },
  {
   "cell_type": "markdown",
   "metadata": {},
   "source": [
    "Additionally, the results show that the Power Method converges more slowly than the Linear System method, requiring 90 iterations compared to 62. However, in terms of execution time, the Power Method performs better, completing in approximately 3.50 seconds, whereas the Linear System method takes around 4.34 seconds"
   ]
  },
  {
   "cell_type": "markdown",
   "metadata": {},
   "source": [
    "### **• Task 2**\n",
    "\n",
    "<u>**Description**</u>\n",
    "\n",
    "**Do the previous task with $\\alpha = 0.99$. Your remarks on the convergence speed. Did the ranking of the first 50 nodes changed?**\n",
    "\n",
    "<u>**Solution**</u>"
   ]
  },
  {
   "cell_type": "markdown",
   "metadata": {},
   "source": [
    "Compute the PageRank vector using the Power method, with the alpha parameter set to 0.99 and a stopping criterion of $10^{-8}$"
   ]
  },
  {
   "cell_type": "code",
   "execution_count": 15,
   "metadata": {},
   "outputs": [
    {
     "name": "stdout",
     "output_type": "stream",
     "text": [
      "The power method with alpha=0.99 and stopping criterion=1e-08 converged at iteration 1385\n"
     ]
    }
   ],
   "source": [
    "# Executing the power method\n",
    "(\n",
    "    pagerank_vector_power_method_2,\n",
    "    iteration_power_method_2,\n",
    "    top_diffs_power_method_2,\n",
    "    bottom_diffs_power_method_2,\n",
    ") = solve_power_method(transition_matrix, a_vector, 0.99, np.power(10.0, -8), 2000)\n",
    "\n",
    "print(\n",
    "    f\"The power method with alpha=0.99 and stopping criterion=1e-08 converged at iteration {iteration_power_method_2}\"\n",
    ")"
   ]
  },
  {
   "cell_type": "code",
   "execution_count": 16,
   "metadata": {},
   "outputs": [
    {
     "name": "stdout",
     "output_type": "stream",
     "text": [
      "The top 50 nodes using the Power method are:\n",
      "[ 89073 281772 174665 226411 179645 271409 262860 136821  68889  77988\n",
      " 116530  95163 272442 251796  65580 119479 241454 245765  58048  14785\n",
      "  77084 117152 152337 181701 235496 247241 259455  62478 120708  77999\n",
      " 137632 176790  17781 183004 221087  96745 119822  27904 272762  96196\n",
      " 229580  95366 234962 169234 236644 144494  58612  49047 264187  85040]\n"
     ]
    }
   ],
   "source": [
    "# Getting the top 50 nodes\n",
    "top_50_nodes_power_method_2 = find_top_ranked_nodes(pagerank_vector_power_method_2)\n",
    "\n",
    "print(f\"The top 50 nodes using the Power method are:\\n{top_50_nodes_power_method_2}\")"
   ]
  },
  {
   "cell_type": "code",
   "execution_count": 17,
   "metadata": {},
   "outputs": [
    {
     "name": "stdout",
     "output_type": "stream",
     "text": [
      "Solving the system using Gauss Seidel with alpha=0.99 and stopping criterion=1e-08 converged at iteration 968\n"
     ]
    }
   ],
   "source": [
    "# Solving the system\n",
    "(\n",
    "    pagerank_vector_gauss_seidel_2,\n",
    "    iteration_gauss_seidel_2,\n",
    "    top_diffs_gauss_seidel_2,\n",
    "    bottom_diffs_gauss_seidel_2,\n",
    ") = solve_system_gauss_seidel(transition_matrix, 0.99, np.power(10.0, -8), 2000)\n",
    "\n",
    "print(\n",
    "    f\"Solving the system using Gauss Seidel with alpha=0.99 and stopping criterion=1e-08 converged at iteration {iteration_gauss_seidel_2}\"\n",
    ")"
   ]
  },
  {
   "cell_type": "code",
   "execution_count": 18,
   "metadata": {},
   "outputs": [
    {
     "name": "stdout",
     "output_type": "stream",
     "text": [
      "The top 50 nodes by solving the linear system are:\n",
      "[ 89073 281772 174665 226411 179645 271409 262860 136821  68889  77988\n",
      " 116530 272442 251796  95163  65580 119479 241454 245765  58048  14785\n",
      "  77084 117152 152337 181701 235496 259455 247241 120708  62478 221087\n",
      " 183004 176790 137632  77999  17781  96745 119822  27904 272762  96196\n",
      " 229580  95366 234962 169234  49047 137425 275885  58612  85040 236644]\n"
     ]
    }
   ],
   "source": [
    "# Getting the top 50 nodes\n",
    "top_50_nodes_gauss_seidel_2 = find_top_ranked_nodes(pagerank_vector_gauss_seidel_2)\n",
    "\n",
    "print(\n",
    "    f\"The top 50 nodes by solving the linear system are:\\n{top_50_nodes_gauss_seidel_2}\"\n",
    ")"
   ]
  },
  {
   "cell_type": "markdown",
   "metadata": {},
   "source": [
    "From the results above, we can observe again that both methods produce nearly identical rankings for the first 50 nodes/pages but with more differences than the previous task. Specifically, the differences are highlighted below"
   ]
  },
  {
   "cell_type": "code",
   "execution_count": 19,
   "metadata": {},
   "outputs": [
    {
     "name": "stdout",
     "output_type": "stream",
     "text": [
      "Number of different positions: 18\n",
      "At position 12: Power methos = 95163, Linear System = 272442\n",
      "At position 13: Power methos = 272442, Linear System = 251796\n",
      "At position 14: Power methos = 251796, Linear System = 95163\n",
      "At position 26: Power methos = 247241, Linear System = 259455\n",
      "At position 27: Power methos = 259455, Linear System = 247241\n",
      "At position 28: Power methos = 62478, Linear System = 120708\n",
      "At position 29: Power methos = 120708, Linear System = 62478\n",
      "At position 30: Power methos = 77999, Linear System = 221087\n",
      "At position 31: Power methos = 137632, Linear System = 183004\n",
      "At position 33: Power methos = 17781, Linear System = 137632\n",
      "At position 34: Power methos = 183004, Linear System = 77999\n",
      "At position 35: Power methos = 221087, Linear System = 17781\n",
      "At position 45: Power methos = 236644, Linear System = 49047\n",
      "At position 46: Power methos = 144494, Linear System = 137425\n",
      "At position 47: Power methos = 58612, Linear System = 275885\n",
      "At position 48: Power methos = 49047, Linear System = 58612\n",
      "At position 49: Power methos = 264187, Linear System = 85040\n",
      "At position 50: Power methos = 85040, Linear System = 236644\n",
      "\n",
      "Nodes in top-50 list of Power method which are not in the corresponding list of the linear system:\n",
      "[144494 264187] (Total: 2)\n",
      "\n",
      "Nodes in top-50 list of linear system method which are not in the corresponding list of the Power method:\n",
      "[137425 275885] (Total: 2)\n"
     ]
    }
   ],
   "source": [
    "# Getting the different positions\n",
    "different_positions = np.where(\n",
    "    top_50_nodes_power_method_2 != top_50_nodes_gauss_seidel_2\n",
    ")[0]\n",
    "\n",
    "print(f\"Number of different positions: {len(different_positions)}\")\n",
    "\n",
    "# Iterating\n",
    "for position in different_positions:\n",
    "\n",
    "    print(\n",
    "        f\"At position {position + 1}: Power methos = {top_50_nodes_power_method_2[position]}, Linear System = {top_50_nodes_gauss_seidel_2[position]}\"\n",
    "    )\n",
    "\n",
    "# Nodes in 'top_50_nodes_power_method_2' and not in 'top_50_nodes_gauss_seidel_2'\n",
    "nodes_1 = np.setdiff1d(top_50_nodes_power_method_2, top_50_nodes_gauss_seidel_2)\n",
    "\n",
    "# Nodes in 'top_50_nodes_gauss_seidel_2' and not in 'top_50_nodes_power_method_2'\n",
    "nodes_2 = np.setdiff1d(top_50_nodes_gauss_seidel_2, top_50_nodes_power_method_2)\n",
    "\n",
    "print(\n",
    "    f\"\\nNodes in top-50 list of Power method which are not in the corresponding list of the linear system:\\n{nodes_1} (Total: {len(nodes_1)})\\n\"\n",
    ")\n",
    "\n",
    "print(\n",
    "    f\"Nodes in top-50 list of linear system method which are not in the corresponding list of the Power method:\\n{nodes_2} (Total: {len(nodes_2)})\"\n",
    ")"
   ]
  },
  {
   "cell_type": "markdown",
   "metadata": {},
   "source": [
    "Now let's see what happened in the top-50 ranking between the two tasks"
   ]
  },
  {
   "cell_type": "code",
   "execution_count": 20,
   "metadata": {},
   "outputs": [
    {
     "data": {
      "text/html": [
       "<div>\n",
       "<style scoped>\n",
       "    .dataframe tbody tr th:only-of-type {\n",
       "        vertical-align: middle;\n",
       "    }\n",
       "\n",
       "    .dataframe tbody tr th {\n",
       "        vertical-align: top;\n",
       "    }\n",
       "\n",
       "    .dataframe thead th {\n",
       "        text-align: right;\n",
       "    }\n",
       "</style>\n",
       "<table border=\"1\" class=\"dataframe\">\n",
       "  <thead>\n",
       "    <tr style=\"text-align: right;\">\n",
       "      <th></th>\n",
       "      <th>Power Method - Alpha=0.85</th>\n",
       "      <th>Linear System - Alpha=0.85</th>\n",
       "      <th>Power Method - Alpha=0.99</th>\n",
       "      <th>Linear System Method - Alpha=0.99</th>\n",
       "    </tr>\n",
       "  </thead>\n",
       "  <tbody>\n",
       "    <tr>\n",
       "      <th>0</th>\n",
       "      <td>89073</td>\n",
       "      <td>89073</td>\n",
       "      <td>89073</td>\n",
       "      <td>89073</td>\n",
       "    </tr>\n",
       "    <tr>\n",
       "      <th>1</th>\n",
       "      <td>226411</td>\n",
       "      <td>226411</td>\n",
       "      <td>281772</td>\n",
       "      <td>281772</td>\n",
       "    </tr>\n",
       "    <tr>\n",
       "      <th>2</th>\n",
       "      <td>241454</td>\n",
       "      <td>241454</td>\n",
       "      <td>174665</td>\n",
       "      <td>174665</td>\n",
       "    </tr>\n",
       "    <tr>\n",
       "      <th>3</th>\n",
       "      <td>262860</td>\n",
       "      <td>262860</td>\n",
       "      <td>226411</td>\n",
       "      <td>226411</td>\n",
       "    </tr>\n",
       "    <tr>\n",
       "      <th>4</th>\n",
       "      <td>134832</td>\n",
       "      <td>134832</td>\n",
       "      <td>179645</td>\n",
       "      <td>179645</td>\n",
       "    </tr>\n",
       "    <tr>\n",
       "      <th>5</th>\n",
       "      <td>234704</td>\n",
       "      <td>234704</td>\n",
       "      <td>271409</td>\n",
       "      <td>271409</td>\n",
       "    </tr>\n",
       "    <tr>\n",
       "      <th>6</th>\n",
       "      <td>136821</td>\n",
       "      <td>136821</td>\n",
       "      <td>262860</td>\n",
       "      <td>262860</td>\n",
       "    </tr>\n",
       "    <tr>\n",
       "      <th>7</th>\n",
       "      <td>68889</td>\n",
       "      <td>68889</td>\n",
       "      <td>136821</td>\n",
       "      <td>136821</td>\n",
       "    </tr>\n",
       "    <tr>\n",
       "      <th>8</th>\n",
       "      <td>105607</td>\n",
       "      <td>105607</td>\n",
       "      <td>68889</td>\n",
       "      <td>68889</td>\n",
       "    </tr>\n",
       "    <tr>\n",
       "      <th>9</th>\n",
       "      <td>69358</td>\n",
       "      <td>69358</td>\n",
       "      <td>77988</td>\n",
       "      <td>77988</td>\n",
       "    </tr>\n",
       "    <tr>\n",
       "      <th>10</th>\n",
       "      <td>67756</td>\n",
       "      <td>67756</td>\n",
       "      <td>116530</td>\n",
       "      <td>116530</td>\n",
       "    </tr>\n",
       "    <tr>\n",
       "      <th>11</th>\n",
       "      <td>225872</td>\n",
       "      <td>225872</td>\n",
       "      <td>95163</td>\n",
       "      <td>272442</td>\n",
       "    </tr>\n",
       "    <tr>\n",
       "      <th>12</th>\n",
       "      <td>186750</td>\n",
       "      <td>186750</td>\n",
       "      <td>272442</td>\n",
       "      <td>251796</td>\n",
       "    </tr>\n",
       "    <tr>\n",
       "      <th>13</th>\n",
       "      <td>95163</td>\n",
       "      <td>272442</td>\n",
       "      <td>251796</td>\n",
       "      <td>95163</td>\n",
       "    </tr>\n",
       "    <tr>\n",
       "      <th>14</th>\n",
       "      <td>251796</td>\n",
       "      <td>251796</td>\n",
       "      <td>65580</td>\n",
       "      <td>65580</td>\n",
       "    </tr>\n",
       "    <tr>\n",
       "      <th>15</th>\n",
       "      <td>272442</td>\n",
       "      <td>95163</td>\n",
       "      <td>119479</td>\n",
       "      <td>119479</td>\n",
       "    </tr>\n",
       "    <tr>\n",
       "      <th>16</th>\n",
       "      <td>119479</td>\n",
       "      <td>119479</td>\n",
       "      <td>241454</td>\n",
       "      <td>241454</td>\n",
       "    </tr>\n",
       "    <tr>\n",
       "      <th>17</th>\n",
       "      <td>231363</td>\n",
       "      <td>231363</td>\n",
       "      <td>245765</td>\n",
       "      <td>245765</td>\n",
       "    </tr>\n",
       "    <tr>\n",
       "      <th>18</th>\n",
       "      <td>55788</td>\n",
       "      <td>55788</td>\n",
       "      <td>58048</td>\n",
       "      <td>58048</td>\n",
       "    </tr>\n",
       "    <tr>\n",
       "      <th>19</th>\n",
       "      <td>167295</td>\n",
       "      <td>167295</td>\n",
       "      <td>14785</td>\n",
       "      <td>14785</td>\n",
       "    </tr>\n",
       "    <tr>\n",
       "      <th>20</th>\n",
       "      <td>179645</td>\n",
       "      <td>179645</td>\n",
       "      <td>77084</td>\n",
       "      <td>77084</td>\n",
       "    </tr>\n",
       "    <tr>\n",
       "      <th>21</th>\n",
       "      <td>38342</td>\n",
       "      <td>38342</td>\n",
       "      <td>117152</td>\n",
       "      <td>117152</td>\n",
       "    </tr>\n",
       "    <tr>\n",
       "      <th>22</th>\n",
       "      <td>117152</td>\n",
       "      <td>117152</td>\n",
       "      <td>152337</td>\n",
       "      <td>152337</td>\n",
       "    </tr>\n",
       "    <tr>\n",
       "      <th>23</th>\n",
       "      <td>198090</td>\n",
       "      <td>198090</td>\n",
       "      <td>181701</td>\n",
       "      <td>181701</td>\n",
       "    </tr>\n",
       "    <tr>\n",
       "      <th>24</th>\n",
       "      <td>60210</td>\n",
       "      <td>60210</td>\n",
       "      <td>235496</td>\n",
       "      <td>235496</td>\n",
       "    </tr>\n",
       "    <tr>\n",
       "      <th>25</th>\n",
       "      <td>235496</td>\n",
       "      <td>235496</td>\n",
       "      <td>247241</td>\n",
       "      <td>259455</td>\n",
       "    </tr>\n",
       "    <tr>\n",
       "      <th>26</th>\n",
       "      <td>132695</td>\n",
       "      <td>132695</td>\n",
       "      <td>259455</td>\n",
       "      <td>247241</td>\n",
       "    </tr>\n",
       "    <tr>\n",
       "      <th>27</th>\n",
       "      <td>181701</td>\n",
       "      <td>181701</td>\n",
       "      <td>62478</td>\n",
       "      <td>120708</td>\n",
       "    </tr>\n",
       "    <tr>\n",
       "      <th>28</th>\n",
       "      <td>259455</td>\n",
       "      <td>259455</td>\n",
       "      <td>120708</td>\n",
       "      <td>62478</td>\n",
       "    </tr>\n",
       "    <tr>\n",
       "      <th>29</th>\n",
       "      <td>247241</td>\n",
       "      <td>247241</td>\n",
       "      <td>77999</td>\n",
       "      <td>221087</td>\n",
       "    </tr>\n",
       "    <tr>\n",
       "      <th>30</th>\n",
       "      <td>120708</td>\n",
       "      <td>120708</td>\n",
       "      <td>137632</td>\n",
       "      <td>183004</td>\n",
       "    </tr>\n",
       "    <tr>\n",
       "      <th>31</th>\n",
       "      <td>62478</td>\n",
       "      <td>62478</td>\n",
       "      <td>176790</td>\n",
       "      <td>176790</td>\n",
       "    </tr>\n",
       "    <tr>\n",
       "      <th>32</th>\n",
       "      <td>161890</td>\n",
       "      <td>161890</td>\n",
       "      <td>17781</td>\n",
       "      <td>137632</td>\n",
       "    </tr>\n",
       "    <tr>\n",
       "      <th>33</th>\n",
       "      <td>176790</td>\n",
       "      <td>221087</td>\n",
       "      <td>183004</td>\n",
       "      <td>77999</td>\n",
       "    </tr>\n",
       "    <tr>\n",
       "      <th>34</th>\n",
       "      <td>137632</td>\n",
       "      <td>183004</td>\n",
       "      <td>221087</td>\n",
       "      <td>17781</td>\n",
       "    </tr>\n",
       "    <tr>\n",
       "      <th>35</th>\n",
       "      <td>77999</td>\n",
       "      <td>176790</td>\n",
       "      <td>96745</td>\n",
       "      <td>96745</td>\n",
       "    </tr>\n",
       "    <tr>\n",
       "      <th>36</th>\n",
       "      <td>221087</td>\n",
       "      <td>137632</td>\n",
       "      <td>119822</td>\n",
       "      <td>119822</td>\n",
       "    </tr>\n",
       "    <tr>\n",
       "      <th>37</th>\n",
       "      <td>17781</td>\n",
       "      <td>77999</td>\n",
       "      <td>27904</td>\n",
       "      <td>27904</td>\n",
       "    </tr>\n",
       "    <tr>\n",
       "      <th>38</th>\n",
       "      <td>183004</td>\n",
       "      <td>17781</td>\n",
       "      <td>272762</td>\n",
       "      <td>272762</td>\n",
       "    </tr>\n",
       "    <tr>\n",
       "      <th>39</th>\n",
       "      <td>96745</td>\n",
       "      <td>96745</td>\n",
       "      <td>96196</td>\n",
       "      <td>96196</td>\n",
       "    </tr>\n",
       "    <tr>\n",
       "      <th>40</th>\n",
       "      <td>112742</td>\n",
       "      <td>112742</td>\n",
       "      <td>229580</td>\n",
       "      <td>229580</td>\n",
       "    </tr>\n",
       "    <tr>\n",
       "      <th>41</th>\n",
       "      <td>145892</td>\n",
       "      <td>145892</td>\n",
       "      <td>95366</td>\n",
       "      <td>95366</td>\n",
       "    </tr>\n",
       "    <tr>\n",
       "      <th>42</th>\n",
       "      <td>151428</td>\n",
       "      <td>151428</td>\n",
       "      <td>234962</td>\n",
       "      <td>234962</td>\n",
       "    </tr>\n",
       "    <tr>\n",
       "      <th>43</th>\n",
       "      <td>81435</td>\n",
       "      <td>81435</td>\n",
       "      <td>169234</td>\n",
       "      <td>169234</td>\n",
       "    </tr>\n",
       "    <tr>\n",
       "      <th>44</th>\n",
       "      <td>60440</td>\n",
       "      <td>60440</td>\n",
       "      <td>236644</td>\n",
       "      <td>49047</td>\n",
       "    </tr>\n",
       "    <tr>\n",
       "      <th>45</th>\n",
       "      <td>208542</td>\n",
       "      <td>208542</td>\n",
       "      <td>144494</td>\n",
       "      <td>137425</td>\n",
       "    </tr>\n",
       "    <tr>\n",
       "      <th>46</th>\n",
       "      <td>91</td>\n",
       "      <td>91</td>\n",
       "      <td>58612</td>\n",
       "      <td>275885</td>\n",
       "    </tr>\n",
       "    <tr>\n",
       "      <th>47</th>\n",
       "      <td>214128</td>\n",
       "      <td>214128</td>\n",
       "      <td>49047</td>\n",
       "      <td>58612</td>\n",
       "    </tr>\n",
       "    <tr>\n",
       "      <th>48</th>\n",
       "      <td>258348</td>\n",
       "      <td>258348</td>\n",
       "      <td>264187</td>\n",
       "      <td>85040</td>\n",
       "    </tr>\n",
       "    <tr>\n",
       "      <th>49</th>\n",
       "      <td>222873</td>\n",
       "      <td>222873</td>\n",
       "      <td>85040</td>\n",
       "      <td>236644</td>\n",
       "    </tr>\n",
       "  </tbody>\n",
       "</table>\n",
       "</div>"
      ],
      "text/plain": [
       "    Power Method - Alpha=0.85  Linear System - Alpha=0.85  \\\n",
       "0                       89073                       89073   \n",
       "1                      226411                      226411   \n",
       "2                      241454                      241454   \n",
       "3                      262860                      262860   \n",
       "4                      134832                      134832   \n",
       "5                      234704                      234704   \n",
       "6                      136821                      136821   \n",
       "7                       68889                       68889   \n",
       "8                      105607                      105607   \n",
       "9                       69358                       69358   \n",
       "10                      67756                       67756   \n",
       "11                     225872                      225872   \n",
       "12                     186750                      186750   \n",
       "13                      95163                      272442   \n",
       "14                     251796                      251796   \n",
       "15                     272442                       95163   \n",
       "16                     119479                      119479   \n",
       "17                     231363                      231363   \n",
       "18                      55788                       55788   \n",
       "19                     167295                      167295   \n",
       "20                     179645                      179645   \n",
       "21                      38342                       38342   \n",
       "22                     117152                      117152   \n",
       "23                     198090                      198090   \n",
       "24                      60210                       60210   \n",
       "25                     235496                      235496   \n",
       "26                     132695                      132695   \n",
       "27                     181701                      181701   \n",
       "28                     259455                      259455   \n",
       "29                     247241                      247241   \n",
       "30                     120708                      120708   \n",
       "31                      62478                       62478   \n",
       "32                     161890                      161890   \n",
       "33                     176790                      221087   \n",
       "34                     137632                      183004   \n",
       "35                      77999                      176790   \n",
       "36                     221087                      137632   \n",
       "37                      17781                       77999   \n",
       "38                     183004                       17781   \n",
       "39                      96745                       96745   \n",
       "40                     112742                      112742   \n",
       "41                     145892                      145892   \n",
       "42                     151428                      151428   \n",
       "43                      81435                       81435   \n",
       "44                      60440                       60440   \n",
       "45                     208542                      208542   \n",
       "46                         91                          91   \n",
       "47                     214128                      214128   \n",
       "48                     258348                      258348   \n",
       "49                     222873                      222873   \n",
       "\n",
       "    Power Method - Alpha=0.99  Linear System Method - Alpha=0.99  \n",
       "0                       89073                              89073  \n",
       "1                      281772                             281772  \n",
       "2                      174665                             174665  \n",
       "3                      226411                             226411  \n",
       "4                      179645                             179645  \n",
       "5                      271409                             271409  \n",
       "6                      262860                             262860  \n",
       "7                      136821                             136821  \n",
       "8                       68889                              68889  \n",
       "9                       77988                              77988  \n",
       "10                     116530                             116530  \n",
       "11                      95163                             272442  \n",
       "12                     272442                             251796  \n",
       "13                     251796                              95163  \n",
       "14                      65580                              65580  \n",
       "15                     119479                             119479  \n",
       "16                     241454                             241454  \n",
       "17                     245765                             245765  \n",
       "18                      58048                              58048  \n",
       "19                      14785                              14785  \n",
       "20                      77084                              77084  \n",
       "21                     117152                             117152  \n",
       "22                     152337                             152337  \n",
       "23                     181701                             181701  \n",
       "24                     235496                             235496  \n",
       "25                     247241                             259455  \n",
       "26                     259455                             247241  \n",
       "27                      62478                             120708  \n",
       "28                     120708                              62478  \n",
       "29                      77999                             221087  \n",
       "30                     137632                             183004  \n",
       "31                     176790                             176790  \n",
       "32                      17781                             137632  \n",
       "33                     183004                              77999  \n",
       "34                     221087                              17781  \n",
       "35                      96745                              96745  \n",
       "36                     119822                             119822  \n",
       "37                      27904                              27904  \n",
       "38                     272762                             272762  \n",
       "39                      96196                              96196  \n",
       "40                     229580                             229580  \n",
       "41                      95366                              95366  \n",
       "42                     234962                             234962  \n",
       "43                     169234                             169234  \n",
       "44                     236644                              49047  \n",
       "45                     144494                             137425  \n",
       "46                      58612                             275885  \n",
       "47                      49047                              58612  \n",
       "48                     264187                              85040  \n",
       "49                      85040                             236644  "
      ]
     },
     "execution_count": 20,
     "metadata": {},
     "output_type": "execute_result"
    }
   ],
   "source": [
    "# Forming a dataframe with all the top-50 nodes\n",
    "top_50_nodes = pd.DataFrame(\n",
    "    {\n",
    "        \"Power Method - Alpha=0.85\": top_50_nodes_power_method_1,\n",
    "        \"Linear System - Alpha=0.85\": top_50_nodes_gauss_seidel_1,\n",
    "        \"Power Method - Alpha=0.99\": top_50_nodes_power_method_2,\n",
    "        \"Linear System Method - Alpha=0.99\": top_50_nodes_gauss_seidel_2,\n",
    "    }\n",
    ")\n",
    "\n",
    "# Showing\n",
    "top_50_nodes"
   ]
  },
  {
   "cell_type": "markdown",
   "metadata": {},
   "source": [
    "After analyzing the results above, we observe that the rankings differ significantly between the two alpha values (0.85 and 0.99) across both methods, although the internal similarities within each method remain higher, as previously noted"
   ]
  },
  {
   "cell_type": "markdown",
   "metadata": {},
   "source": [
    "Compute the average runtime of the Power method"
   ]
  },
  {
   "cell_type": "code",
   "execution_count": 54,
   "metadata": {},
   "outputs": [
    {
     "name": "stdout",
     "output_type": "stream",
     "text": [
      "Power Method with alpha=0.99 and stopping criterion=1e-08 runs in: 66.5504s.\n"
     ]
    }
   ],
   "source": [
    "test_speed(\"power\", transition_matrix, a_vector, 0.99, np.power(10.0, -8), 2000)"
   ]
  },
  {
   "cell_type": "markdown",
   "metadata": {},
   "source": [
    "Compute the average runtime by solving the linear system"
   ]
  },
  {
   "cell_type": "code",
   "execution_count": 55,
   "metadata": {},
   "outputs": [
    {
     "name": "stdout",
     "output_type": "stream",
     "text": [
      "Solving the system using Gauss Seidel with alpha=0.99 and stopping criterion=1e-08 runs in: 57.6454s.\n"
     ]
    }
   ],
   "source": [
    "test_speed(\"system\", transition_matrix, None, 0.99, np.power(10.0, -8), 2000)"
   ]
  },
  {
   "cell_type": "markdown",
   "metadata": {},
   "source": [
    "Additionally, the results show that both methods converge more slowly than before, which is expected due to the increased alpha value. Once again, the Power Method converges more slowly than the Linear System method, requiring 1385 iterations compared to 968. In terms of execution time, the Power Method does not remain faster, completing in approximately 66.55 seconds, while the Linear System method takes around 57.64 seconds"
   ]
  },
  {
   "cell_type": "markdown",
   "metadata": {},
   "source": [
    "### **• Task 3**\n",
    "\n",
    "<u>**Description**</u>\n",
    "\n",
    "**When we use the power method do all the components of $\\pi$ converge at the same speed to their limits? If not which of the converge faster: those that correspond to important nodes or to non important? Do you observe the same behavior when you find $\\pi$ through the solution of the linear system?**\n",
    "\n",
    "<u>**Solution**</u>"
   ]
  },
  {
   "cell_type": "markdown",
   "metadata": {},
   "source": [
    "To address this task, I tracked the number of changes in the top 50 (important) and bottom 50 (less important) pages/nodes during each iteration for both methods. This allowed me to observe how quickly the important and non-important nodes converge to their final rankings, even before the overall method has fully converged. This approach highlights the iteration at which changes become minimal or reach zero"
   ]
  },
  {
   "cell_type": "markdown",
   "metadata": {},
   "source": [
    "Define a function to normalize the data in a given list of node changes using the min-max normalization"
   ]
  },
  {
   "cell_type": "code",
   "execution_count": 21,
   "metadata": {},
   "outputs": [],
   "source": [
    "def normalize(node_changes):\n",
    "    \"\"\"\n",
    "    This function is used to normalize the data for a given list of node changes\n",
    "\n",
    "    :param node_changes: A list with node changes\n",
    "    :return: A normalized form\n",
    "    \"\"\"\n",
    "\n",
    "    # Converting to array\n",
    "    node_changes = np.array(node_changes)\n",
    "\n",
    "    # Normalizing (min-max normalization)\n",
    "    normalized_node_changes = (node_changes - node_changes.min()) / (\n",
    "        node_changes.max() - node_changes.min()\n",
    "    )\n",
    "\n",
    "    return normalized_node_changes"
   ]
  },
  {
   "cell_type": "markdown",
   "metadata": {},
   "source": [
    "Define a function to visualize the changes in the top and bottom 50 pages/nodes during each iteration for both methods"
   ]
  },
  {
   "cell_type": "code",
   "execution_count": 22,
   "metadata": {},
   "outputs": [],
   "source": [
    "def visualize_convergence(\n",
    "    top_power_method,\n",
    "    bottom_power_method,\n",
    "    top_gauss_seidel,\n",
    "    bottom_gauss_seidel,\n",
    "    alpha,\n",
    "    step,\n",
    "):\n",
    "    \"\"\"\n",
    "    This function is used to show the changes in top and bottom 50 nodes for both methods.\n",
    "\n",
    "    :param top_power_method: The changes in the top 50 nodes from the power method\n",
    "    :param bottom_power_method: The changes in the bottom 50 nodes from the power method\n",
    "    :param top_gauss_seidel: The changes in the top 50 nodes from the linear system method\n",
    "    :param bottom_gauss_seidel: The changes in the bottom 50 nodes from the linear system method\n",
    "    :param alpha: The parameter alpha\n",
    "    :param step: The step for the x-axis\n",
    "    :return: None\n",
    "    \"\"\"\n",
    "\n",
    "    # Getting the x-axis values\n",
    "    x_axis_power_method = np.arange(1, len(top_power_method) + 1)\n",
    "    x_axis_gauss_seidel = np.arange(1, len(top_gauss_seidel) + 1)\n",
    "\n",
    "    # Creating two subplots\n",
    "    fig, axs = plt.subplots(1, 2, figsize=(20, 6), sharey=True)\n",
    "\n",
    "    # Plotting for the power method\n",
    "    axs[0].plot(x_axis_power_method, top_power_method, label=\"Top 50\", color=\"blue\")\n",
    "    axs[0].plot(\n",
    "        x_axis_power_method, bottom_power_method, label=\"Bottom 50\", color=\"orange\"\n",
    "    )\n",
    "\n",
    "    # Setting some plot parameters\n",
    "    axs[0].set_title(\"Power Method\")\n",
    "    axs[0].set_xlabel(\"Iteration\")\n",
    "    axs[0].set_ylabel(\"Changes\")\n",
    "    axs[0].set_xticks(np.arange(0, len(x_axis_power_method) + 1, step))\n",
    "    axs[0].legend()\n",
    "    axs[0].grid(True)\n",
    "\n",
    "    # Plotting for the linear system method (gauss seidel)\n",
    "    axs[1].plot(x_axis_gauss_seidel, top_gauss_seidel, label=\"Top 50\", color=\"blue\")\n",
    "    axs[1].plot(\n",
    "        x_axis_gauss_seidel, bottom_gauss_seidel, label=\"Bottom 50\", color=\"orange\"\n",
    "    )\n",
    "\n",
    "    # Setting some plot parameters\n",
    "    axs[1].set_title(\"Linear System Method - Gauss Seidel\")\n",
    "    axs[1].set_xlabel(\"Iteration\")\n",
    "    axs[1].set_xticks(np.arange(0, len(x_axis_gauss_seidel) + 1, step))\n",
    "    axs[1].legend()\n",
    "    axs[1].grid(True)\n",
    "\n",
    "    # Adding atitle\n",
    "    fig.suptitle(\n",
    "        f\"Top-Bottom 50 Node Changes Over Iterations with alpha={alpha}\", fontsize=16\n",
    "    )\n",
    "\n",
    "    # Showing the plots\n",
    "    plt.tight_layout()\n",
    "    plt.show()"
   ]
  },
  {
   "cell_type": "markdown",
   "metadata": {},
   "source": [
    "**• Case 1 - Alpha Parameter = 0.85**"
   ]
  },
  {
   "cell_type": "markdown",
   "metadata": {},
   "source": [
    "Normalize the data"
   ]
  },
  {
   "cell_type": "code",
   "execution_count": 23,
   "metadata": {},
   "outputs": [],
   "source": [
    "# Normalizing\n",
    "top_power_method_1 = normalize(top_diffs_power_method_1)\n",
    "bottom_power_method_1 = normalize(bottom_diffs_power_method_1)\n",
    "top_gauss_seidel_1 = normalize(top_diffs_gauss_seidel_1)\n",
    "bottom_gauss_seidel_1 = normalize(bottom_diffs_gauss_seidel_1)"
   ]
  },
  {
   "cell_type": "markdown",
   "metadata": {},
   "source": [
    "Visualize"
   ]
  },
  {
   "cell_type": "code",
   "execution_count": 24,
   "metadata": {},
   "outputs": [
    {
     "data": {
      "image/png": "[encoded data removed]",
      "text/plain": [
       "<Figure size 2000x600 with 2 Axes>"
      ]
     },
     "metadata": {},
     "output_type": "display_data"
    }
   ],
   "source": [
    "# Showing the changes\n",
    "visualize_convergence(\n",
    "    top_power_method_1,\n",
    "    bottom_power_method_1,\n",
    "    top_gauss_seidel_1,\n",
    "    bottom_gauss_seidel_1,\n",
    "    0.85,\n",
    "    20,\n",
    ")"
   ]
  },
  {
   "cell_type": "markdown",
   "metadata": {},
   "source": [
    "From the charts above, we can observe that in both methods, the most important nodes converge faster than the less important ones. The changes in the top 50 pages drop to zero after a certain number of iterations, indicating that they have reached their final positions in the overall PageRank vector"
   ]
  },
  {
   "cell_type": "markdown",
   "metadata": {},
   "source": [
    "**• Case 1 - Alpha Parameter = 0.99**"
   ]
  },
  {
   "cell_type": "markdown",
   "metadata": {},
   "source": [
    "Normalize the data"
   ]
  },
  {
   "cell_type": "code",
   "execution_count": 25,
   "metadata": {},
   "outputs": [],
   "source": [
    "# Normalizing\n",
    "top_power_method_2 = normalize(top_diffs_power_method_2)\n",
    "bottom_power_method_2 = normalize(bottom_diffs_power_method_2)\n",
    "top_gauss_seidel_2 = normalize(top_diffs_gauss_seidel_2)\n",
    "bottom_gauss_seidel_2 = normalize(bottom_diffs_gauss_seidel_2)"
   ]
  },
  {
   "cell_type": "markdown",
   "metadata": {},
   "source": [
    "Visualize"
   ]
  },
  {
   "cell_type": "code",
   "execution_count": 26,
   "metadata": {},
   "outputs": [
    {
     "data": {
      "image/png": "[encoded data removed]",
      "text/plain": [
       "<Figure size 2000x600 with 2 Axes>"
      ]
     },
     "metadata": {},
     "output_type": "display_data"
    }
   ],
   "source": [
    "# Showing the changes\n",
    "visualize_convergence(\n",
    "    top_power_method_2,\n",
    "    bottom_power_method_2,\n",
    "    top_gauss_seidel_2,\n",
    "    bottom_gauss_seidel_2,\n",
    "    0.99,\n",
    "    100\n",
    ")"
   ]
  },
  {
   "cell_type": "markdown",
   "metadata": {},
   "source": [
    "In the case where the alpha parameter is set to 0.99, both methods show that changes in the top 50 nodes remain consistently lower than those in the bottom 50 nodes throughout all iterations, though they do not drop to zero as observed in the previous case. Interestingly, unlike before, the Power Method shows faster convergence among the bottom 50 nodes, while in the Linear System method, the top 50 (more important) nodes appear to converge faster, as their changes remain minimal across most iterations compared to the less important ones."
   ]
  },
  {
   "cell_type": "markdown",
   "metadata": {},
   "source": [
    "### **Part 2**"
   ]
  },
  {
   "cell_type": "markdown",
   "metadata": {},
   "source": [
    "### **• Task 1**\n",
    "\n",
    "<u>**Description**</u>\n",
    "\n",
    "**You now create a new web page $X$ (thus adding a node to the web graph). $X$ has neither in-links, nor out-links. Let $\\tilde{\\pi} = (\\tilde{\\pi}_1, \\tilde{\\pi}_2, \\ldots \\tilde{\\pi}_n)$ denote the vector of new PageRanks of the $n$ old web pages, and $x$ denote the new PageRank of page $X$: In other words, $(\\tilde{\\pi}_1, \\tilde{\\pi}_2, \\ldots, \\tilde{\\pi}_n, x)$ is the PageRank vector of the new web graph. Write $\\tilde{\\pi}$ and $x$ in terms of $\\pi$: Comment on how the PageRanks of the older pages changed due to the addition of the new page (remember $n$ is a very large number). Hint: Use the stationary equations to calculate PageRank, not the iterative approach.**\n",
    "\n",
    "<u>**Solution**</u>"
   ]
  },
  {
   "cell_type": "markdown",
   "metadata": {},
   "source": [
    "Form the new transition matrix adding the new page X"
   ]
  },
  {
   "cell_type": "code",
   "execution_count": 27,
   "metadata": {},
   "outputs": [],
   "source": [
    "# Getting the rows of the initial transition matrix\n",
    "shape_0 = transition_matrix.shape[0]\n",
    "\n",
    "# Setting no in-links for the X page\n",
    "new_column_x = csr_matrix((shape_0, 1))\n",
    "\n",
    "# Appending\n",
    "transition_matrix_2 = hstack([transition_matrix, new_column_x], format='csr')\n",
    "\n",
    "# Creating a new row with a 1 at the X page (link with X)\n",
    "new_row_x = np.zeros(shape_0 + 1)\n",
    "new_row_x[-1] = 1\n",
    "\n",
    "# Appending\n",
    "transition_matrix_2 = vstack([transition_matrix_2, csr_matrix(new_row_x)], format='csr')"
   ]
  },
  {
   "cell_type": "markdown",
   "metadata": {},
   "source": [
    "Recompute the a vector having 1 if it is corresponds to a node with no out links and 0 otherwise"
   ]
  },
  {
   "cell_type": "code",
   "execution_count": 28,
   "metadata": {},
   "outputs": [],
   "source": [
    "# Building the a vector (1 or 0)\n",
    "out_links_2 = np.asarray(transition_matrix_2.sum(axis=0)).flatten()\n",
    "a_vector_2 = (out_links_2 == 0).astype(int)"
   ]
  },
  {
   "cell_type": "markdown",
   "metadata": {},
   "source": [
    "Compute the new PageRank using the power method with alpha equals to 0.85 and stopping criterion equals to $10^{-8}$"
   ]
  },
  {
   "cell_type": "code",
   "execution_count": 29,
   "metadata": {},
   "outputs": [
    {
     "name": "stdout",
     "output_type": "stream",
     "text": [
      "The power method with alpha=0.85 and stopping criterion=1e-08 converged at iteration 90\n"
     ]
    }
   ],
   "source": [
    "# Executing the power method\n",
    "pagerank_vector_power_method_3, iteration_power_method_3, _, _ = solve_power_method(\n",
    "    transition_matrix_2, a_vector_2, 0.85, np.power(10.0, -8), 2000\n",
    ")\n",
    "\n",
    "print(\n",
    "    f\"The power method with alpha=0.85 and stopping criterion=1e-08 converged at iteration {iteration_power_method_3}\"\n",
    ")"
   ]
  },
  {
   "cell_type": "markdown",
   "metadata": {},
   "source": [
    "Find the rank of the new page X"
   ]
  },
  {
   "cell_type": "code",
   "execution_count": 30,
   "metadata": {},
   "outputs": [
    {
     "name": "stdout",
     "output_type": "stream",
     "text": [
      "The rank of the new page X is: 49282\n"
     ]
    }
   ],
   "source": [
    "# Sorting\n",
    "sorted_ranks = (np.argsort(-pagerank_vector_power_method_3.flatten()))\n",
    "\n",
    "# Finding the rank of the page x\n",
    "rank_x = np.where(sorted_ranks == shape_0)[0][0]\n",
    "\n",
    "print(f\"The rank of the new page X is: {rank_x}\")"
   ]
  },
  {
   "cell_type": "markdown",
   "metadata": {},
   "source": [
    "Find the top 50 nodes based on the new PageRank"
   ]
  },
  {
   "cell_type": "code",
   "execution_count": 31,
   "metadata": {},
   "outputs": [
    {
     "name": "stdout",
     "output_type": "stream",
     "text": [
      "The top 50 nodes based on the new PageRank are:\n",
      "[ 89073 226411 241454 262860 134832 234704 136821  68889 105607  69358\n",
      "  67756 225872 186750 251796 272442  95163 119479 231363  55788 167295\n",
      " 179645  38342 117152 198090  60210 235496 132695 181701 259455 247241\n",
      "  62478 120708 161890 183004 221087 176790  77999 137632  17781  96745\n",
      " 112742 145892 151428  81435  60440 208542     91 214128 258348 222873]\n",
      "\n",
      "The previous top 50 nodes before adding the page X are:\n",
      "[ 89073 226411 241454 262860 134832 234704 136821  68889 105607  69358\n",
      "  67756 225872 186750  95163 251796 272442 119479 231363  55788 167295\n",
      " 179645  38342 117152 198090  60210 235496 132695 181701 259455 247241\n",
      " 120708  62478 161890 176790 137632  77999 221087  17781 183004  96745\n",
      " 112742 145892 151428  81435  60440 208542     91 214128 258348 222873]\n"
     ]
    }
   ],
   "source": [
    "# Getting the new top 50 nodes\n",
    "top_50_nodes_power_method_3 = find_top_ranked_nodes(pagerank_vector_power_method_3)\n",
    "\n",
    "print(\n",
    "    f\"The top 50 nodes based on the new PageRank are:\\n{top_50_nodes_power_method_3}\\n\"\n",
    ")\n",
    "\n",
    "print(\n",
    "    f\"The previous top 50 nodes before adding the page X are:\\n{top_50_nodes_power_method_1}\"\n",
    ")"
   ]
  },
  {
   "cell_type": "markdown",
   "metadata": {},
   "source": [
    "As observed from the results above, some pages have different rankings in the updated PageRank. Below, we provide a detailed view of the rank changes for the first 50 nodes"
   ]
  },
  {
   "cell_type": "code",
   "execution_count": 32,
   "metadata": {},
   "outputs": [
    {
     "name": "stdout",
     "output_type": "stream",
     "text": [
      "Node 95163 moved from rank 14 to index 16\n",
      "Node 251796 moved from rank 15 to index 14\n",
      "Node 272442 moved from rank 16 to index 15\n",
      "Node 120708 moved from rank 31 to index 32\n",
      "Node 62478 moved from rank 32 to index 31\n",
      "Node 176790 moved from rank 34 to index 36\n",
      "Node 137632 moved from rank 35 to index 38\n",
      "Node 77999 moved from rank 36 to index 37\n",
      "Node 221087 moved from rank 37 to index 35\n",
      "Node 17781 moved from rank 38 to index 39\n",
      "Node 183004 moved from rank 39 to index 34\n"
     ]
    }
   ],
   "source": [
    "# Iterating over the initial top 50 nodes\n",
    "for rank, node in enumerate(top_50_nodes_power_method_1):\n",
    "\n",
    "    # Finding the rank of the current node in the new top 50 nodes\n",
    "    new_rank = np.where(top_50_nodes_power_method_3 == node)[0][0]\n",
    "\n",
    "    # Checking if it is different        \n",
    "    if new_rank != rank:\n",
    "\n",
    "        print(f\"Node {node} moved from rank {rank + 1} to index {new_rank + 1}\")"
   ]
  },
  {
   "cell_type": "markdown",
   "metadata": {},
   "source": [
    "Compare the changes in the overall ranking to the PageRank results before adding page X"
   ]
  },
  {
   "cell_type": "code",
   "execution_count": 33,
   "metadata": {},
   "outputs": [
    {
     "name": "stdout",
     "output_type": "stream",
     "text": [
      "Number of different positions: 55178\n"
     ]
    }
   ],
   "source": [
    "# Sorting\n",
    "sorted_previous_ranks = np.argsort(-pagerank_vector_power_method_1.flatten())\n",
    "sorted_new_ranks_without_x = np.argsort(\n",
    "    -pagerank_vector_power_method_3[: len(pagerank_vector_power_method_1)].flatten()\n",
    ")\n",
    "\n",
    "# Getting the different positions\n",
    "different_positions = np.where(sorted_new_ranks_without_x != sorted_previous_ranks)[0]\n",
    "\n",
    "print(f\"Number of different positions: {len(different_positions)}\")"
   ]
  },
  {
   "cell_type": "markdown",
   "metadata": {},
   "source": [
    "### **• Task 2**\n",
    "\n",
    "<u>**Description**</u>\n",
    "\n",
    "**Unsatisfied with the PageRank of your page $X$; you create another page $Y$ (with no in-links) that links to $X$: What are the PageRanks of all the $n + 2$ pages now? Does the PageRank of $X$ improve?**\n",
    "\n",
    "<u>**Solution**</u>"
   ]
  },
  {
   "cell_type": "markdown",
   "metadata": {},
   "source": [
    "Form the new transition matrix adding the new page Y"
   ]
  },
  {
   "cell_type": "code",
   "execution_count": 34,
   "metadata": {},
   "outputs": [],
   "source": [
    "# Setting no in-links for the page Y\n",
    "new_column_y = csr_matrix((shape_0 + 1, 1))\n",
    "\n",
    "# Appending\n",
    "transition_matrix_3 = hstack([transition_matrix_2, new_column_y], format='csr')\n",
    "\n",
    "# Y links to X only\n",
    "new_row_y = np.zeros(shape_0 + 2)\n",
    "new_row_y[shape_0] = 1\n",
    "\n",
    "# Appending\n",
    "transition_matrix_3 = vstack([transition_matrix_3, csr_matrix(new_row_y)], format='csr')"
   ]
  },
  {
   "cell_type": "markdown",
   "metadata": {},
   "source": [
    "Recompute the a vector having 1 if it is corresponds to a node with no out links and 0 otherwise"
   ]
  },
  {
   "cell_type": "code",
   "execution_count": 35,
   "metadata": {},
   "outputs": [],
   "source": [
    "# Building the a vector (1 or 0)\n",
    "out_links_3 = np.asarray(transition_matrix_3.sum(axis=0)).flatten()\n",
    "a_vector_3 = (out_links_3 == 0).astype(int)"
   ]
  },
  {
   "cell_type": "markdown",
   "metadata": {},
   "source": [
    "Compute the new PageRank using the power method with alpha equals to 0.85 and stopping criterion equals to $10^{-8}$"
   ]
  },
  {
   "cell_type": "code",
   "execution_count": 36,
   "metadata": {},
   "outputs": [
    {
     "name": "stdout",
     "output_type": "stream",
     "text": [
      "The power method with alpha=0.85 and stopping criterion=1e-08 converged at iteration 90\n"
     ]
    }
   ],
   "source": [
    "# Executing the power method\n",
    "pagerank_vector_power_method_4, iteration_power_method_4, _, _ = solve_power_method(\n",
    "    transition_matrix_3, a_vector_3, 0.85, np.power(10.0, -8), 2000\n",
    ")\n",
    "\n",
    "print(\n",
    "    f\"The power method with alpha=0.85 and stopping criterion=1e-08 converged at iteration {iteration_power_method_4}\"\n",
    ")"
   ]
  },
  {
   "cell_type": "markdown",
   "metadata": {},
   "source": [
    "Find the ranks of the new pages X and Y"
   ]
  },
  {
   "cell_type": "code",
   "execution_count": 37,
   "metadata": {},
   "outputs": [
    {
     "name": "stdout",
     "output_type": "stream",
     "text": [
      "The rank of the new page X is: 16180\n",
      "\n",
      "The rank of the new page Y is: 261605\n"
     ]
    }
   ],
   "source": [
    "# Sorting\n",
    "sorted_ranks_2 = (np.argsort(-pagerank_vector_power_method_4.flatten()))\n",
    "\n",
    "# Finding the ranks of the pages X and Y\n",
    "rank_x = np.where(sorted_ranks_2 == shape_0)[0][0]\n",
    "rank_y = np.where(sorted_ranks_2 == shape_0+1)[0][0]\n",
    "\n",
    "print(f\"The rank of the new page X is: {rank_x}\\n\")\n",
    "print(f\"The rank of the new page Y is: {rank_y}\")"
   ]
  },
  {
   "cell_type": "markdown",
   "metadata": {},
   "source": [
    "From the results above, we can see that the rank of page X improved significantly (from 49282 to 16180) after adding page Y, which links to page X (a completely logical outcome). The rank of the page Y is very low"
   ]
  },
  {
   "cell_type": "markdown",
   "metadata": {},
   "source": [
    "### **• Task 3**\n",
    "\n",
    "<u>**Description**</u>\n",
    "\n",
    "**Still unsatisfied, you create a third page $Z$: How should you set up the links on your three pages so as to maximize the PageRank of $X$?**\n",
    "\n",
    "<u>**Solution**</u>"
   ]
  },
  {
   "cell_type": "markdown",
   "metadata": {},
   "source": [
    "After conducting numerous experiments, I found that the optimal setup for maximizing the PageRank of page X, using pages Y and Z, is as follows:\n",
    "\n",
    "- X links to itself\n",
    "- Y links to X\n",
    "- Z links to Y\n",
    "\n",
    "In this configuration, both Z and Y ultimately transfer all their rank to X"
   ]
  },
  {
   "cell_type": "markdown",
   "metadata": {},
   "source": [
    "Form the new transition matrix adding the new page Z"
   ]
  },
  {
   "cell_type": "code",
   "execution_count": 38,
   "metadata": {},
   "outputs": [],
   "source": [
    "# Setting no in-links for the page Z\n",
    "new_col_z = csr_matrix((shape_0 + 2, 1))\n",
    "\n",
    "# Appending\n",
    "transition_matrix_4 = hstack([transition_matrix_3, new_col_z], format=\"csr\")\n",
    "\n",
    "# Z links to X only\n",
    "new_row_z = np.zeros(shape_0 + 3)\n",
    "new_row_z[shape_0] = 1\n",
    "\n",
    "# Appending\n",
    "transition_matrix_4 = vstack([transition_matrix_4, csr_matrix(new_row_z)], format=\"csr\")"
   ]
  },
  {
   "cell_type": "markdown",
   "metadata": {},
   "source": [
    "Recompute the a vector having 1 if it is corresponds to a node with no out links and 0 otherwise"
   ]
  },
  {
   "cell_type": "code",
   "execution_count": 39,
   "metadata": {},
   "outputs": [],
   "source": [
    "# Building the a vector (1 or 0)\n",
    "out_links_4 = np.asarray(transition_matrix_4.sum(axis=0)).flatten()\n",
    "a_vector_4 = (out_links_4 == 0).astype(int)"
   ]
  },
  {
   "cell_type": "markdown",
   "metadata": {},
   "source": [
    "Compute the new PageRank using the power method with alpha equals to 0.85 and stopping criterion equals to $10^{-8}$"
   ]
  },
  {
   "cell_type": "code",
   "execution_count": 40,
   "metadata": {},
   "outputs": [
    {
     "name": "stdout",
     "output_type": "stream",
     "text": [
      "The power method with alpha=0.85 and stopping criterion=1e-08 converged at iteration 90\n"
     ]
    }
   ],
   "source": [
    "# Executing the power method\n",
    "pagerank_vector_power_method_5, iteration_power_method_5, _, _ = solve_power_method(\n",
    "    transition_matrix_4, a_vector_4, 0.85, np.power(10.0, -8), 2000\n",
    ")\n",
    "\n",
    "print(\n",
    "    f\"The power method with alpha=0.85 and stopping criterion=1e-08 converged at iteration {iteration_power_method_5}\"\n",
    ")"
   ]
  },
  {
   "cell_type": "markdown",
   "metadata": {},
   "source": [
    "Find the ranks of the new pages X, Y and Z"
   ]
  },
  {
   "cell_type": "code",
   "execution_count": 41,
   "metadata": {},
   "outputs": [
    {
     "name": "stdout",
     "output_type": "stream",
     "text": [
      "The rank of the new page X is: 11114\n",
      "\n",
      "The rank of the new page Y is: 261606\n",
      "\n",
      "The rank of the new page Z is: 281900\n"
     ]
    }
   ],
   "source": [
    "# Sorting\n",
    "sorted_ranks_3 = (np.argsort(-pagerank_vector_power_method_5.flatten()))\n",
    "\n",
    "# Finding the ranks of the pages X, Y and z\n",
    "rank_x = np.where(sorted_ranks_3 == shape_0)[0][0]\n",
    "rank_y = np.where(sorted_ranks_3 == shape_0+1)[0][0]\n",
    "rank_z = np.where(sorted_ranks_3 == shape_0+2)[0][0]\n",
    "\n",
    "print(f\"The rank of the new page X is: {rank_x}\\n\")\n",
    "print(f\"The rank of the new page Y is: {rank_y}\\n\")\n",
    "print(f\"The rank of the new page Z is: {rank_z}\")"
   ]
  },
  {
   "cell_type": "markdown",
   "metadata": {},
   "source": [
    "From the results above, we can see once again that the rank of page X improved (from 16180 to 11114) after adding page Z, which links exclusively to page X, while retaining the existing link from page Y to X"
   ]
  },
  {
   "cell_type": "markdown",
   "metadata": {},
   "source": [
    "### **• Task 4**\n",
    "\n",
    "<u>**Description**</u>\n",
    "\n",
    "**You have one last idea, you add links from your page $X$ to older, popular pages (e.g.: you add a list of “Useful links” on your page). Does this improve the PageRank of $X$? Does the answer change if you add links from $Y$ or $Z$ to older, popular pages?**\n",
    "\n",
    "<u>**Solution**</u>"
   ]
  },
  {
   "cell_type": "markdown",
   "metadata": {},
   "source": [
    "In this task, we will explore two cases. In the first, we add links from page X to a set of popular pages (we'll use five of them). In the second, we add links from pages Y and Z to the same popular pages, while also retaining their links to page X"
   ]
  },
  {
   "cell_type": "markdown",
   "metadata": {},
   "source": [
    "**• Case 1: Links from X to 5 popular pages**"
   ]
  },
  {
   "cell_type": "markdown",
   "metadata": {},
   "source": [
    "Form the new transition matrix"
   ]
  },
  {
   "cell_type": "code",
   "execution_count": 42,
   "metadata": {},
   "outputs": [],
   "source": [
    "# Copping the last transition matrix\n",
    "transition_matrix_case_1 = transition_matrix_4.copy().tolil()\n",
    "\n",
    "# Setting the links from X to 5 popular pages\n",
    "\n",
    "# Setting all the links to 0\n",
    "transition_matrix_case_1[shape_0, :] = 0\n",
    "\n",
    "# Iterating\n",
    "for node in sorted_ranks_3[:5]:\n",
    "    \n",
    "    # Updating\n",
    "    transition_matrix_case_1[shape_0, node] = 1 / 5\n",
    "\n",
    "# Linking Y to X \n",
    "transition_matrix_case_1[shape_0 + 1, :] = 0\n",
    "transition_matrix_case_1[shape_0 + 1, shape_0] = 1\n",
    "\n",
    "# Linking Z to X\n",
    "transition_matrix_case_1[shape_0 + 2, :] = 0\n",
    "transition_matrix_case_1[shape_0 + 2, shape_0] = 1\n",
    "\n",
    "# Forming\n",
    "transition_matrix_case_1 = transition_matrix_case_1.tocsr()"
   ]
  },
  {
   "cell_type": "markdown",
   "metadata": {},
   "source": [
    "Recompute the a vector having 1 if it is corresponds to a node with no out links and 0 otherwise"
   ]
  },
  {
   "cell_type": "code",
   "execution_count": 43,
   "metadata": {},
   "outputs": [],
   "source": [
    "# Building the a vector (1 or 0)\n",
    "out_links_5 = np.asarray(transition_matrix_case_1.sum(axis=0)).flatten()\n",
    "a_vector_5 = (out_links_5 == 0).astype(int)"
   ]
  },
  {
   "cell_type": "markdown",
   "metadata": {},
   "source": [
    "Compute the new PageRank using the power method with alpha equals to 0.85 and stopping criterion equals to $10^{-8}$"
   ]
  },
  {
   "cell_type": "code",
   "execution_count": 44,
   "metadata": {},
   "outputs": [
    {
     "name": "stdout",
     "output_type": "stream",
     "text": [
      "The power method with alpha=0.85 and stopping criterion=1e-08 converged at iteration 90\n"
     ]
    }
   ],
   "source": [
    "# Executing the power method\n",
    "pagerank_vector_power_method_6, iteration_power_method_6, _, _ = solve_power_method(\n",
    "    transition_matrix_case_1, a_vector_5, 0.85, np.power(10.0, -8), 2000\n",
    ")\n",
    "\n",
    "print(\n",
    "    f\"The power method with alpha=0.85 and stopping criterion=1e-08 converged at iteration {iteration_power_method_6}\"\n",
    ")"
   ]
  },
  {
   "cell_type": "markdown",
   "metadata": {},
   "source": [
    "Find the ranks of the new pages X, Y and Z"
   ]
  },
  {
   "cell_type": "code",
   "execution_count": 45,
   "metadata": {},
   "outputs": [
    {
     "name": "stdout",
     "output_type": "stream",
     "text": [
      "The rank of the new page X is: 109089\n",
      "\n",
      "The rank of the new page Y is: 261606\n",
      "\n",
      "The rank of the new page Z is: 281900\n"
     ]
    }
   ],
   "source": [
    "# Sorting\n",
    "sorted_ranks_4 = (np.argsort(-pagerank_vector_power_method_6.flatten()))\n",
    "\n",
    "# Finding the ranks of the pages X, Y and z\n",
    "rank_x = np.where(sorted_ranks_4 == shape_0)[0][0]\n",
    "rank_y = np.where(sorted_ranks_4 == shape_0+1)[0][0]\n",
    "rank_z = np.where(sorted_ranks_4 == shape_0+2)[0][0]\n",
    "\n",
    "print(f\"The rank of the new page X is: {rank_x}\\n\")\n",
    "print(f\"The rank of the new page Y is: {rank_y}\\n\")\n",
    "print(f\"The rank of the new page Z is: {rank_z}\")"
   ]
  },
  {
   "cell_type": "markdown",
   "metadata": {},
   "source": [
    "From the results above, we can see that adding links from page X to the five most popular pages did not improve its rank, in fact it significantly decreased (109089). Meanwhile, the ranks of the other two pages remained unchanged"
   ]
  },
  {
   "cell_type": "markdown",
   "metadata": {},
   "source": [
    "**• Case 2: Links from Y and Z to 5 popular pages**"
   ]
  },
  {
   "cell_type": "markdown",
   "metadata": {},
   "source": [
    "Form the new transition matrix"
   ]
  },
  {
   "cell_type": "code",
   "execution_count": 46,
   "metadata": {},
   "outputs": [],
   "source": [
    "# Copping the last transition matrix\n",
    "transition_matrix_case_2 = transition_matrix_4.copy().tolil()\n",
    "\n",
    "# Linking X to itself\n",
    "transition_matrix_case_2[shape_0, :] = 0\n",
    "transition_matrix_case_2[shape_0, shape_0] = 1\n",
    "\n",
    "# Setting the links from Y to 5 popular pages\n",
    "\n",
    "# Setting all the links to 0\n",
    "transition_matrix_case_2[shape_0 + 1, :] = 0\n",
    "\n",
    "# Linking Y to X\n",
    "transition_matrix_case_2[shape_0 + 1, shape_0] = 1 / 6\n",
    "\n",
    "# Iterating\n",
    "for node in sorted_ranks_3[:5]:\n",
    "\n",
    "    # Updating\n",
    "    transition_matrix_case_2[shape_0 + 1, node] = 1 / 6\n",
    "\n",
    "# Setting the links from Y to 5 popular pages\n",
    "\n",
    "# Setting all the links to 0\n",
    "transition_matrix_case_2[shape_0 + 2, :] = 0\n",
    "\n",
    "# Linking Z to X\n",
    "transition_matrix_case_2[shape_0 + 2, shape_0] = 1 / 6\n",
    "\n",
    "# Iterating\n",
    "for node in sorted_ranks_3[:5]:\n",
    "\n",
    "    # Updating\n",
    "    transition_matrix_case_2[shape_0 + 2, node] = 1 / 6\n",
    "\n",
    "# Forming\n",
    "transition_matrix_case_2 = transition_matrix_case_2.tocsr()"
   ]
  },
  {
   "cell_type": "markdown",
   "metadata": {},
   "source": [
    "Recompute the a vector having 1 if it is corresponds to a node with no out links and 0 otherwise"
   ]
  },
  {
   "cell_type": "code",
   "execution_count": 47,
   "metadata": {},
   "outputs": [],
   "source": [
    "# Building the a vector (1 or 0)\n",
    "out_links_6 = np.asarray(transition_matrix_case_2.sum(axis=0)).flatten()\n",
    "a_vector_6 = (out_links_6 == 0).astype(int)"
   ]
  },
  {
   "cell_type": "markdown",
   "metadata": {},
   "source": [
    "Compute the new PageRank using the power method with alpha equals to 0.85 and stopping criterion equals to $10^{-8}$"
   ]
  },
  {
   "cell_type": "code",
   "execution_count": 48,
   "metadata": {},
   "outputs": [
    {
     "name": "stdout",
     "output_type": "stream",
     "text": [
      "The power method with alpha=0.85 and stopping criterion=1e-08 converged at iteration 90\n"
     ]
    }
   ],
   "source": [
    "# Executing the power method\n",
    "pagerank_vector_power_method_7, iteration_power_method_7, _, _ = solve_power_method(\n",
    "    transition_matrix_case_2, a_vector_6, 0.85, np.power(10.0, -8), 2000\n",
    ")\n",
    "\n",
    "print(\n",
    "    f\"The power method with alpha=0.85 and stopping criterion=1e-08 converged at iteration {iteration_power_method_7}\"\n",
    ")"
   ]
  },
  {
   "cell_type": "markdown",
   "metadata": {},
   "source": [
    "Find the ranks of the new pages X, Y and Z"
   ]
  },
  {
   "cell_type": "code",
   "execution_count": 49,
   "metadata": {},
   "outputs": [
    {
     "name": "stdout",
     "output_type": "stream",
     "text": [
      "The rank of the new page X is: 23517\n",
      "\n",
      "The rank of the new page Y is: 261606\n",
      "\n",
      "The rank of the new page Z is: 281900\n"
     ]
    }
   ],
   "source": [
    "# Sorting\n",
    "sorted_ranks_5 = (np.argsort(-pagerank_vector_power_method_7.flatten()))\n",
    "\n",
    "# Finding the ranks of the pages X, Y and z\n",
    "rank_x = np.where(sorted_ranks_5 == shape_0)[0][0]\n",
    "rank_y = np.where(sorted_ranks_5 == shape_0+1)[0][0]\n",
    "rank_z = np.where(sorted_ranks_5 == shape_0+2)[0][0]\n",
    "\n",
    "print(f\"The rank of the new page X is: {rank_x}\\n\")\n",
    "print(f\"The rank of the new page Y is: {rank_y}\\n\")\n",
    "print(f\"The rank of the new page Z is: {rank_z}\")"
   ]
  },
  {
   "cell_type": "markdown",
   "metadata": {},
   "source": [
    "From the results above, we can see that the rank of page X improved compared to Case 1 (from 109089 to 23517), but it is still not as high as when pages Y and Z point exclusively to X (11114). Meanwhile, the ranks of the other two pages remained unchanged"
   ]
  },
  {
   "cell_type": "markdown",
   "metadata": {},
   "source": [
    "### **• Task 5**\n",
    "\n",
    "<u>**Description**</u>\n",
    "\n",
    "**Describe what steps you might take to raise the PageRank of $X$ further. You do not need to prove anything here, just summarize your thoughts based on the previous parts. For extra credit though, you can prove what the structure for a link farm with $m$ nodes should be to optimize the PageRank of $X$.**\n",
    "\n",
    "<u>**Solution**</u>"
   ]
  },
  {
   "cell_type": "markdown",
   "metadata": {},
   "source": [
    "From the above tasks, we can draw the following two key observations:\n",
    "\n",
    "- Adding pages like Y and Z that link exclusively to X increases the PageRank of X. These pages act as rank boosters, especially when they do not link to any other pages\n",
    "- When X links to top-ranked pages, it leaks its own rank, resulting in a lower PageRank. To maintain a higher rank, X should link to itself"
   ]
  },
  {
   "cell_type": "markdown",
   "metadata": {},
   "source": [
    "To design a link farm of m supporting pages, the optimal structure would be:\n",
    "\n",
    "- Every supporting page links only to X\n",
    "- X links only to itself\n",
    "- No pages link outside the farm\n",
    "\n",
    "This means:\n",
    "\n",
    "- m pages point to X: Page_1, Page_2, ... , Page_m -> X\n",
    "- X points to itself: X -> X\n",
    "\n",
    "This structure maximizes flow into X while minimizing rank leakage"
   ]
  },
  {
   "cell_type": "markdown",
   "metadata": {},
   "source": [
    "Additionally, i think it is important to note that creating a link from a popular page to page X will significantly improve X's rank, according to PageRank theory, something not tested in the previous tasks. Below, we present the resulting rank of page X after establishing a connection with the most popular page"
   ]
  },
  {
   "cell_type": "markdown",
   "metadata": {},
   "source": [
    "Form the new transition matrix"
   ]
  },
  {
   "cell_type": "code",
   "execution_count": 50,
   "metadata": {},
   "outputs": [],
   "source": [
    "# Getting the most popular node/page\n",
    "most_popular_page = sorted_ranks_3[0]\n",
    "\n",
    "# Copping\n",
    "transition_matrix_5 = transition_matrix_4.copy().tolil()\n",
    "\n",
    "# Getting the out-links of the most popular page\n",
    "out_links = transition_matrix_5.rows[most_popular_page]\n",
    "\n",
    "# Adding the page X as out-link\n",
    "out_links.append(shape_0)\n",
    "\n",
    "# Clearing for the most popular page\n",
    "transition_matrix_5.rows[most_popular_page] = []\n",
    "transition_matrix_5.data[most_popular_page] = []\n",
    "\n",
    "# Iterating over the out-links\n",
    "for node in out_links:\n",
    "\n",
    "    # Updating\n",
    "    transition_matrix_5[most_popular_page, node] = 1 / len(out_links)\n",
    "\n",
    "# Forming\n",
    "transition_matrix_5 = transition_matrix_5.tocsr()"
   ]
  },
  {
   "cell_type": "markdown",
   "metadata": {},
   "source": [
    "Recompute the a vector having 1 if it is corresponds to a node with no out links and 0 otherwise"
   ]
  },
  {
   "cell_type": "code",
   "execution_count": 51,
   "metadata": {},
   "outputs": [],
   "source": [
    "# Building the a vector (1 or 0)\n",
    "out_links_7 = np.asarray(transition_matrix_5.sum(axis=0)).flatten()\n",
    "a_vector_7 = (out_links_7 == 0).astype(int)"
   ]
  },
  {
   "cell_type": "markdown",
   "metadata": {},
   "source": [
    "Compute the new PageRank using the power method with alpha equals to 0.85 and stopping criterion equals to $10^{-8}$"
   ]
  },
  {
   "cell_type": "code",
   "execution_count": 52,
   "metadata": {},
   "outputs": [
    {
     "name": "stdout",
     "output_type": "stream",
     "text": [
      "The power method with alpha=0.85 and stopping criterion=1e-08 converged at iteration 90\n"
     ]
    }
   ],
   "source": [
    "# Executing the power method\n",
    "pagerank_vector_power_method_8, iteration_power_method_8, _, _ = solve_power_method(\n",
    "    transition_matrix_5, a_vector_7, 0.85, np.power(10.0, -8), 2000\n",
    ")\n",
    "\n",
    "print(\n",
    "    f\"The power method with alpha=0.85 and stopping criterion=1e-08 converged at iteration {iteration_power_method_8}\"\n",
    ")"
   ]
  },
  {
   "cell_type": "markdown",
   "metadata": {},
   "source": [
    "Find the rank of the page X"
   ]
  },
  {
   "cell_type": "code",
   "execution_count": 53,
   "metadata": {},
   "outputs": [
    {
     "name": "stdout",
     "output_type": "stream",
     "text": [
      "The rank of the page X is: 64\n",
      "\n"
     ]
    }
   ],
   "source": [
    "# Sorting\n",
    "sorted_ranks_6 = (np.argsort(-pagerank_vector_power_method_8.flatten()))\n",
    "\n",
    "# Finding the rank of the page X\n",
    "rank_x = np.where(sorted_ranks_6 == shape_0)[0][0]\n",
    "\n",
    "print(f\"The rank of the page X is: {rank_x}\\n\")"
   ]
  },
  {
   "cell_type": "markdown",
   "metadata": {},
   "source": [
    "Indeed, by linking the most popular page to page X, the latter’s rank improved significantly"
   ]
  }
 ],
 "metadata": {
  "kernelspec": {
   "display_name": "Python 3",
   "language": "python",
   "name": "python3"
  },
  "language_info": {
   "codemirror_mode": {
    "name": "ipython",
    "version": 3
   },
   "file_extension": ".py",
   "mimetype": "text/x-python",
   "name": "python",
   "nbconvert_exporter": "python",
   "pygments_lexer": "ipython3",
   "version": "3.12.6"
  }
 },
 "nbformat": 4,
 "nbformat_minor": 2
}
