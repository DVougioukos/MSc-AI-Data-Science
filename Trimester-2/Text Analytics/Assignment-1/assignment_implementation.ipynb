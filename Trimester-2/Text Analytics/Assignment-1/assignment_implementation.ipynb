{
 "cells": [
  {
   "cell_type": "markdown",
   "metadata": {
    "id": "LrkfaiXrZazU"
   },
   "source": [
    "## **Assignment 1 - n-gram Language Models**"
   ]
  },
  {
   "cell_type": "markdown",
   "metadata": {},
   "source": [
    "<b><u>Contributors</u></b>: Dimitris Vougioukos - f3352411, Ioannis Papadopoulos - f3352409\n",
    "\n",
    "\n",
    "<b><u>Contribution</u></b>: Dimitris Vougioukos: 1,2,3,4,5,6 - Ioannis Papadopoulos: 1,2,3"
   ]
  },
  {
   "cell_type": "markdown",
   "metadata": {
    "id": "P-yCR2rJZnrt"
   },
   "source": [
    "The following is the implementation of the first assignment of the Text Analytics course concerning the n-gram language models"
   ]
  },
  {
   "cell_type": "markdown",
   "metadata": {
    "id": "fJ85BWYYaMe_"
   },
   "source": [
    "### **Task 1 - Task 2**"
   ]
  },
  {
   "cell_type": "markdown",
   "metadata": {
    "id": "CBy45aiEOJEc"
   },
   "source": [
    "Import and download some required packages"
   ]
  },
  {
   "cell_type": "code",
   "execution_count": 1,
   "metadata": {
    "colab": {
     "base_uri": "https://localhost:8080/",
     "height": 289,
     "referenced_widgets": [
      "9014f8035f61457ba430cdf08a660a3c",
      "6c3d10fe60c94022a76571b0df64c1ad",
      "ca2296ffb7164f789635b1a6c5d8ea4b",
      "7c260b0a4ea04d7ba6d8b88559a1855d",
      "7f51473701f3456f825cd755be06645f",
      "ef1c7b9525ec4ca49b7c88e0c755161b",
      "b713869ee9b14665a6cd533a51a7df5d",
      "85f91b5cfb244bffb98e083368fb1797",
      "ab39b6733ec74d729c0999e537dc7df4",
      "a16fd99e4d864a57a3d854bd0ef1344f",
      "ef055e55f8044a1b899f2ba71435c34b",
      "e09a4320484448b6ad467c45d4478cdd",
      "159e792689924686bbf3e0e4cd5bc6b9",
      "9401814410a54a5987e233014a758a1d",
      "89e26dd19aae4a689f3562b22383a881",
      "8b2ad8db24ae4764bc4b8410201f3947",
      "724d67e68b194cd896ab38b437955143",
      "7fa864d763fb477790e4bddbf50d90a7",
      "d2536c609deb4b6f901720a107896ca7",
      "c5f264b4a9a14a4fb954da8b25193e3c",
      "a12349165a3f4b8b9e2abafd083fc9aa",
      "a1eba7e980724325ba8fd8ef9d4903f8"
     ]
    },
    "executionInfo": {
     "elapsed": 26883,
     "status": "ok",
     "timestamp": 1738422902874,
     "user": {
      "displayName": "Dimitris Vougioukos",
      "userId": "03588049666007909203"
     },
     "user_tz": -120
    },
    "id": "qPEc14MrOkpn",
    "outputId": "5ebdf58f-4877-4b21-e914-ab97b8b624f1"
   },
   "outputs": [
    {
     "name": "stderr",
     "output_type": "stream",
     "text": [
      "[nltk_data] Downloading package reuters to /root/nltk_data...\n",
      "[nltk_data]   Package reuters is already up-to-date!\n",
      "[nltk_data] Downloading package punkt to /root/nltk_data...\n",
      "[nltk_data]   Unzipping tokenizers/punkt.zip.\n",
      "[nltk_data] Downloading package punkt_tab to /root/nltk_data...\n",
      "[nltk_data]   Unzipping tokenizers/punkt_tab.zip.\n",
      "/usr/local/lib/python3.11/dist-packages/huggingface_hub/utils/_auth.py:94: UserWarning: \n",
      "The secret `HF_TOKEN` does not exist in your Colab secrets.\n",
      "To authenticate with the Hugging Face Hub, create a token in your settings tab (https://huggingface.co/settings/tokens), set it as secret in your Google Colab and restart your session.\n",
      "You will be able to reuse this secret in all of your notebooks.\n",
      "Please note that authentication is recommended but still optional to access public models or datasets.\n",
      "  warnings.warn(\n"
     ]
    },
    {
     "data": {
      "application/vnd.jupyter.widget-view+json": {
       "model_id": "9014f8035f61457ba430cdf08a660a3c",
       "version_major": 2,
       "version_minor": 0
      },
      "text/plain": [
       "Downloading builder script:   0%|          | 0.00/5.60k [00:00<?, ?B/s]"
      ]
     },
     "metadata": {},
     "output_type": "display_data"
    },
    {
     "data": {
      "application/vnd.jupyter.widget-view+json": {
       "model_id": "e09a4320484448b6ad467c45d4478cdd",
       "version_major": 2,
       "version_minor": 0
      },
      "text/plain": [
       "Downloading builder script:   0%|          | 0.00/4.49k [00:00<?, ?B/s]"
      ]
     },
     "metadata": {},
     "output_type": "display_data"
    }
   ],
   "source": [
    "# Installing necessary libraries\n",
    "!pip install -q python-Levenshtein evaluate jiwer\n",
    "\n",
    "# Importing required libraries\n",
    "import nltk\n",
    "import random\n",
    "import math\n",
    "import re\n",
    "import numpy as np\n",
    "import heapq\n",
    "import Levenshtein\n",
    "import matplotlib.pyplot as plt\n",
    "from itertools import chain\n",
    "from collections import Counter\n",
    "from sklearn.model_selection import KFold\n",
    "from nltk.corpus import reuters\n",
    "from nltk.tokenize import sent_tokenize, word_tokenize\n",
    "from nltk.util import ngrams\n",
    "from evaluate import load\n",
    "from tabulate import tabulate\n",
    "\n",
    "# Downloading NLTK corpus and tokenizer\n",
    "nltk.download(\"reuters\")\n",
    "nltk.download(\"punkt\")\n",
    "nltk.download(\"punkt_tab\")\n",
    "\n",
    "# Load evaluation metrics\n",
    "cer = load(\"cer\")\n",
    "wer = load(\"wer\")"
   ]
  },
  {
   "cell_type": "markdown",
   "metadata": {
    "id": "eFQ4SYi4O13M"
   },
   "source": [
    "Explore the Reuters corpus"
   ]
  },
  {
   "cell_type": "code",
   "execution_count": 2,
   "metadata": {
    "colab": {
     "base_uri": "https://localhost:8080/"
    },
    "executionInfo": {
     "elapsed": 478,
     "status": "ok",
     "timestamp": 1738422909681,
     "user": {
      "displayName": "Dimitris Vougioukos",
      "userId": "03588049666007909203"
     },
     "user_tz": -120
    },
    "id": "_KXKVUXrVcMR",
    "outputId": "6df14324-8e5c-49e5-9f76-59e8ed623142"
   },
   "outputs": [
    {
     "name": "stdout",
     "output_type": "stream",
     "text": [
      "Five random file ids of the corpus:\n",
      " ['training/3425', 'training/307', 'training/7939', 'test/15963', 'training/5286']\n",
      "\n",
      "Distinct file types:\n",
      " {'training', 'test'}\n"
     ]
    }
   ],
   "source": [
    "# Getting all the file ids\n",
    "file_ids = reuters.fileids()\n",
    "\n",
    "# Printing 5 random file ids\n",
    "print(f\"Five random file ids of the corpus:\\n {random.sample(file_ids, 5)}\\n\")\n",
    "\n",
    "# Getting the distinct file types\n",
    "file_types = set(file_id.split(\"/\")[0] for file_id in file_ids)\n",
    "\n",
    "print(f\"Distinct file types:\\n {file_types}\")"
   ]
  },
  {
   "cell_type": "markdown",
   "metadata": {
    "id": "_jQx8agQQB1Y"
   },
   "source": [
    "Division of the corpus into training and testing subsets"
   ]
  },
  {
   "cell_type": "code",
   "execution_count": 3,
   "metadata": {
    "colab": {
     "base_uri": "https://localhost:8080/"
    },
    "executionInfo": {
     "elapsed": 6541,
     "status": "ok",
     "timestamp": 1738422920798,
     "user": {
      "displayName": "Dimitris Vougioukos",
      "userId": "03588049666007909203"
     },
     "user_tz": -120
    },
    "id": "iidtlVLzoAGC",
    "outputId": "9a68a161-1562-4875-cc8f-eeec7dc48d1d"
   },
   "outputs": [
    {
     "name": "stdout",
     "output_type": "stream",
     "text": [
      "Total training sentences: 37700\n",
      "Two sentences from the training subset:\n",
      " ['BAHIA COCOA REVIEW\\n  Showers continued throughout the week in\\n  the Bahia cocoa zone, alleviating the drought since early\\n  January and improving prospects for the coming temporao,\\n  although normal humidity levels have not been restored,\\n  Comissaria Smith said in its weekly review.', 'The dry period means the temporao will be late this year.']\n",
      "\n",
      "Total test sentences: 13281\n",
      "Two sentences from the test subset:\n",
      " [\"ASIAN EXPORTERS FEAR DAMAGE FROM U.S.-JAPAN RIFT\\n  Mounting trade friction between the\\n  U.S. And Japan has raised fears among many of Asia's exporting\\n  nations that the row could inflict far-reaching economic\\n  damage, businessmen and officials said.\", 'They told Reuter correspondents in Asian capitals a U.S.\\n  Move against Japan might boost protectionist sentiment in the\\n  U.S. And lead to curbs on American imports of their products.']\n"
     ]
    }
   ],
   "source": [
    "# Initializing two lists containing the raw training and test texts\n",
    "train_raw_texts, test_raw_texts = [], []\n",
    "\n",
    "# Iterating over the files\n",
    "for file_id in file_ids:\n",
    "\n",
    "  # Checking the file type\n",
    "  if file_id.startswith(\"training/\"):\n",
    "\n",
    "    # Updating the training list\n",
    "    train_raw_texts.append(reuters.raw(file_id))\n",
    "\n",
    "  else:\n",
    "\n",
    "    # Updating the test list\n",
    "    test_raw_texts.append(reuters.raw(file_id))\n",
    "\n",
    "# Concatenating all the texts\n",
    "train_raw_text = \" \".join(train_raw_texts)\n",
    "test_raw_text = \" \".join(test_raw_texts)\n",
    "\n",
    "# Getting the training and test sentences from the texts\n",
    "train_sentences = sent_tokenize(train_raw_text)\n",
    "test_sentences = sent_tokenize(test_raw_text)\n",
    "\n",
    "print(f\"Total training sentences: {len(train_sentences)}\")\n",
    "print(f\"Two sentences from the training subset:\\n {train_sentences[:2]}\\n\")\n",
    "print(f\"Total test sentences: {len(test_sentences)}\")\n",
    "print(f\"Two sentences from the test subset:\\n {test_sentences[:2]}\")"
   ]
  },
  {
   "cell_type": "markdown",
   "metadata": {
    "id": "jBwfPc1GRa4m"
   },
   "source": [
    "Word level tokenization"
   ]
  },
  {
   "cell_type": "code",
   "execution_count": 4,
   "metadata": {
    "colab": {
     "base_uri": "https://localhost:8080/"
    },
    "executionInfo": {
     "elapsed": 10103,
     "status": "ok",
     "timestamp": 1738422934703,
     "user": {
      "displayName": "Dimitris Vougioukos",
      "userId": "03588049666007909203"
     },
     "user_tz": -120
    },
    "id": "DNDXITsGusek",
    "outputId": "5bcaeb73-4a4f-4a69-acf1-686419ccbfd0"
   },
   "outputs": [
    {
     "name": "stdout",
     "output_type": "stream",
     "text": [
      "Two tokenized sentences from the training subset:\n",
      " [['bahia', 'cocoa', 'review', 'showers', 'continued', 'throughout', 'the', 'week', 'in', 'the', 'bahia', 'cocoa', 'zone', ',', 'alleviating', 'the', 'drought', 'since', 'early', 'january', 'and', 'improving', 'prospects', 'for', 'the', 'coming', 'temporao', ',', 'although', 'normal', 'humidity', 'levels', 'have', 'not', 'been', 'restored', ',', 'comissaria', 'smith', 'said', 'in', 'its', 'weekly', 'review', '.'], ['the', 'dry', 'period', 'means', 'the', 'temporao', 'will', 'be', 'late', 'this', 'year', '.']]\n",
      "\n",
      "Two tokenized sentences from the test subset:\n",
      " [['asian', 'exporters', 'fear', 'damage', 'from', 'u.s.-japan', 'rift', 'mounting', 'trade', 'friction', 'between', 'the', 'u.s.', 'and', 'japan', 'has', 'raised', 'fears', 'among', 'many', 'of', 'asia', \"'s\", 'exporting', 'nations', 'that', 'the', 'row', 'could', 'inflict', 'far-reaching', 'economic', 'damage', ',', 'businessmen', 'and', 'officials', 'said', '.'], ['they', 'told', 'reuter', 'correspondents', 'in', 'asian', 'capitals', 'a', 'u.s.', 'move', 'against', 'japan', 'might', 'boost', 'protectionist', 'sentiment', 'in', 'the', 'u.s.', 'and', 'lead', 'to', 'curbs', 'on', 'american', 'imports', 'of', 'their', 'products', '.']]\n"
     ]
    }
   ],
   "source": [
    "# Initializing two lists containing the training and test tokens\n",
    "train_sentences_tokenized, test_sentences_tokenized = [], []\n",
    "\n",
    "# Iterating over the training sentences\n",
    "for train_sentence in train_sentences:\n",
    "\n",
    "  # Tokenizing and updating the training list\n",
    "  train_sentences_tokenized.append(word_tokenize(train_sentence.lower()))\n",
    "\n",
    "# Iterating over the test sentenes\n",
    "for test_sentence in test_sentences:\n",
    "\n",
    "  # Tokenizing and updating the test list\n",
    "  test_sentences_tokenized.append(word_tokenize(test_sentence.lower()))\n",
    "\n",
    "print(f\"Two tokenized sentences from the training subset:\\n {train_sentences_tokenized[:2]}\\n\")\n",
    "print(f\"Two tokenized sentences from the test subset:\\n {test_sentences_tokenized[:2]}\")"
   ]
  },
  {
   "cell_type": "markdown",
   "metadata": {
    "id": "Hmg5sBGASmfm"
   },
   "source": [
    "Get the frequency of the training and test tokens"
   ]
  },
  {
   "cell_type": "code",
   "execution_count": 5,
   "metadata": {
    "colab": {
     "base_uri": "https://localhost:8080/"
    },
    "executionInfo": {
     "elapsed": 439,
     "status": "ok",
     "timestamp": 1738422937838,
     "user": {
      "displayName": "Dimitris Vougioukos",
      "userId": "03588049666007909203"
     },
     "user_tz": -120
    },
    "id": "3uwULGj5vyjB",
    "outputId": "6b5ad4eb-0e31-475c-971e-79615edc2d64"
   },
   "outputs": [
    {
     "name": "stdout",
     "output_type": "stream",
     "text": [
      "Number of tokens in training subset: 1136318\n",
      "Number of unique tokens in training subset: 41908\n",
      "10 most common tokens in training subset: \n",
      " [('the', 51383), (',', 39586), ('.', 37651), ('of', 27306), ('to', 27306), ('in', 22003), ('and', 18957), ('said', 18843), ('a', 18456), ('mln', 13089)] \n",
      "\n",
      "Number of tokens in test subset: 412952\n",
      "Number of unique tokens in test subset: 25399\n",
      "10 most common tokens in test subset: \n",
      " [('the', 17862), (',', 14079), ('.', 13255), ('of', 9443), ('to', 8969), ('in', 7214), ('and', 6659), ('said', 6538), ('a', 6268), ('mln', 5509)]\n"
     ]
    }
   ],
   "source": [
    "# Getting all the training tokens\n",
    "all_train_tokens = list(chain.from_iterable(train_sentences_tokenized))\n",
    "\n",
    "# Counting the frequency of the training tokens\n",
    "train_tokens_frequency = Counter(all_train_tokens)\n",
    "\n",
    "print(f\"Number of tokens in training subset: {len(all_train_tokens)}\")\n",
    "print(f\"Number of unique tokens in training subset: {len(train_tokens_frequency)}\")\n",
    "print(f\"10 most common tokens in training subset: \\n {train_tokens_frequency.most_common(10)} \\n\")\n",
    "\n",
    "# Getting all the test tokens\n",
    "all_test_tokens = list(chain.from_iterable(test_sentences_tokenized))\n",
    "\n",
    "# Counting the frequency of the test tokens\n",
    "test_tokens_frequency = Counter(all_test_tokens)\n",
    "\n",
    "print(f\"Number of tokens in test subset: {len(all_test_tokens)}\")\n",
    "print(f\"Number of unique tokens in test subset: {len(test_tokens_frequency)}\")\n",
    "print(f\"10 most common tokens in test subset: \\n {test_tokens_frequency.most_common(10)}\")"
   ]
  },
  {
   "cell_type": "markdown",
   "metadata": {
    "id": "trNTiuCJfztC"
   },
   "source": [
    "Find the tokens in the training subset with frequency less than 5 and replace them in the entire corpus with the special token 'UNK'"
   ]
  },
  {
   "cell_type": "code",
   "execution_count": 6,
   "metadata": {
    "colab": {
     "base_uri": "https://localhost:8080/"
    },
    "executionInfo": {
     "elapsed": 451,
     "status": "ok",
     "timestamp": 1738422942842,
     "user": {
      "displayName": "Dimitris Vougioukos",
      "userId": "03588049666007909203"
     },
     "user_tz": -120
    },
    "id": "kHlYQUcDOIKk",
    "outputId": "d88b6057-ae62-4b9b-9630-15c56f51874e"
   },
   "outputs": [
    {
     "name": "stdout",
     "output_type": "stream",
     "text": [
      "Total number of tokens that occur less than 5 times in training subset:31407\n",
      "\n",
      "Five random tokens of this kind:\n",
      " ['54.0', 'fraternite', '909,158', '289,433', '354,820']\n"
     ]
    }
   ],
   "source": [
    "# Finding the training tokens with frequency less than 5\n",
    "rare_training_token = [\n",
    "    token for token, frequency in train_tokens_frequency.items() if frequency < 5\n",
    "]\n",
    "\n",
    "print(\n",
    "    \"Total number of tokens that occur less than 5 times in training subset:\"\n",
    "       + f\"{len(rare_training_token)}\\n\"\n",
    ")\n",
    "print(f\"Five random tokens of this kind:\\n {random.sample(rare_training_token, 5)}\")\n",
    "\n",
    "# Converting to set for faster replacements\n",
    "rare_training_token = set(rare_training_token)\n",
    "\n",
    "# Replacing these tokens with the special token 'UNK' in both subsets\n",
    "train_sentences_tokenized = [\n",
    "    [\"UNK\" if token in rare_training_token else token for token in sentence]\n",
    "    for sentence in train_sentences_tokenized\n",
    "]\n",
    "test_sentences_tokenized = [\n",
    "    [\"UNK\" if token in rare_training_token else token for token in sentence]\n",
    "    for sentence in test_sentences_tokenized\n",
    "]"
   ]
  },
  {
   "cell_type": "markdown",
   "metadata": {
    "id": "HslJexVckvOy"
   },
   "source": [
    "Define a function to train the  bigram and trigram models by computing the frequency of all existed unigrams, bigrams and trigrams in the provided training subset"
   ]
  },
  {
   "cell_type": "code",
   "execution_count": 7,
   "metadata": {
    "executionInfo": {
     "elapsed": 5612,
     "status": "ok",
     "timestamp": 1738422954980,
     "user": {
      "displayName": "Dimitris Vougioukos",
      "userId": "03588049666007909203"
     },
     "user_tz": -120
    },
    "id": "c8qxKzcom58j"
   },
   "outputs": [],
   "source": [
    "def train_lms(train_sentences):\n",
    "    \"\"\"\n",
    "    This function used to train bigram and trigram models by computing the\n",
    "    frequency of all existed unigrams, bigrams and trigrams in the provided\n",
    "    training subset.\n",
    "\n",
    "    :param train_sentences: A training subset of the corpus\n",
    "    :return: The ngrams counters\n",
    "    \"\"\"\n",
    "\n",
    "    # Initializing counters for the ngrams\n",
    "    unigrams_frequency = Counter()\n",
    "    bigrams_frequency = Counter()\n",
    "    trigrams_frequency = Counter()\n",
    "\n",
    "    # Iterating over the training sentences\n",
    "    for sentence in train_sentences:\n",
    "\n",
    "        # Updating the counters\n",
    "        unigrams_frequency.update(\n",
    "            [\n",
    "                gram\n",
    "                for gram in ngrams(\n",
    "                    sentence,\n",
    "                    1,\n",
    "                    pad_left=True,\n",
    "                    pad_right=True,\n",
    "                    left_pad_symbol=\"<s>\",\n",
    "                    right_pad_symbol=\"<e>\",\n",
    "                )\n",
    "            ]\n",
    "        )\n",
    "        bigrams_frequency.update(\n",
    "            [\n",
    "                gram\n",
    "                for gram in ngrams(\n",
    "                    sentence,\n",
    "                    2,\n",
    "                    pad_left=True,\n",
    "                    pad_right=True,\n",
    "                    left_pad_symbol=\"<s>\",\n",
    "                    right_pad_symbol=\"<e>\",\n",
    "                )\n",
    "            ]\n",
    "        )\n",
    "        trigrams_frequency.update(\n",
    "            [\n",
    "                gram\n",
    "                for gram in ngrams(\n",
    "                    sentence,\n",
    "                    3,\n",
    "                    pad_left=True,\n",
    "                    pad_right=True,\n",
    "                    left_pad_symbol=\"<s>\",\n",
    "                    right_pad_symbol=\"<e>\",\n",
    "                )\n",
    "            ]\n",
    "        )\n",
    "\n",
    "    # Adding the frequency of the combination (\"<s>\", \"<s>\")\n",
    "    bigrams_frequency[(\"<s>\", \"<s>\")] = len(train_sentences)\n",
    "\n",
    "    return unigrams_frequency, bigrams_frequency, trigrams_frequency"
   ]
  },
  {
   "cell_type": "markdown",
   "metadata": {
    "id": "AzeaHavusoLp"
   },
   "source": [
    "Define two functions for calculating the probabilities in the bigram and trigram models"
   ]
  },
  {
   "cell_type": "code",
   "execution_count": 8,
   "metadata": {
    "executionInfo": {
     "elapsed": 913,
     "status": "ok",
     "timestamp": 1738422961695,
     "user": {
      "displayName": "Dimitris Vougioukos",
      "userId": "03588049666007909203"
     },
     "user_tz": -120
    },
    "id": "ImBPCrBdsyuT"
   },
   "outputs": [],
   "source": [
    "def calculate_bigram_prob(\n",
    "    word_1,\n",
    "    word_2,\n",
    "    alpha_parameter,\n",
    "    unigrams_frequency,\n",
    "    bigrams_frequency,\n",
    "    vocb_size\n",
    "):\n",
    "    \"\"\"\n",
    "    This function used to calculate the probability of the bigram model for two\n",
    "    given words/tokens.\n",
    "\n",
    "    :param word_1: The first word/token\n",
    "    :param word_2: The second word/token\n",
    "    :param alpha_parameter: The alpha parameter of the Laplace smoothing\n",
    "    :param unigrams_frequency: The frequency of the unigrams\n",
    "    :param bigrams_frequency: The frequency of the bigrams\n",
    "    :param vocb_size: The size of the vocabulary\n",
    "    :return: The bigram probability\n",
    "    \"\"\"\n",
    "\n",
    "    # Finding the frequencies\n",
    "    unigram_frequency = unigrams_frequency[(word_1,)]\n",
    "    bigram_frequency = bigrams_frequency[(word_1, word_2)]\n",
    "\n",
    "    # Calculating the bigram probability\n",
    "    bigram_prob = (bigram_frequency + alpha_parameter) / (\n",
    "        unigram_frequency + alpha_parameter * vocb_size\n",
    "    )\n",
    "\n",
    "    return bigram_prob\n",
    "\n",
    "\n",
    "def calculate_trigram_prob(\n",
    "    word_1,\n",
    "    word_2,\n",
    "    word_3,\n",
    "    alpha_parameter,\n",
    "    bigrams_frequency,\n",
    "    trigrams_frequency,\n",
    "    vocb_size,\n",
    "):\n",
    "    \"\"\"\n",
    "    This function used to calculate the probability of the trigram model for\n",
    "    three given words/tokens.\n",
    "\n",
    "    :param word_1: The first word/token\n",
    "    :param word_2: The second word/token\n",
    "    :param word_3: The third word/token\n",
    "    :param alpha_parameter: The alpha parameter of the Laplace smoothing\n",
    "    :param bigrams_frequency: The frequency of the bigrams\n",
    "    :param trigrams_frequency: The frequency of the trigrams\n",
    "    :param vocb_size: The size of the vocabulary\n",
    "    :return: The trigram probability\n",
    "    \"\"\"\n",
    "\n",
    "    # Finding the frequencies\n",
    "    bigram_frequency = bigrams_frequency[(word_1, word_2)]\n",
    "    trigram_frequency = trigrams_frequency[(word_1, word_2, word_3)]\n",
    "\n",
    "    # Calculating the trigram probability\n",
    "    trigram_prob = (trigram_frequency + alpha_parameter) / (\n",
    "        bigram_frequency + alpha_parameter * vocb_size\n",
    "    )\n",
    "\n",
    "    return trigram_prob"
   ]
  },
  {
   "cell_type": "markdown",
   "metadata": {
    "id": "zuRNOhrryt6A"
   },
   "source": [
    "Define two functions for illustrating the bigram and trigram models"
   ]
  },
  {
   "cell_type": "code",
   "execution_count": 9,
   "metadata": {
    "executionInfo": {
     "elapsed": 1194,
     "status": "ok",
     "timestamp": 1738422976566,
     "user": {
      "displayName": "Dimitris Vougioukos",
      "userId": "03588049666007909203"
     },
     "user_tz": -120
    },
    "id": "wXzLVWw0y3k2"
   },
   "outputs": [],
   "source": [
    "def bigram_lm(\n",
    "    sentence, alpha_parameter, unigrams_frequency, bigrams_frequency, vocb_size\n",
    "):\n",
    "    \"\"\"\n",
    "    This function used to illustrate the bigram model for a given sentence.\n",
    "\n",
    "    :param sentence: The input sentence\n",
    "    :param alpha_parameter: The alpha parameter of the Laplace smoothing\n",
    "    :param unigrams_frequency: The frequency of the unigrams\n",
    "    :param bigrams_frequency: The frequency of the bigrams\n",
    "    :param vocb_size: The size of the vocabulary\n",
    "    :return: The bigram log probability and the length of the sentence without the start token\n",
    "    \"\"\"\n",
    "\n",
    "    # Initializing the variable to hold the summary of the log probabilities\n",
    "    log_prob = 0\n",
    "\n",
    "    # Adding start and end tokens\n",
    "    sentence = [\"<s>\"] + sentence + [\"<e>\"]\n",
    "\n",
    "    # Iterating over indices of the sentence\n",
    "    for word_index in range(1, len(sentence)):\n",
    "\n",
    "        # Getting two consecutive words\n",
    "        word_1 = sentence[word_index - 1]\n",
    "        word_2 = sentence[word_index]\n",
    "\n",
    "        # Calculating the bigram probability\n",
    "        bigram_prob = calculate_bigram_prob(\n",
    "            word_1,\n",
    "            word_2,\n",
    "            alpha_parameter,\n",
    "            unigrams_frequency,\n",
    "            bigrams_frequency,\n",
    "            vocb_size,\n",
    "        )\n",
    "\n",
    "        # Updating the summary\n",
    "        log_prob += math.log2(bigram_prob)\n",
    "\n",
    "    return log_prob, len(sentence) - 1\n",
    "\n",
    "\n",
    "def trigram_lm(\n",
    "    sentence, alpha_parameter, bigrams_frequency, trigrams_frequency, vocb_size\n",
    "):\n",
    "    \"\"\"\n",
    "    This function used to illustrate the trigram model for a given sentence.\n",
    "\n",
    "    :param sentence: The input sentence\n",
    "    :param alpha_parameter: The alpha parameter of the Laplace smoothing\n",
    "    :param bigrams_frequency: The frequency of the bigrams\n",
    "    :param trigrams_frequency: The frequency of the trigrams\n",
    "    :param vocb_size: The size of the vocabulary\n",
    "    :return: The trigram log probability and the length of the sentence without the start tokens\n",
    "    \"\"\"\n",
    "\n",
    "    # Initializing the variable to hold the summary of the log probabilities\n",
    "    log_prob = 0\n",
    "\n",
    "    # Adding start and end tokens\n",
    "    sentence = [\"<s>\"] + [\"<s>\"] + sentence + [\"<e>\"]\n",
    "\n",
    "    # Iterating over the indices of the sentence\n",
    "    for word_index in range(2, len(sentence)):\n",
    "\n",
    "        # Getting three consecutive words\n",
    "        word_1 = sentence[word_index - 2]\n",
    "        word_2 = sentence[word_index - 1]\n",
    "        word_3 = sentence[word_index]\n",
    "\n",
    "        # Calculating the trigram probability\n",
    "        trigram_prob = calculate_trigram_prob(\n",
    "            word_1,\n",
    "            word_2,\n",
    "            word_3,\n",
    "            alpha_parameter,\n",
    "            bigrams_frequency,\n",
    "            trigrams_frequency,\n",
    "            vocb_size,\n",
    "        )\n",
    "\n",
    "        # Updating the summary\n",
    "        log_prob += math.log2(trigram_prob)\n",
    "\n",
    "    return log_prob, len(sentence) - 2"
   ]
  },
  {
   "cell_type": "markdown",
   "metadata": {
    "id": "RZsFjayB4gnT"
   },
   "source": [
    "Define a function to calculate the cross-entropy and the perplexity of a model"
   ]
  },
  {
   "cell_type": "code",
   "execution_count": 10,
   "metadata": {
    "executionInfo": {
     "elapsed": 508,
     "status": "ok",
     "timestamp": 1738422981116,
     "user": {
      "displayName": "Dimitris Vougioukos",
      "userId": "03588049666007909203"
     },
     "user_tz": -120
    },
    "id": "XTFLtPNX6KKj"
   },
   "outputs": [],
   "source": [
    "def calculate_cross_entropy_perplexity(\n",
    "    sentences, model, frequency_1, frequency_2, alpha_parameter, vocb_size\n",
    "):\n",
    "    \"\"\"\n",
    "    This function used to calculate the cross-entropy and the perplexity of a\n",
    "    bigram or trigram language model.\n",
    "\n",
    "    :param sentences: A subset of the corpus\n",
    "    :param model: The language model\n",
    "    :param frequency_1: The frequency of unigrams or bigrams\n",
    "    :param frequency_2: The frequency of bigrams or trigrams\n",
    "    :param alpha_parameter: The alpha parameter of the Laplace smoothing\n",
    "    :param vocb_size: The size of the vocabulary\n",
    "    :return: The cross-entropy and the perplexity of the model\n",
    "    \"\"\"\n",
    "\n",
    "    # Initiliazing\n",
    "    total_log_prob = 0\n",
    "    total_words = 0\n",
    "\n",
    "    # Iterating over the sentences\n",
    "    for sentence in sentences:\n",
    "\n",
    "        # Checking which model to use\n",
    "        if model == \"bigram\":\n",
    "\n",
    "            # Applying the bigram model on the sentence\n",
    "            lob_prob, words = bigram_lm(\n",
    "                sentence, alpha_parameter, frequency_1, frequency_2, vocb_size\n",
    "            )\n",
    "\n",
    "        else:\n",
    "\n",
    "            # Applying the trigram model on the sentence\n",
    "            lob_prob, words = trigram_lm(\n",
    "                sentence, alpha_parameter, frequency_1, frequency_2, vocb_size\n",
    "            )\n",
    "\n",
    "        # Updating\n",
    "        total_log_prob += lob_prob\n",
    "        total_words += words\n",
    "\n",
    "    # Calculating the cross-entropy and the perpplexity\n",
    "    cross_entropy = -total_log_prob / total_words\n",
    "    perplexity = math.pow(2, cross_entropy)\n",
    "\n",
    "    return cross_entropy, perplexity"
   ]
  },
  {
   "cell_type": "markdown",
   "metadata": {
    "id": "_5RsnLquR2Tm"
   },
   "source": [
    "Fine-tune the alpha parameter of the Laplace smoothing method for both models and use the average perplexity metric to choose the best value"
   ]
  },
  {
   "cell_type": "code",
   "execution_count": 11,
   "metadata": {
    "colab": {
     "base_uri": "https://localhost:8080/",
     "height": 541
    },
    "executionInfo": {
     "elapsed": 27714,
     "status": "ok",
     "timestamp": 1738423016321,
     "user": {
      "displayName": "Dimitris Vougioukos",
      "userId": "03588049666007909203"
     },
     "user_tz": -120
    },
    "id": "8fK_ydh9R2mH",
    "outputId": "7e1b896a-4f97-487f-c6d9-57642a0611a5"
   },
   "outputs": [
    {
     "data": {
      "image/png": "[encoded data removed]",
      "text/plain": [
       "<Figure size 640x480 with 1 Axes>"
      ]
     },
     "metadata": {},
     "output_type": "display_data"
    },
    {
     "name": "stdout",
     "output_type": "stream",
     "text": [
      "\n",
      "The best value of the alpha parameter in the bigram language model is 0.01 and its corresponding average perplexity is 120.1200\n",
      "The best value of the alpha parameter in the trigram language model is 0.01 and its corresponding average perplexity is 424.7571\n"
     ]
    }
   ],
   "source": [
    "# Setting up the cross validation with 5 folds\n",
    "cross_validation = KFold(n_splits=5, shuffle=True, random_state=42)\n",
    "\n",
    "# Setting up the aplha values to test\n",
    "alpha_parameter_values = [0.01, 0.5, 1, 2, 5, 10]\n",
    "\n",
    "# Setting up the dictionaries to keep all the perplexity values of each alpha value\n",
    "bigram_perplexities = {\n",
    "    alpha_parameter_value: [] for alpha_parameter_value in alpha_parameter_values\n",
    "}\n",
    "trigram_perplexities = {\n",
    "    alpha_parameter_value: [] for alpha_parameter_value in alpha_parameter_values\n",
    "}\n",
    "\n",
    "# Iterating over the folds\n",
    "for train_indices, dev_indices in cross_validation.split(train_sentences_tokenized):\n",
    "\n",
    "    # Splitting into training and development subsets\n",
    "    train_sentences = [\n",
    "        train_sentences_tokenized[train_index] for train_index in train_indices\n",
    "    ]\n",
    "    dev_sentences = [\n",
    "        train_sentences_tokenized[dev_index] for dev_index in dev_indices\n",
    "    ]\n",
    "\n",
    "    # Getting the ngrams frequencies\n",
    "    unigrams_frequency, bigrams_frequency, trigrams_frequency = train_lms(\n",
    "        train_sentences\n",
    "    )\n",
    "\n",
    "    # Getting the vocabulary size\n",
    "    vocb_size = len(unigrams_frequency)\n",
    "\n",
    "    # Iterating over the alpha values\n",
    "    for alpha_parameter_value in alpha_parameter_values:\n",
    "\n",
    "        # Getting the perplexity of each model\n",
    "        bigram_perplexities[alpha_parameter_value].append(\n",
    "            calculate_cross_entropy_perplexity(\n",
    "                dev_sentences,\n",
    "                \"bigram\",\n",
    "                unigrams_frequency,\n",
    "                bigrams_frequency,\n",
    "                alpha_parameter_value,\n",
    "                vocb_size,\n",
    "            )[1]\n",
    "        )\n",
    "        trigram_perplexities[alpha_parameter_value].append(\n",
    "            calculate_cross_entropy_perplexity(\n",
    "                dev_sentences,\n",
    "                \"trigram\",\n",
    "                bigrams_frequency,\n",
    "                trigrams_frequency,\n",
    "                alpha_parameter_value,\n",
    "                vocb_size,\n",
    "            )[1]\n",
    "        )\n",
    "\n",
    "# Getting the mean perplexity of each alpha value for both models\n",
    "bigram_mean_perplexities = {\n",
    "    key: np.mean(value) for key, value in bigram_perplexities.items()\n",
    "}\n",
    "trigram_mean_perplexities = {\n",
    "    key: np.mean(value) for key, value in trigram_perplexities.items()\n",
    "}\n",
    "\n",
    "# Plotting mean perplexity for different values of alpha parameter\n",
    "plt.plot(\n",
    "    alpha_parameter_values,\n",
    "    list(bigram_mean_perplexities.values()),\n",
    "    label=\"Bigram\",\n",
    "    color=\"orange\"\n",
    ")\n",
    "plt.plot(\n",
    "    alpha_parameter_values,\n",
    "    list(trigram_mean_perplexities.values()),\n",
    "    label=\"Trigram\",\n",
    "    color=\"red\",\n",
    ")\n",
    "\n",
    "# Adding plot elements\n",
    "plt.xlabel(\"Alpha Parameter\")\n",
    "plt.ylabel(\"Mean Perplexity\")\n",
    "plt.title(\"Alpha Parameter Impact on Perplexity of LMs\")\n",
    "plt.xticks(alpha_parameter_values, alpha_parameter_values, rotation=45)\n",
    "plt.grid(True, which='both', linestyle='--', linewidth=0.8, alpha=0.4)\n",
    "plt.legend()\n",
    "\n",
    "# Showing the plot\n",
    "plt.show()\n",
    "\n",
    "# Getting the alpha value with the minimum average perplexity for both models\n",
    "best_bigram_alpha_parameter = min(\n",
    "    bigram_mean_perplexities, key=bigram_mean_perplexities.get\n",
    ")\n",
    "best_trigram_alpha_parameter = min(\n",
    "    trigram_mean_perplexities, key=trigram_mean_perplexities.get\n",
    ")\n",
    "\n",
    "print()\n",
    "print(\n",
    "    f\"The best value of the alpha parameter in the bigram language model is {best_bigram_alpha_parameter} and its corresponding average perplexity is {bigram_mean_perplexities[best_bigram_alpha_parameter]:.4f}\"\n",
    ")\n",
    "print(\n",
    "    f\"The best value of the alpha parameter in the trigram language model is {best_trigram_alpha_parameter} and its corresponding average perplexity is {trigram_mean_perplexities[best_trigram_alpha_parameter]:.4f}\"\n",
    ")"
   ]
  },
  {
   "cell_type": "markdown",
   "metadata": {
    "id": "UetOMpWVa4SB"
   },
   "source": [
    "Train both models on the entire train subset using the best alpha values and compute their cross-entropy and perplexity values using the test subset of the corpus"
   ]
  },
  {
   "cell_type": "code",
   "execution_count": 12,
   "metadata": {
    "colab": {
     "base_uri": "https://localhost:8080/",
     "height": 746
    },
    "executionInfo": {
     "elapsed": 4885,
     "status": "ok",
     "timestamp": 1738423049108,
     "user": {
      "displayName": "Dimitris Vougioukos",
      "userId": "03588049666007909203"
     },
     "user_tz": -120
    },
    "id": "WcBw2KNSa39N",
    "outputId": "43da5e46-bb78-4761-beb9-4675dc7dd166"
   },
   "outputs": [
    {
     "data": {
      "image/png": "[encoded data removed]",
      "text/plain": [
       "<Figure size 1000x600 with 2 Axes>"
      ]
     },
     "metadata": {},
     "output_type": "display_data"
    },
    {
     "name": "stdout",
     "output_type": "stream",
     "text": [
      "\n",
      "\u001b[4mBigram LM\u001b[0m\n",
      "Cross-Entropy: 7.5934\n",
      "Perplexity: 193.1207\n",
      "\n",
      "\u001b[4mTrigram LM\u001b[0m\n",
      "Cross-Entropy: 9.5335\n",
      "Perplexity: 741.1069\n"
     ]
    }
   ],
   "source": [
    "# Getting the ngrams frequencies\n",
    "unigrams_frequency, bigrams_frequency, trigrams_frequency = train_lms(\n",
    "    train_sentences_tokenized\n",
    ")\n",
    "\n",
    "# Getting the vocabulary size\n",
    "vocb_size = len(unigrams_frequency)\n",
    "\n",
    "# Getting the cross-entropy and perplexity of each model using the test\n",
    "# subset of the corpus\n",
    "bigram_cross_entropy, bigram_perplexity = calculate_cross_entropy_perplexity(\n",
    "    test_sentences_tokenized,\n",
    "    \"bigram\",\n",
    "    unigrams_frequency,\n",
    "    bigrams_frequency,\n",
    "    best_bigram_alpha_parameter,\n",
    "    vocb_size,\n",
    ")\n",
    "trigram_cross_entropy, trigram_perplexity = calculate_cross_entropy_perplexity(\n",
    "    test_sentences_tokenized,\n",
    "    \"trigram\",\n",
    "    bigrams_frequency,\n",
    "    trigrams_frequency,\n",
    "    best_trigram_alpha_parameter,\n",
    "    vocb_size,\n",
    ")\n",
    "\n",
    "# Setting a figure\n",
    "plt.figure(figsize=(10, 6))\n",
    "\n",
    "# Plotting cross-entropy values for both models\n",
    "plt.subplot(1, 2, 1)\n",
    "plt.bar(\n",
    "    [\"Bigram\", \"Trigram\"],\n",
    "    [bigram_cross_entropy, trigram_cross_entropy],\n",
    "    width=0.4,\n",
    "    alpha=0.9,\n",
    "    color=\"orange\",\n",
    ")\n",
    "plt.title(\"Cross-Entropy of LMs\")\n",
    "plt.ylabel(\"Cross-Entropy\")\n",
    "plt.xlabel(\"LMs\")\n",
    "plt.grid(True, which=\"both\", linestyle=\"--\", linewidth=0.8, alpha=0.4)\n",
    "\n",
    "# Plotting perplexity values for both models\n",
    "plt.subplot(1, 2, 2)\n",
    "plt.bar(\n",
    "    [\"Bigram\", \"Trigram\"],\n",
    "    [bigram_perplexity, trigram_perplexity],\n",
    "    width=0.4,\n",
    "    alpha=0.8,\n",
    "    color=\"red\",\n",
    ")\n",
    "plt.title(\"Perplexity of LMs\")\n",
    "plt.ylabel(\"Perplexity\")\n",
    "plt.xlabel(\"LMs\")\n",
    "plt.grid(True, which=\"both\", linestyle=\"--\", linewidth=0.8, alpha=0.4)\n",
    "\n",
    "# Showing plots\n",
    "plt.tight_layout()\n",
    "plt.show()\n",
    "\n",
    "print()\n",
    "print(\"\\033[4mBigram LM\\033[0m\")\n",
    "print(f\"Cross-Entropy: {bigram_cross_entropy:.4f}\")\n",
    "print(f\"Perplexity: {bigram_perplexity:.4f}\\n\")\n",
    "print(\"\\033[4mTrigram LM\\033[0m\")\n",
    "print(f\"Cross-Entropy: {trigram_cross_entropy:.4f}\")\n",
    "print(f\"Perplexity: {trigram_perplexity:.4f}\")"
   ]
  },
  {
   "cell_type": "markdown",
   "metadata": {
    "id": "v30i1AzMayKi"
   },
   "source": [
    "### **Task 3**"
   ]
  },
  {
   "cell_type": "markdown",
   "metadata": {
    "id": "IL9jrngM649J"
   },
   "source": [
    "Define a function for completing an incomplete sentence using the bigram language model"
   ]
  },
  {
   "cell_type": "code",
   "execution_count": 13,
   "metadata": {
    "executionInfo": {
     "elapsed": 413,
     "status": "ok",
     "timestamp": 1738423061133,
     "user": {
      "displayName": "Dimitris Vougioukos",
      "userId": "03588049666007909203"
     },
     "user_tz": -120
    },
    "id": "YQsegc-8vcNX"
   },
   "outputs": [],
   "source": [
    "def complete_sentence_bigram(\n",
    "    incomplete_sentence,\n",
    "    beam_width,\n",
    "    alpha_parameter,\n",
    "    unigrams_frequency,\n",
    "    bigrams_frequency,\n",
    "    vocb_size,\n",
    "):\n",
    "    \"\"\"\n",
    "    This function used to complete an incomplete sentence using the bigram model\n",
    "    and beam search method.\n",
    "\n",
    "    :param incomplete_sentence: The incomplete sentence\n",
    "    :param beam_width: The beam width\n",
    "    :param alpha_parameter: The alpha parameter of the Laplace smoothing\n",
    "    :param unigrams_frequency: The frequency of the unigrams\n",
    "    :param bigrams_frequency: The frequency of the bigrams\n",
    "    :param vocb_size: The size of the vocabulary\n",
    "    :return: The completed sentence\n",
    "    \"\"\"\n",
    "\n",
    "    # Initializing the current beam\n",
    "    current_beam = [(incomplete_sentence, 0)]\n",
    "\n",
    "    # Setting a counter for the max lenght of the generated sentence\n",
    "    max_length = 1\n",
    "\n",
    "    # Looping until we reach the max length\n",
    "    while max_length < 30:\n",
    "\n",
    "        # Initializing the list to keep the candidates of the next beam\n",
    "        candidates = []\n",
    "\n",
    "        # Iterating over all the sentences in the beam\n",
    "        for sentence, log_prob in current_beam:\n",
    "\n",
    "            # Getting the last word\n",
    "            last_word = sentence[-1]\n",
    "\n",
    "            # Checking the last word type\n",
    "            if last_word == \"<e>\":\n",
    "\n",
    "                # Keeping the sentence\n",
    "                candidates.append((sentence, log_prob))\n",
    "\n",
    "                continue\n",
    "\n",
    "            # Getting all the possible next words\n",
    "            possible_next_words = [\n",
    "                words[1]\n",
    "                for words in bigrams_frequency.keys()\n",
    "                if words[0] == last_word and words[1] not in [\"UNK\", \"<s>\"]\n",
    "            ]\n",
    "\n",
    "            # Iterating over all possible words\n",
    "            for possible_next_word in possible_next_words:\n",
    "\n",
    "                # Computing the next log probability of the sentence\n",
    "                next_prob = log_prob + math.log2(\n",
    "                    calculate_bigram_prob(\n",
    "                        last_word,\n",
    "                        possible_next_word,\n",
    "                        alpha_parameter,\n",
    "                        unigrams_frequency,\n",
    "                        bigrams_frequency,\n",
    "                        vocb_size,\n",
    "                    )\n",
    "                )\n",
    "\n",
    "                # Shaping the new sentence\n",
    "                next_sentence = sentence + [possible_next_word]\n",
    "\n",
    "                # Updating\n",
    "                candidates.append((next_sentence, next_prob))\n",
    "\n",
    "        # Checking whether there are candidates or not\n",
    "        if candidates == []:\n",
    "\n",
    "            break\n",
    "\n",
    "        # keepping only the top 'beam_width' sequences as the next beam\n",
    "        current_beam = heapq.nlargest(beam_width, candidates, key=lambda x: x[1])\n",
    "\n",
    "        # Updating\n",
    "        max_length += 1\n",
    "\n",
    "        # Checking if all sentences in the new beam end with token <e> and stop\n",
    "        if all(sentence[-1] == \"<e>\" for sentence, _ in current_beam):\n",
    "\n",
    "            break\n",
    "\n",
    "    # Checking the result\n",
    "    if candidates == []:\n",
    "\n",
    "        return [], 0\n",
    "\n",
    "    else:\n",
    "\n",
    "        # Keeping only the sentences which have a <e> token in the end\n",
    "        current_beam = [item for item in current_beam if item[0][-1] == \"<e>\"]\n",
    "\n",
    "        # Getting the best sentence\n",
    "        best_sentence = max(current_beam, key=lambda x: x[1])\n",
    "\n",
    "        return (\n",
    "            list(filter(lambda value: value != \"<s>\", best_sentence[0]))[:-1],\n",
    "            round(best_sentence[1], 3),\n",
    "        )"
   ]
  },
  {
   "cell_type": "markdown",
   "metadata": {
    "id": "_oNx0oa8_ykq"
   },
   "source": [
    "Define a function for completing an incomplete sentence using the trigram language model"
   ]
  },
  {
   "cell_type": "code",
   "execution_count": 14,
   "metadata": {
    "executionInfo": {
     "elapsed": 427,
     "status": "ok",
     "timestamp": 1738423065263,
     "user": {
      "displayName": "Dimitris Vougioukos",
      "userId": "03588049666007909203"
     },
     "user_tz": -120
    },
    "id": "cR5wyQ-s_3PD"
   },
   "outputs": [],
   "source": [
    "def complete_sentence_trigram(\n",
    "    incomplete_sentence,\n",
    "    beam_width,\n",
    "    alpha_parameter,\n",
    "    bigrams_frequency,\n",
    "    trigrams_frequency,\n",
    "    vocb_size,\n",
    "):\n",
    "    \"\"\"\n",
    "    This function used to complete an incomplete sentence using the trigram model\n",
    "    and beam search method.\n",
    "\n",
    "    :param incomplete_sentence: The incomplete sentence\n",
    "    :param beam_width: The beam width\n",
    "    :param alpha_parameter: The alpha parameter of the Laplace smoothing\n",
    "    :param bigrams_frequency: The frequency of the bigrams\n",
    "    :param trigrams_frequency: The frequency of the trigrams\n",
    "    :param vocb_size: The size of the vocabulary\n",
    "    :return: The completed sentence\n",
    "    \"\"\"\n",
    "\n",
    "    # Initializing the current beam\n",
    "    current_beam = [(incomplete_sentence, 0)]\n",
    "\n",
    "    # Setting a counter for the max lenght of the generated sentence\n",
    "    max_length = 1\n",
    "\n",
    "    # Looping until we reach the max length\n",
    "    while max_length < 30:\n",
    "\n",
    "        # Initializing the list to keep the candidates of the next beam\n",
    "        candidates = []\n",
    "\n",
    "        # Iterating over all the sentences in the beam\n",
    "        for sentence, log_prob in current_beam:\n",
    "\n",
    "            # Checking the length of the current sentence in the beam\n",
    "            # and getting the last two words respectively\n",
    "            if len(sentence) == 1:\n",
    "                last_two_words = ('<s>', sentence[-1])\n",
    "            else:\n",
    "                last_two_words = (sentence[-2], sentence[-1])\n",
    "\n",
    "            # Checking the last word type\n",
    "            if last_two_words[1] == \"<e>\":\n",
    "\n",
    "                # Keeping the sentence\n",
    "                candidates.append((sentence, log_prob))\n",
    "\n",
    "                continue\n",
    "\n",
    "            # Getting all the possible next words\n",
    "            possible_next_words = [\n",
    "                words[2] for words in trigrams_frequency.keys() if words[:2] == last_two_words and words[2] != \"UNK\"\n",
    "            ]\n",
    "\n",
    "            # Iterating over all possible words\n",
    "            for possible_next_word in possible_next_words:\n",
    "\n",
    "                # Computing the next log probability of the sentence\n",
    "                next_prob = log_prob + math.log2(calculate_trigram_prob(\n",
    "                    last_two_words[0],\n",
    "                    last_two_words[1],\n",
    "                    possible_next_word,\n",
    "                    alpha_parameter,\n",
    "                    bigrams_frequency,\n",
    "                    trigrams_frequency,\n",
    "                    vocb_size,\n",
    "                ))\n",
    "\n",
    "                # Shaping the new sentence\n",
    "                next_sentence = sentence + [possible_next_word]\n",
    "\n",
    "                # Updating\n",
    "                candidates.append((next_sentence, next_prob))\n",
    "\n",
    "        # Checking whether there are candidates or not\n",
    "        if candidates == []:\n",
    "\n",
    "            break\n",
    "\n",
    "        # keepping only the top 'beam_width' sequences as the next beam\n",
    "        current_beam = heapq.nlargest(beam_width, candidates, key=lambda x: x[1])\n",
    "\n",
    "        # Updating\n",
    "        max_length += 1\n",
    "\n",
    "        # Checking if all sentences in the new beam end with token <e> and stop\n",
    "        if all(sentence[-1] == \"<e>\" for sentence, _ in current_beam):\n",
    "\n",
    "            break\n",
    "\n",
    "    # Checking the content of the 'candidates' list\n",
    "    if candidates == []:\n",
    "\n",
    "        return [], 0\n",
    "\n",
    "    else:\n",
    "\n",
    "        # Keeping only the sentences that end\n",
    "        current_beam = [item for item in current_beam if item[0][-1] == \"<e>\"]\n",
    "\n",
    "        # Getting the best sentence\n",
    "        best_sentence = max(current_beam, key=lambda x: x[1])\n",
    "\n",
    "        return (\n",
    "            list(filter(lambda value: value != \"<s>\", best_sentence[0]))[:-1],\n",
    "            round(best_sentence[1], 3)\n",
    "        )"
   ]
  },
  {
   "cell_type": "markdown",
   "metadata": {
    "id": "fwCCf1oCJpOH"
   },
   "source": [
    "Try both language models to fill in some incomplete sentences"
   ]
  },
  {
   "cell_type": "code",
   "execution_count": 15,
   "metadata": {
    "colab": {
     "base_uri": "https://localhost:8080/"
    },
    "executionInfo": {
     "elapsed": 39749,
     "status": "ok",
     "timestamp": 1738423122671,
     "user": {
      "displayName": "Dimitris Vougioukos",
      "userId": "03588049666007909203"
     },
     "user_tz": -120
    },
    "id": "8w52I0PzJowO",
    "outputId": "5f6c09b6-9d82-40d9-eb0f-ce3447f18c2d"
   },
   "outputs": [
    {
     "name": "stdout",
     "output_type": "stream",
     "text": [
      "\u001b[1m                                                                                                                                                      Auto-Completion of Incomplete Sentences                                                                                                                                                       \u001b[0m\n",
      "\n",
      "╭──────────────────────────────────────────────────────────────────┬──────────────────────────────────────────────────────────────────┬──────────────────────────────────────────────────────────────────┬──────────────────────────────────────────────────────────────────┬──────────────────────────────────────────────────────────────────╮\n",
      "│                      \u001b[1mIncomplete Sentences\u001b[0m                        │                 \u001b[1mComplete Sentences - Bigram LM\u001b[0m                   │                         \u001b[1mScore - Bigram LM\u001b[0m                        │                \u001b[1mComplete Sentences - Trigram LM\u001b[0m                   │                         \u001b[1mScore - Trigram LM\u001b[0m                       │\n",
      "├──────────────────────────────────────────────────────────────────┼──────────────────────────────────────────────────────────────────┼──────────────────────────────────────────────────────────────────┼──────────────────────────────────────────────────────────────────┼──────────────────────────────────────────────────────────────────┤\n",
      "│ you are                                                          │ you are expected to the company said .                           │                                                          -17.346 │ you are not expected to be identified .                          │                                                          -28.755 │\n",
      "├──────────────────────────────────────────────────────────────────┼──────────────────────────────────────────────────────────────────┼──────────────────────────────────────────────────────────────────┼──────────────────────────────────────────────────────────────────┼──────────────────────────────────────────────────────────────────┤\n",
      "│ he decided to play                                               │ he decided to play a share .                                     │                                                          -10.624 │ he decided to play a role in the second quarter .                │                                                          -28.86  │\n",
      "├──────────────────────────────────────────────────────────────────┼──────────────────────────────────────────────────────────────────┼──────────────────────────────────────────────────────────────────┼──────────────────────────────────────────────────────────────────┼──────────────────────────────────────────────────────────────────┤\n",
      "│ the important thing                                              │ the important thing they said .                                  │                                                           -9.899 │ the important thing is the first quarter .                       │                                                          -24.008 │\n",
      "├──────────────────────────────────────────────────────────────────┼──────────────────────────────────────────────────────────────────┼──────────────────────────────────────────────────────────────────┼──────────────────────────────────────────────────────────────────┼──────────────────────────────────────────────────────────────────┤\n",
      "│ she wants to comment                                             │ she wants to comment .                                           │                                                           -2.979 │ she wants to comment on the sale of the company said .           │                                                          -21.938 │\n",
      "├──────────────────────────────────────────────────────────────────┼──────────────────────────────────────────────────────────────────┼──────────────────────────────────────────────────────────────────┼──────────────────────────────────────────────────────────────────┼──────────────────────────────────────────────────────────────────┤\n",
      "│ you need to find                                                 │ you need to find it said .                                       │                                                           -9.225 │ you need to find a way to cut its trade surplus .                │                                                          -32.35  │\n",
      "├──────────────────────────────────────────────────────────────────┼──────────────────────────────────────────────────────────────────┼──────────────────────────────────────────────────────────────────┼──────────────────────────────────────────────────────────────────┼──────────────────────────────────────────────────────────────────┤\n",
      "│ the german economy                                               │ the german economy .                                             │                                                           -2.786 │ the german economy , '' he said .                                │                                                          -12.553 │\n",
      "├──────────────────────────────────────────────────────────────────┼──────────────────────────────────────────────────────────────────┼──────────────────────────────────────────────────────────────────┼──────────────────────────────────────────────────────────────────┼──────────────────────────────────────────────────────────────────┤\n",
      "│ yesterday                                                        │ yesterday .                                                      │                                                           -2.939 │ yesterday , dealers said .                                       │                                                           -9.845 │\n",
      "├──────────────────────────────────────────────────────────────────┼──────────────────────────────────────────────────────────────────┼──────────────────────────────────────────────────────────────────┼──────────────────────────────────────────────────────────────────┼──────────────────────────────────────────────────────────────────┤\n",
      "│ i would like to eat                                              │                                                                  │                                                            0     │                                                                  │                                                            0     │\n",
      "├──────────────────────────────────────────────────────────────────┼──────────────────────────────────────────────────────────────────┼──────────────────────────────────────────────────────────────────┼──────────────────────────────────────────────────────────────────┼──────────────────────────────────────────────────────────────────┤\n",
      "│ i got an message                                                 │ i got an message ''                                              │                                                           -8.815 │                                                                  │                                                            0     │\n",
      "├──────────────────────────────────────────────────────────────────┼──────────────────────────────────────────────────────────────────┼──────────────────────────────────────────────────────────────────┼──────────────────────────────────────────────────────────────────┼──────────────────────────────────────────────────────────────────┤\n",
      "│ <s>                                                              │ he said .                                                        │                                                            0.705 │ he said .                                                        │                                                           -7.131 │\n",
      "╰──────────────────────────────────────────────────────────────────┴──────────────────────────────────────────────────────────────────┴──────────────────────────────────────────────────────────────────┴──────────────────────────────────────────────────────────────────┴──────────────────────────────────────────────────────────────────╯\n"
     ]
    }
   ],
   "source": [
    "# Defining some incomplete sentences\n",
    "incomplete_sentences = [\n",
    "    [\"you\", \"are\"],\n",
    "    [\"he\", \"decided\", \"to\", \"play\"],\n",
    "    [\"the\", \"important\", \"thing\"],\n",
    "    [\"she\", \"wants\", \"to\", \"comment\"],\n",
    "    [\"you\", \"need\", \"to\", \"find\"],\n",
    "    [\"the\", \"german\", \"economy\"],\n",
    "    [\"yesterday\"],\n",
    "    [\"i\", \"would\", \"like\", \"to\", \"eat\"],\n",
    "    [\"i\", \"got\", \"an\", \"message\"],\n",
    "    [\"<s>\"],\n",
    "]\n",
    "\n",
    "# Initializing lists to keep the bigram and trigram results\n",
    "bigram_performance, trigram_performance = [], []\n",
    "\n",
    "# Iterating over the incomplete sentences\n",
    "for incomplete_sentence in incomplete_sentences:\n",
    "\n",
    "    # Completing the sentences using the bigram and the trigram lms\n",
    "    bigram_performance.append(\n",
    "        complete_sentence_bigram(\n",
    "            incomplete_sentence,\n",
    "            4,\n",
    "            best_bigram_alpha_parameter,\n",
    "            unigrams_frequency,\n",
    "            bigrams_frequency,\n",
    "            vocb_size,\n",
    "        )\n",
    "    )\n",
    "    trigram_performance.append(\n",
    "        complete_sentence_trigram(\n",
    "            incomplete_sentence,\n",
    "            4,\n",
    "            best_trigram_alpha_parameter,\n",
    "            bigrams_frequency,\n",
    "            trigrams_frequency,\n",
    "            vocb_size,\n",
    "        )\n",
    "    )\n",
    "\n",
    "\n",
    "# Creating a table showing how the auto-completion works\n",
    "\n",
    "# Creating the table values\n",
    "table_data = [\n",
    "    [\n",
    "        \" \".join(incomplete),\n",
    "        \" \".join(bigram[0]),\n",
    "        bigram[1],\n",
    "        \" \".join(trigram[0]),\n",
    "        trigram[1],\n",
    "    ]\n",
    "    for incomplete, bigram, trigram in zip(\n",
    "        incomplete_sentences, bigram_performance, trigram_performance\n",
    "    )\n",
    "]\n",
    "\n",
    "# Creating the columnn names\n",
    "table_headers = [\n",
    "    f\"{header:^70}\"\n",
    "    for header in [\n",
    "        \"\\033[1mIncomplete Sentences\\033[0m\",\n",
    "        \"\\033[1mComplete Sentences - Bigram LM\\033[0m\",\n",
    "        \"\\033[1mScore - Bigram LM\\033[0m\",\n",
    "        \"\\033[1mComplete Sentences - Trigram LM\\033[0m\",\n",
    "        \"\\033[1mScore - Trigram LM\\033[0m\",\n",
    "    ]\n",
    "]\n",
    "\n",
    "print(f\"\\033[1m{'Auto-Completion of Incomplete Sentences':^340}\\033[0m\")\n",
    "print()\n",
    "print(tabulate(table_data, headers=table_headers, tablefmt=\"rounded_grid\"))"
   ]
  },
  {
   "cell_type": "markdown",
   "metadata": {
    "id": "xxGPU8TvJVjV"
   },
   "source": [
    "### **Task 4**"
   ]
  },
  {
   "cell_type": "markdown",
   "metadata": {
    "id": "gOEPLZVfmrYp"
   },
   "source": [
    "Define a function to calculate the probabilities of each candidate inversely proportional to edit distances"
   ]
  },
  {
   "cell_type": "code",
   "execution_count": 16,
   "metadata": {
    "executionInfo": {
     "elapsed": 483,
     "status": "ok",
     "timestamp": 1738423135542,
     "user": {
      "displayName": "Dimitris Vougioukos",
      "userId": "03588049666007909203"
     },
     "user_tz": -120
    },
    "id": "0rdzQJsVmuKj"
   },
   "outputs": [],
   "source": [
    "def compute_edit_distance_probability(candidates):\n",
    "    \"\"\"\n",
    "    This function used to compute the probabilities inversely proportional to\n",
    "    edit distances.\n",
    "\n",
    "    :param candidates: A list with candidates and their edit distances\n",
    "    :return: The provided 'candidates' list including the corresponding probabilities\n",
    "    \"\"\"\n",
    "\n",
    "    # Initializing a variable to keep the sum of all the probs\n",
    "    sum_probs = 0\n",
    "\n",
    "    # Iterating over all the candidates\n",
    "    for candidate in candidates:\n",
    "\n",
    "        # Computing the probability\n",
    "        inverse_prob = 1 / (1 + candidate[1])\n",
    "\n",
    "        # Adding the prob\n",
    "        candidate.append(inverse_prob)\n",
    "\n",
    "        # Updating the sum\n",
    "        sum_probs += inverse_prob\n",
    "\n",
    "    # Iterating over the candidates\n",
    "    for candidate in candidates:\n",
    "\n",
    "        # Normalizing\n",
    "        candidate[2] = candidate[2] / sum_probs\n",
    "\n",
    "        del candidate[1]\n",
    "\n",
    "    return candidates"
   ]
  },
  {
   "cell_type": "markdown",
   "metadata": {
    "id": "0d0SAMQA4LgT"
   },
   "source": [
    "Define a function to find the candidates for a given word and their inverse edit distance probabilities"
   ]
  },
  {
   "cell_type": "code",
   "execution_count": 17,
   "metadata": {
    "executionInfo": {
     "elapsed": 493,
     "status": "ok",
     "timestamp": 1738423142551,
     "user": {
      "displayName": "Dimitris Vougioukos",
      "userId": "03588049666007909203"
     },
     "user_tz": -120
    },
    "id": "inxppZTe2rRe"
   },
   "outputs": [],
   "source": [
    "def find_candidates(word, vocb, max_distance):\n",
    "    \"\"\"\n",
    "    This function used to find candidates for a specific word based on\n",
    "    vocabulary and using the Levenshtein distance.\n",
    "\n",
    "    :param word: The word\n",
    "    :param vocb: The vocabulary\n",
    "    :param max_distance: The maximum distance\n",
    "    :return: The candidates\n",
    "    \"\"\"\n",
    "\n",
    "    # Initializing the list to hold all candidates\n",
    "    candidates = []\n",
    "\n",
    "    # Iterating over all the words in the vocabulary\n",
    "    for vocb_word in vocb:\n",
    "\n",
    "        # Computing the relevant edit distance\n",
    "        edit_distance = Levenshtein.distance(word, vocb_word)\n",
    "\n",
    "        # Checking whether the distance is acceptable\n",
    "        if edit_distance <= max_distance:\n",
    "\n",
    "            # Updating\n",
    "            candidates.append([vocb_word, edit_distance])\n",
    "\n",
    "    # Getting the inverse probabilities\n",
    "    candidates = compute_edit_distance_probability(candidates)\n",
    "\n",
    "    return candidates"
   ]
  },
  {
   "cell_type": "markdown",
   "metadata": {
    "id": "vjnRl9i2443q"
   },
   "source": [
    "Define a function to apply the spelling corrector on a given misspelled sentence"
   ]
  },
  {
   "cell_type": "code",
   "execution_count": 18,
   "metadata": {
    "executionInfo": {
     "elapsed": 447,
     "status": "ok",
     "timestamp": 1738423150253,
     "user": {
      "displayName": "Dimitris Vougioukos",
      "userId": "03588049666007909203"
     },
     "user_tz": -120
    },
    "id": "llfAxdHqpzzz"
   },
   "outputs": [],
   "source": [
    "def apply_spelling_corrector(\n",
    "    sentence,\n",
    "    vocb,\n",
    "    vocb_size,\n",
    "    max_distance,\n",
    "    lambda1,\n",
    "    lambda2,\n",
    "    bigram_alpha_parameter,\n",
    "    trigram_alpha_parameter,\n",
    "    unigrams_frequency,\n",
    "    bigrams_frequency,\n",
    "    trigrams_frequency,\n",
    "    beam_width,\n",
    "):\n",
    "    \"\"\"\n",
    "    This function used to apply the spelling corrector to a given sentence.\n",
    "\n",
    "    :param sentence: The sentence\n",
    "    :param vocb: The vocabulary\n",
    "    :param vocb_size: The size of the vocabulary\n",
    "    :param max_distance: The maximum acceptable edit distance\n",
    "    :param lambda1: The first weight affecting the language model\n",
    "    :param lambda2: The second weight affecting the edit distance\n",
    "    :param alpha_parameter: The alpha parameter of the Laplace smoothing\n",
    "    :param unigrams_frequency: The frequency of the unigrams\n",
    "    :param bigrams_frequency: The frequency of the bigrams\n",
    "    :param beam_width: The beam width\n",
    "    :return: The corrected sentence\n",
    "    \"\"\"\n",
    "\n",
    "    # Initializing an empty dictionary\n",
    "    candidates = {}\n",
    "\n",
    "    # Iterating over the words\n",
    "    for word in sentence:\n",
    "\n",
    "        # Getting the candidates\n",
    "        candidates[word] = find_candidates(word, vocb, max_distance)\n",
    "\n",
    "    # Setting up the beam\n",
    "    beam = [([\"<s>\", \"<s>\"], 0, 0, 0)]\n",
    "\n",
    "    # Iterating over the indices of the provided sentence\n",
    "    for loop in range(len(sentence)):\n",
    "\n",
    "        # Checking whether there are candidates for the current word\n",
    "        if not candidates[sentence[loop]]:\n",
    "\n",
    "            # Iterating over the sequences of the current beam\n",
    "            for sequence in beam:\n",
    "\n",
    "                # Appending the word which does not have candidates\n",
    "                sequence[0].append(sentence[loop])\n",
    "\n",
    "        else:\n",
    "\n",
    "            # Setting up the new beam\n",
    "            next_beam = []\n",
    "\n",
    "            # Iterating over the values of the current beam\n",
    "            for words_path, lm_score, inv_prob, _ in beam:\n",
    "\n",
    "                # Iterating over the candidates of the current word of the sentence\n",
    "                for candidate in candidates[sentence[loop]]:\n",
    "\n",
    "                    # Forming the new sentence\n",
    "                    next_sentence = words_path + [candidate[0]]\n",
    "\n",
    "                    # Computing the bigram lm score\n",
    "                    lm_score_bigram = math.log2(\n",
    "                        calculate_bigram_prob(\n",
    "                            words_path[-1],\n",
    "                            candidate[0],\n",
    "                            bigram_alpha_parameter,\n",
    "                            unigrams_frequency,\n",
    "                            bigrams_frequency,\n",
    "                            vocb_size,\n",
    "                        )\n",
    "                    )\n",
    "\n",
    "                    # Computing the trigram lm score\n",
    "                    lm_score_trigram = math.log2(\n",
    "                        calculate_trigram_prob(\n",
    "                            words_path[-2],\n",
    "                            words_path[-1],\n",
    "                            candidate[0],\n",
    "                            trigram_alpha_parameter,\n",
    "                            bigrams_frequency,\n",
    "                            trigrams_frequency,\n",
    "                            vocb_size,\n",
    "                        )\n",
    "                    )\n",
    "\n",
    "                    # Checking which is greater and computing the next lm score\n",
    "                    if lm_score_bigram > lm_score_trigram:\n",
    "                        next_lm_score = lm_score + lm_score_bigram\n",
    "                    else:\n",
    "                        next_lm_score = lm_score + lm_score_trigram\n",
    "\n",
    "                    # Computing the new edit distance probability\n",
    "                    next_inv_prob = inv_prob + math.log2(candidate[1])\n",
    "\n",
    "                    # Appending to the new beam\n",
    "                    next_beam.append(\n",
    "                        (\n",
    "                            next_sentence,\n",
    "                            next_lm_score,\n",
    "                            next_inv_prob,\n",
    "                            lambda1 * next_lm_score + lambda2 * next_inv_prob,\n",
    "                        )\n",
    "                    )\n",
    "\n",
    "            # keepping only the top 'beam_width' sequences as the next beam\n",
    "            beam = heapq.nlargest(beam_width, next_beam, key=lambda x: x[3])\n",
    "\n",
    "    # Getting the final corrected sentence\n",
    "    corrected_sentence = \" \".join(\n",
    "        heapq.nlargest(1, beam, key=lambda x: x[3])[0][0][2:]\n",
    "    )\n",
    "\n",
    "    return corrected_sentence"
   ]
  },
  {
   "cell_type": "markdown",
   "metadata": {
    "id": "tOJtVTBqI9Hb"
   },
   "source": [
    "### **Task 5**"
   ]
  },
  {
   "cell_type": "markdown",
   "metadata": {
    "id": "TlWW1TKL73dw"
   },
   "source": [
    "Define a function to add noise to a sentence by replacing with a small probability each non-space character with another random non-space character  "
   ]
  },
  {
   "cell_type": "code",
   "execution_count": 19,
   "metadata": {
    "executionInfo": {
     "elapsed": 682,
     "status": "ok",
     "timestamp": 1738423155414,
     "user": {
      "displayName": "Dimitris Vougioukos",
      "userId": "03588049666007909203"
     },
     "user_tz": -120
    },
    "id": "aX8H7s_HxnX3"
   },
   "outputs": [],
   "source": [
    "def add_noise_to_sentences(sentences):\n",
    "    \"\"\"\n",
    "    This function used to add noise (change some characters) to the provided\n",
    "    sentences.\n",
    "\n",
    "    :param sentences: The sentences\n",
    "    :return: The noisy sentences\n",
    "    \"\"\"\n",
    "\n",
    "    # Initializing the list to keep all the noisy sentences\n",
    "    noisy_sentences = []\n",
    "\n",
    "    # Iterating over the sentences\n",
    "    for sentence in sentences:\n",
    "\n",
    "        # Initializing a list to keep the new noisy words of the current sentence\n",
    "        noisy_sentence = []\n",
    "\n",
    "        # Iterating over the words of the current sentence\n",
    "        for word in sentence:\n",
    "\n",
    "            # Initializing a list to keep the new noisy characters of the current word\n",
    "            noisy_word = []\n",
    "\n",
    "            # Iterating over the characters of the current word\n",
    "            for char in word:\n",
    "\n",
    "                # Checking if we can add noise\n",
    "                if char == \" \" or random.random() > 0.2:\n",
    "\n",
    "                    # Adding the character\n",
    "                    noisy_word.append(char)\n",
    "\n",
    "                else:\n",
    "\n",
    "                    # Replacing the character and adding it to the list\n",
    "                    noisy_word.append(random.choice(\"abcdefghijklmnopqrstuvwxyz\"))\n",
    "\n",
    "            # Adding the new noisy word\n",
    "            noisy_sentence.append(\"\".join(noisy_word))\n",
    "\n",
    "        # Adding the new noisy sentence\n",
    "        noisy_sentences.append(noisy_sentence)\n",
    "\n",
    "    return noisy_sentences"
   ]
  },
  {
   "cell_type": "markdown",
   "metadata": {
    "id": "RCQ7L-uq8XI8"
   },
   "source": [
    "Create a development and test artificial datasets from the test subset of the corpus"
   ]
  },
  {
   "cell_type": "code",
   "execution_count": 20,
   "metadata": {
    "colab": {
     "base_uri": "https://localhost:8080/"
    },
    "executionInfo": {
     "elapsed": 1001,
     "status": "ok",
     "timestamp": 1738423249107,
     "user": {
      "displayName": "Dimitris Vougioukos",
      "userId": "03588049666007909203"
     },
     "user_tz": -120
    },
    "id": "K816gBQWonfd",
    "outputId": "2b7db423-4be2-4d5f-daae-b70b23ec136c"
   },
   "outputs": [
    {
     "name": "stdout",
     "output_type": "stream",
     "text": [
      "\u001b[4mFirst 5 sentences before adding noise\u001b[0m\n",
      "[('the', 'board', 'declined', 'to', 'grant', 'that', 'permission'), ('base', 'rate', 'is', 'currently', 'nine', 'pct'), ('a', 'hutton', 'official', 'declined', 'comment'), ('some', 'top', 'chemical', 'executives', 'share', 'the', 'concern'), ('the', 'offer', 'closes', 'next', 'friday')]\n",
      "\n",
      "\u001b[4mFirst 5 sentences after adding noise\u001b[0m\n",
      "[['the', 'uxard', 'declibed', 'so', 'grant', 'that', 'permisbifn'], ['bmse', 'rate', 'rs', 'curaentld', 'nine', 'yyt'], ['a', 'hulton', 'sfpicivl', 'declined', 'commeha'], ['somu', 'cop', 'hhemical', 'exvcutivem', 'shgof', 'the', 'conrern'], ['tpe', 'ofaer', 'closes', 'njxx', 'frsday']]\n"
     ]
    }
   ],
   "source": [
    "# Filtering the sentences\n",
    "filtered_sentences = list(\n",
    "    {\n",
    "        tuple(sentence[:-1])\n",
    "        for sentence in test_sentences_tokenized\n",
    "        if \"UNK\" not in sentence\n",
    "        and re.fullmatch(r\"[A-Za-z\\s]+\\.?\", \" \".join(sentence))\n",
    "        and len(sentence) <= 8\n",
    "        and len(sentence) >= 4\n",
    "    }\n",
    ")\n",
    "\n",
    "# Selecting 80 random sentences\n",
    "random.seed(42)\n",
    "filtered_sentences = random.sample(filtered_sentences, min(80, len(filtered_sentences)))\n",
    "\n",
    "# Creating the dev and test datasets\n",
    "dev_sentences_spelling_corrector = filtered_sentences[:40]\n",
    "test_sentences_spelling_corrector = filtered_sentences[40:]\n",
    "\n",
    "# Add noise to the sentences\n",
    "noisy_dev_sentences_spelling_corrector = add_noise_to_sentences(\n",
    "    dev_sentences_spelling_corrector\n",
    ")\n",
    "noisy_test_sentences_spelling_corrector = add_noise_to_sentences(\n",
    "    test_sentences_spelling_corrector\n",
    ")\n",
    "\n",
    "print(\n",
    "    f\"\\033[4mFirst 5 sentences before adding noise\\033[0m\\n{dev_sentences_spelling_corrector[:5]}\\n\"\n",
    ")\n",
    "print(\n",
    "    f\"\\033[4mFirst 5 sentences after adding noise\\033[0m\\n{noisy_dev_sentences_spelling_corrector[:5]}\"\n",
    ")"
   ]
  },
  {
   "cell_type": "markdown",
   "metadata": {
    "id": "4jNiitvrJJwI"
   },
   "source": [
    "### **Task 6**"
   ]
  },
  {
   "cell_type": "markdown",
   "metadata": {
    "id": "BVI0tfMNJGP4"
   },
   "source": [
    "Define a function to evaluate the spelling corrector by calculating the WER and CER metrics"
   ]
  },
  {
   "cell_type": "code",
   "execution_count": 21,
   "metadata": {
    "executionInfo": {
     "elapsed": 571,
     "status": "ok",
     "timestamp": 1738423256822,
     "user": {
      "displayName": "Dimitris Vougioukos",
      "userId": "03588049666007909203"
     },
     "user_tz": -120
    },
    "id": "vwb4URoiJIdr"
   },
   "outputs": [],
   "source": [
    "def evaluate_spelling_corrector(predicted_sentences, actual_sentences):\n",
    "    \"\"\"\n",
    "    This function used to evalute the spelling corrector using the word error\n",
    "    rate (WER) and character error rate (CER) metrics.\n",
    "\n",
    "    :param predicted_sentences: The predicted sentences\n",
    "    :param actual_sentences: The actual sentences - ground truth\n",
    "    :return: The WER and CER scores\n",
    "    \"\"\"\n",
    "\n",
    "    # Initializing variables to keep the sum of WER and CER scores\n",
    "    cer_sum = 0\n",
    "    wer_sum = 0\n",
    "\n",
    "    # Getting the number sentences\n",
    "    total_sentences = len(actual_sentences)\n",
    "\n",
    "    # Iterating over the sentences\n",
    "    for index in range(total_sentences):\n",
    "\n",
    "        # Computing the WER and CER scores and updating the sums\n",
    "        wer_sum += wer.compute(\n",
    "            predictions=[predicted_sentences[index]],\n",
    "            references=[actual_sentences[index]]\n",
    "        )\n",
    "        cer_sum += cer.compute(\n",
    "            predictions=[predicted_sentences[index]],\n",
    "            references=[actual_sentences[index]]\n",
    "        )\n",
    "\n",
    "    # Getting the averages\n",
    "    scores = (round(wer_sum / total_sentences, 3), round(cer_sum / total_sentences, 3))\n",
    "\n",
    "    return scores"
   ]
  },
  {
   "cell_type": "markdown",
   "metadata": {
    "id": "71zjg7TJ-zxP"
   },
   "source": [
    "Fine-tune the lamda parameters from the formula $\\text{argmax }\\lambda_1 \\log P(t_1^k) + \\lambda_2 \\log P(w_1^k|t_1^k)$, to control the importance of the language model score $log P(t_1^k)$ vs the importance of Levenshtein distance $log P(w_1^k|t_1^k)$"
   ]
  },
  {
   "cell_type": "code",
   "execution_count": 22,
   "metadata": {
    "executionInfo": {
     "elapsed": 67965,
     "status": "ok",
     "timestamp": 1738423349521,
     "user": {
      "displayName": "Dimitris Vougioukos",
      "userId": "03588049666007909203"
     },
     "user_tz": -120
    },
    "id": "65qgOnmYAmCQ"
   },
   "outputs": [],
   "source": [
    "# Creating a list with the words of the vocabulary\n",
    "vocb = [word[0] for word in list(unigrams_frequency.keys())]\n",
    "\n",
    "# Setting up some pairs of lambda values to test\n",
    "lambda_pairs = [(0.7, 0.3), (0.5, 0.5), (0.4, 0.6), (0.2, 0.8), (0.1, 0.9)]\n",
    "\n",
    "# Getting the join of the tokens of each dev sentence\n",
    "joined_dev_sentences = [\n",
    "    \" \".join(sentence) for sentence in dev_sentences_spelling_corrector\n",
    "]\n",
    "\n",
    "# Initializing a dictionary to keep the scores of the lambda pairs\n",
    "lambda_pairs_score = {}\n",
    "\n",
    "# Iterating over the lambda pairs\n",
    "for lambda_pair in lambda_pairs:\n",
    "\n",
    "    # Initializing a list to keep the corrected sentences\n",
    "    corrected_dev_sentences = []\n",
    "\n",
    "    # Iterating over the dev noisy sentences\n",
    "    for sentence in noisy_dev_sentences_spelling_corrector:\n",
    "\n",
    "        # Applying the spelling corrector\n",
    "        corrected_dev_sentences.append(\n",
    "            apply_spelling_corrector(\n",
    "                sentence,\n",
    "                vocb,\n",
    "                vocb_size,\n",
    "                4,\n",
    "                lambda_pair[0],\n",
    "                lambda_pair[1],\n",
    "                best_bigram_alpha_parameter,\n",
    "                best_trigram_alpha_parameter,\n",
    "                unigrams_frequency,\n",
    "                bigrams_frequency,\n",
    "                trigrams_frequency,\n",
    "                4,\n",
    "            )\n",
    "        )\n",
    "\n",
    "    # Computing and updating the scores\n",
    "    lambda_pairs_score[f\"(λ1:{lambda_pair[0]},λ2:{lambda_pair[1]})\"] = (\n",
    "        evaluate_spelling_corrector(corrected_dev_sentences, joined_dev_sentences)\n",
    "    )"
   ]
  },
  {
   "cell_type": "markdown",
   "metadata": {
    "id": "pMIMt022assr"
   },
   "source": [
    "Show the scores of the spelling corrector for different values of lambda parameters"
   ]
  },
  {
   "cell_type": "code",
   "execution_count": 23,
   "metadata": {
    "colab": {
     "base_uri": "https://localhost:8080/",
     "height": 564
    },
    "executionInfo": {
     "elapsed": 1073,
     "status": "ok",
     "timestamp": 1738423390363,
     "user": {
      "displayName": "Dimitris Vougioukos",
      "userId": "03588049666007909203"
     },
     "user_tz": -120
    },
    "id": "aYrdFfl5RWsH",
    "outputId": "594ef2cb-1213-46c1-b0bb-346ef5269923"
   },
   "outputs": [
    {
     "data": {
      "image/png": "[encoded data removed]",
      "text/plain": [
       "<Figure size 1000x600 with 1 Axes>"
      ]
     },
     "metadata": {},
     "output_type": "display_data"
    }
   ],
   "source": [
    "# Getting the values of x-axis\n",
    "x_values = list(lambda_pairs_score.keys())\n",
    "\n",
    "# Initializing the lists to keep the bar values\n",
    "bar1_values, bar2_values, bar3_values = [], [], []\n",
    "\n",
    "# Iterating over the dictionary\n",
    "for value in lambda_pairs_score.values():\n",
    "\n",
    "    # Updating\n",
    "    bar1_values.append(value[0])\n",
    "    bar2_values.append(value[1])\n",
    "    bar3_values.append(round(np.mean(value), 3))\n",
    "\n",
    "# Defining bars width and x-axis positions\n",
    "bar_width = 0.3\n",
    "x_posititons = np.arange(len(x_values))\n",
    "\n",
    "# Creating the plot\n",
    "plt.figure(figsize=(10, 6))\n",
    "\n",
    "# Adding the bars\n",
    "wer_bars = plt.bar(\n",
    "    x_posititons - bar_width,\n",
    "    bar1_values,\n",
    "    width=bar_width,\n",
    "    label=\"WER\",\n",
    "    alpha=0.9,\n",
    "    color=\"orange\",\n",
    ")\n",
    "cer_bars = plt.bar(\n",
    "    x_posititons, bar2_values, width=bar_width, label=\"CER\", alpha=0.8, color=\"red\"\n",
    ")\n",
    "average_bars = plt.bar(\n",
    "    x_posititons + bar_width,\n",
    "    bar3_values,\n",
    "    width=bar_width,\n",
    "    label=\"Average\",\n",
    "    color=\"grey\",\n",
    ")\n",
    "\n",
    "# Iterating over the different type of bars\n",
    "for bars in [wer_bars, cer_bars, average_bars]:\n",
    "\n",
    "    # Iterating over the bars of a specific type\n",
    "    for bar in bars:\n",
    "\n",
    "        # Getting the height/value\n",
    "        height = bar.get_height()\n",
    "\n",
    "        # Adding the value on top of the bar\n",
    "        plt.text(\n",
    "            bar.get_x() + bar.get_width() / 2,\n",
    "            height,\n",
    "            str(height),\n",
    "            ha=\"center\",\n",
    "            va=\"bottom\",\n",
    "            fontsize=10,\n",
    "        )\n",
    "\n",
    "# Adding plot elements\n",
    "plt.xlabel(\"Lambda Pairs\")\n",
    "plt.ylabel(\"Score\")\n",
    "plt.title(\"Spelling Corector's Scores For Different Lambda Values\")\n",
    "plt.xticks(x_posititons, x_values)\n",
    "plt.grid(True, which=\"both\", linestyle=\"--\", linewidth=0.8, alpha=0.4)\n",
    "plt.legend()\n",
    "\n",
    "# Showing the plot\n",
    "plt.show()"
   ]
  },
  {
   "cell_type": "markdown",
   "metadata": {
    "id": "dWzAs9OEeo6B"
   },
   "source": [
    "As we can see from the bar chart above, the lambda pair that performs best on the spelling corrector is λ1=0.1 and λ2=0.9 where λ1 expresses how much the language model affects the spelling corrector and λ2 how much the Levenshtein distances affect it respectively"
   ]
  },
  {
   "cell_type": "markdown",
   "metadata": {
    "id": "vV4Qn_GYtF_P"
   },
   "source": [
    "Test the spelling corrector on the test dataset of misspelled sentences"
   ]
  },
  {
   "cell_type": "code",
   "execution_count": 24,
   "metadata": {
    "executionInfo": {
     "elapsed": 13794,
     "status": "ok",
     "timestamp": 1738423424695,
     "user": {
      "displayName": "Dimitris Vougioukos",
      "userId": "03588049666007909203"
     },
     "user_tz": -120
    },
    "id": "K0lnJz01ffpl"
   },
   "outputs": [],
   "source": [
    "# Getting the join of the tokens of each test sentence\n",
    "joined_test_sentences = [\n",
    "    \" \".join(sentence) for sentence in test_sentences_spelling_corrector\n",
    "]\n",
    "\n",
    "# Getting the join of the tokens of each noisy test sentence\n",
    "joined_noisy_test_sentences = [\n",
    "    \" \".join(sentence) for sentence in noisy_test_sentences_spelling_corrector\n",
    "]\n",
    "\n",
    "# Initializing a list to keep the corrected sentences\n",
    "corrected_test_sentences = []\n",
    "\n",
    "# Iterating over the test noisy sentences\n",
    "for sentence in noisy_test_sentences_spelling_corrector:\n",
    "\n",
    "    # Applying the spelling corrector\n",
    "    corrected_test_sentences.append(\n",
    "        apply_spelling_corrector(\n",
    "            sentence,\n",
    "            vocb,\n",
    "            vocb_size,\n",
    "            4,\n",
    "            0.1,\n",
    "            0.9,\n",
    "            best_bigram_alpha_parameter,\n",
    "            best_trigram_alpha_parameter,\n",
    "            unigrams_frequency,\n",
    "            bigrams_frequency,\n",
    "            trigrams_frequency,\n",
    "            4,\n",
    "        )\n",
    "    )\n",
    "\n",
    "# Computing the scores\n",
    "scores = evaluate_spelling_corrector(corrected_test_sentences, joined_test_sentences)"
   ]
  },
  {
   "cell_type": "markdown",
   "metadata": {
    "id": "PXok6Bl9tRpt"
   },
   "source": [
    "Show the results"
   ]
  },
  {
   "cell_type": "code",
   "execution_count": 25,
   "metadata": {
    "colab": {
     "base_uri": "https://localhost:8080/"
    },
    "executionInfo": {
     "elapsed": 1664,
     "status": "ok",
     "timestamp": 1738423430252,
     "user": {
      "displayName": "Dimitris Vougioukos",
      "userId": "03588049666007909203"
     },
     "user_tz": -120
    },
    "id": "imJOwg6TtRFj",
    "outputId": "c83b1589-6d9a-4c10-e50d-ebe2b10bf7db"
   },
   "outputs": [
    {
     "name": "stdout",
     "output_type": "stream",
     "text": [
      "\u001b[1m                                                                                      Scores of Spelling Corrector                                                                                      \u001b[0m\n",
      "\n",
      "╭──────────────────────────────────────────────────────────────────┬──────────────────────────────────────────────────────────────────┬──────────────────────────────────────────────────────────────────╮\n",
      "│                                \u001b[1mWER\u001b[0m                               │                                \u001b[1mCER\u001b[0m                               │                              \u001b[1mAverage\u001b[0m                             │\n",
      "├──────────────────────────────────────────────────────────────────┼──────────────────────────────────────────────────────────────────┼──────────────────────────────────────────────────────────────────┤\n",
      "│                                                             0.12 │                                                             0.05 │                                                            0.085 │\n",
      "╰──────────────────────────────────────────────────────────────────┴──────────────────────────────────────────────────────────────────┴──────────────────────────────────────────────────────────────────╯\n",
      "\n",
      "\u001b[1m                                                                                   Spelling Corrector on Test Dataset                                                                                   \u001b[0m\n",
      "\n",
      "╭──────────────────────────────────────────────────────────────────┬──────────────────────────────────────────────────────────────────┬──────────────────────────────────────────────────────────────────╮\n",
      "│                    \u001b[1mOriginal Test Sentences\u001b[0m                       │                      \u001b[1mNoisy Test Sentences\u001b[0m                        │                    \u001b[1mCorrected Test Sentences\u001b[0m                      │\n",
      "├──────────────────────────────────────────────────────────────────┼──────────────────────────────────────────────────────────────────┼──────────────────────────────────────────────────────────────────┤\n",
      "│ aluminium is sold in dollars                                     │ ahuminium is sold ix qollars                                     │ aluminium is sold in dollars                                     │\n",
      "├──────────────────────────────────────────────────────────────────┼──────────────────────────────────────────────────────────────────┼──────────────────────────────────────────────────────────────────┤\n",
      "│ it was to have expired yesterday                                 │ it wcs to vave expiwed yegterday                                 │ it was to have expired yesterday                                 │\n",
      "├──────────────────────────────────────────────────────────────────┼──────────────────────────────────────────────────────────────────┼──────────────────────────────────────────────────────────────────┤\n",
      "│ prior year results restated                                      │ pcmor yeak results eesdatwd                                      │ prior year results restated                                      │\n",
      "├──────────────────────────────────────────────────────────────────┼──────────────────────────────────────────────────────────────────┼──────────────────────────────────────────────────────────────────┤\n",
      "│ it gave no further details                                       │ it ggve jo usvther autails                                       │ it gave no further details                                       │\n",
      "├──────────────────────────────────────────────────────────────────┼──────────────────────────────────────────────────────────────────┼──────────────────────────────────────────────────────────────────┤\n",
      "│ previous prices in parentheses                                   │ urevious pnices in palehthejes                                   │ previous prices in palehthejes                                   │\n",
      "├──────────────────────────────────────────────────────────────────┼──────────────────────────────────────────────────────────────────┼──────────────────────────────────────────────────────────────────┤\n",
      "│ both were proposed last month                                    │ both wefe promosed past mdnth                                    │ both were proposed past month                                    │\n",
      "├──────────────────────────────────────────────────────────────────┼──────────────────────────────────────────────────────────────────┼──────────────────────────────────────────────────────────────────┤\n",
      "│ both cited market conditions                                     │ both rited mardet conqibkonq                                     │ both sides market conditions                                     │\n",
      "├──────────────────────────────────────────────────────────────────┼──────────────────────────────────────────────────────────────────┼──────────────────────────────────────────────────────────────────┤\n",
      "│ drilling will begin in september                                 │ trilling wilk begin ip septepuer                                 │ drilling will begin in september                                 │\n",
      "├──────────────────────────────────────────────────────────────────┼──────────────────────────────────────────────────────────────────┼──────────────────────────────────────────────────────────────────┤\n",
      "│ terms were not undisclosed                                       │ terms oewe not undisclosed                                       │ terms were not undisclosed                                       │\n",
      "├──────────────────────────────────────────────────────────────────┼──────────────────────────────────────────────────────────────────┼──────────────────────────────────────────────────────────────────┤\n",
      "│ adds dropped year of rights expiration                           │ adds dropped year of rights expibation                           │ adds dropped year of rights expiration                           │\n",
      "├──────────────────────────────────────────────────────────────────┼──────────────────────────────────────────────────────────────────┼──────────────────────────────────────────────────────────────────┤\n",
      "│ that offer was rejected by the company                           │ that otfeq wak ryreuted jy ths comfany                           │ that offer was rejected by the company                           │\n",
      "├──────────────────────────────────────────────────────────────────┼──────────────────────────────────────────────────────────────────┼──────────────────────────────────────────────────────────────────┤\n",
      "│ terms were undisclosed                                           │ mexms wsre undisqldsed                                           │ terms were undisclosed                                           │\n",
      "├──────────────────────────────────────────────────────────────────┼──────────────────────────────────────────────────────────────────┼──────────────────────────────────────────────────────────────────┤\n",
      "│ further details were not disclosed                               │ fkrthur deveilm were nut disvlosej                               │ further details were not disclosed                               │\n",
      "├──────────────────────────────────────────────────────────────────┼──────────────────────────────────────────────────────────────────┼──────────────────────────────────────────────────────────────────┤\n",
      "│ it gave no more price details                                    │ it gave no more price detrils                                    │ it gave no more price details                                    │\n",
      "├──────────────────────────────────────────────────────────────────┼──────────────────────────────────────────────────────────────────┼──────────────────────────────────────────────────────────────────┤\n",
      "│ sterling held its buoyant tone throughout                        │ qterline heod iis bulyact toee throughout                        │ sterling held is subject to throughout                           │\n",
      "├──────────────────────────────────────────────────────────────────┼──────────────────────────────────────────────────────────────────┼──────────────────────────────────────────────────────────────────┤\n",
      "│ it gave no details                                               │ it grvh no details                                               │ it gave no details                                               │\n",
      "├──────────────────────────────────────────────────────────────────┼──────────────────────────────────────────────────────────────────┼──────────────────────────────────────────────────────────────────┤\n",
      "│ but none predicted a surplus                                     │ gut zone prttictod a sqrplus                                     │ but zone predicted a surplus                                     │\n",
      "├──────────────────────────────────────────────────────────────────┼──────────────────────────────────────────────────────────────────┼──────────────────────────────────────────────────────────────────┤\n",
      "│ he did not disclose the offered price                            │ he did not disvlose the omrered price                            │ he did not disclose the offered price                            │\n",
      "├──────────────────────────────────────────────────────────────────┼──────────────────────────────────────────────────────────────────┼──────────────────────────────────────────────────────────────────┤\n",
      "│ there were no reports of actual damage                           │ hheoe xeme no yeports of xytual damage                           │ there were no reports of actual damage                           │\n",
      "├──────────────────────────────────────────────────────────────────┼──────────────────────────────────────────────────────────────────┼──────────────────────────────────────────────────────────────────┤\n",
      "│ agreed to stop talking the dollar down                           │ agrxed to stoi talkhng the dollaz drwn                           │ agreed to stop talking the dollar down                           │\n",
      "├──────────────────────────────────────────────────────────────────┼──────────────────────────────────────────────────────────────────┼──────────────────────────────────────────────────────────────────┤\n",
      "│ he declined to elaborate                                         │ he bevained qo ulaboraxe                                         │ he declined to elaborate                                         │\n",
      "├──────────────────────────────────────────────────────────────────┼──────────────────────────────────────────────────────────────────┼──────────────────────────────────────────────────────────────────┤\n",
      "│ no price was given for the deal                                  │ nw pride was gimen for uhm deal                                  │ no price was given for the deal                                  │\n",
      "├──────────────────────────────────────────────────────────────────┼──────────────────────────────────────────────────────────────────┼──────────────────────────────────────────────────────────────────┤\n",
      "│ one rocket was fired but missed                                  │ nne rocket was fired kgt misfed                                  │ the market was fired yet missed                                  │\n",
      "├──────────────────────────────────────────────────────────────────┼──────────────────────────────────────────────────────────────────┼──────────────────────────────────────────────────────────────────┤\n",
      "│ details were not disclosed                                       │ details xene tot diicloses                                       │ details were not disclosed                                       │\n",
      "├──────────────────────────────────────────────────────────────────┼──────────────────────────────────────────────────────────────────┼──────────────────────────────────────────────────────────────────┤\n",
      "│ the analysts agreed the bank was aggressive                      │ tte aiwlmsas agcoed cht bank ras amirensive                      │ the analysts agreed that bank has extensive                      │\n",
      "├──────────────────────────────────────────────────────────────────┼──────────────────────────────────────────────────────────────────┼──────────────────────────────────────────────────────────────────┤\n",
      "│ the undesignated line is reduced to zero                         │ the unaesignated kine ms reduced ts ryro                         │ the designated line 's reduced to UNK                            │\n",
      "├──────────────────────────────────────────────────────────────────┼──────────────────────────────────────────────────────────────────┼──────────────────────────────────────────────────────────────────┤\n",
      "│ but he sees potential trouble beyond then                        │ but he sees potential trouble byyotu then                        │ but he sees potential trouble bayou then                         │\n",
      "├──────────────────────────────────────────────────────────────────┼──────────────────────────────────────────────────────────────────┼──────────────────────────────────────────────────────────────────┤\n",
      "│ the price hike follows other increases industrywide              │ tie price hika folxjws otxer inkrexsfs induvttywige              │ the price hike follows other interests induvttywige              │\n",
      "├──────────────────────────────────────────────────────────────────┼──────────────────────────────────────────────────────────────────┼──────────────────────────────────────────────────────────────────┤\n",
      "│ full year figures not available                                  │ fudl yedr figures not avaelalle                                  │ full year figures not available                                  │\n",
      "├──────────────────────────────────────────────────────────────────┼──────────────────────────────────────────────────────────────────┼──────────────────────────────────────────────────────────────────┤\n",
      "│ the shortfall will be financed domestically                      │ tme shorffkll wilm be finanaed hooestically                      │ the shortfall will be financed domestically                      │\n",
      "├──────────────────────────────────────────────────────────────────┼──────────────────────────────────────────────────────────────────┼──────────────────────────────────────────────────────────────────┤\n",
      "│ economist with merrill lynch capital markets                     │ economist iith merrill lench capwtal maryets                     │ economist with merrill lynch capital markets                     │\n",
      "├──────────────────────────────────────────────────────────────────┼──────────────────────────────────────────────────────────────────┼──────────────────────────────────────────────────────────────────┤\n",
      "│ he gave no precise sum                                           │ he gave no precisq sum                                           │ he gave no precise sum                                           │\n",
      "├──────────────────────────────────────────────────────────────────┼──────────────────────────────────────────────────────────────────┼──────────────────────────────────────────────────────────────────┤\n",
      "│ bradford is recommending sale of usx shares                      │ bradford is recommepdinu safe nf uux shlres                      │ traders is recommending safe in the shares                       │\n",
      "├──────────────────────────────────────────────────────────────────┼──────────────────────────────────────────────────────────────────┼──────────────────────────────────────────────────────────────────┤\n",
      "│ terms of the sale were not disclosed                             │ merms dp she wane wezk not discsuled                             │ terms of the sale were not disclosed                             │\n",
      "├──────────────────────────────────────────────────────────────────┼──────────────────────────────────────────────────────────────────┼──────────────────────────────────────────────────────────────────┤\n",
      "│ the amounts of what commodities are uncertain                    │ nhe amdunts if what cvmmomiziep aae usceptacg                    │ the amount of what commodities are sceptical                     │\n",
      "├──────────────────────────────────────────────────────────────────┼──────────────────────────────────────────────────────────────────┼──────────────────────────────────────────────────────────────────┤\n",
      "│ it did not identify the buyers                                   │ bt did not idcntify the bwyers                                   │ it did not identify the buyer                                    │\n",
      "├──────────────────────────────────────────────────────────────────┼──────────────────────────────────────────────────────────────────┼──────────────────────────────────────────────────────────────────┤\n",
      "│ its bid is subject to firb approval                              │ its bid wa lubject ta firb apprsfas                              │ its bid was subject to firm approval                             │\n",
      "├──────────────────────────────────────────────────────────────────┼──────────────────────────────────────────────────────────────────┼──────────────────────────────────────────────────────────────────┤\n",
      "│ the field is located in southern louisiana                       │ txe aielb is locatel vn zomohero gouisiana                       │ the bill is located in southern louisiana                        │\n",
      "├──────────────────────────────────────────────────────────────────┼──────────────────────────────────────────────────────────────────┼──────────────────────────────────────────────────────────────────┤\n",
      "│ consolidated first quarter figures were not disclosed            │ connrlidaved first qihrter fdgurev were not digylfsel            │ consolidated first quarter figures were not disclosed            │\n",
      "├──────────────────────────────────────────────────────────────────┼──────────────────────────────────────────────────────────────────┼──────────────────────────────────────────────────────────────────┤\n",
      "│ the balance will be paid in october                              │ the bflance wwll be pamd in dcaybmr                              │ the balance will be paid in december                             │\n",
      "╰──────────────────────────────────────────────────────────────────┴──────────────────────────────────────────────────────────────────┴──────────────────────────────────────────────────────────────────╯\n"
     ]
    }
   ],
   "source": [
    "# Creating a table showing the performance of the spelling corrector\n",
    "\n",
    "# Creating table values\n",
    "table_1_data = [[scores[0], scores[1], round(np.mean(scores), 3)]]\n",
    "\n",
    "# Creating the columnn names\n",
    "table_1_headers = [\n",
    "    f\"{header:^70}\"\n",
    "    for header in [\"\\033[1mWER\\033[0m\", \"\\033[1mCER\\033[0m\", \"\\033[1mAverage\\033[0m\"]\n",
    "]\n",
    "\n",
    "# Creating a table showing how the spelling corrector corrects the sentences\n",
    "\n",
    "# Creating table values\n",
    "table_2_data = list(\n",
    "    zip(joined_test_sentences, joined_noisy_test_sentences, corrected_test_sentences)\n",
    ")\n",
    "\n",
    "# Creating the columnn names\n",
    "table_2_headers = [\n",
    "    f\"{header:^70}\"\n",
    "    for header in [\n",
    "        \"\\033[1mOriginal Test Sentences\\033[0m\",\n",
    "        \"\\033[1mNoisy Test Sentences\\033[0m\",\n",
    "        \"\\033[1mCorrected Test Sentences\\033[0m\",\n",
    "    ]\n",
    "]\n",
    "\n",
    "print(f\"\\033[1m{'Scores of Spelling Corrector':^200}\\033[0m\")\n",
    "print()\n",
    "print(tabulate(table_1_data, headers=table_1_headers, tablefmt=\"rounded_grid\"))\n",
    "print()\n",
    "print(f\"\\033[1m{'Spelling Corrector on Test Dataset':^200}\\033[0m\")\n",
    "print()\n",
    "print(tabulate(table_2_data, headers=table_2_headers, tablefmt=\"rounded_grid\"))"
   ]
  }
 ],
 "metadata": {
  "colab": {
   "authorship_tag": "ABX9TyOF8Rc4yu0Or+BFpDtpR7ec",
   "provenance": []
  },
  "kernelspec": {
   "display_name": "Python 3",
   "name": "python3"
  },
  "language_info": {
   "name": "python"
  },
  "widgets": {
   "application/vnd.jupyter.widget-state+json": {
    "159e792689924686bbf3e0e4cd5bc6b9": {
     "model_module": "@jupyter-widgets/controls",
     "model_module_version": "1.5.0",
     "model_name": "HTMLModel",
     "state": {
      "_dom_classes": [],
      "_model_module": "@jupyter-widgets/controls",
      "_model_module_version": "1.5.0",
      "_model_name": "HTMLModel",
      "_view_count": null,
      "_view_module": "@jupyter-widgets/controls",
      "_view_module_version": "1.5.0",
      "_view_name": "HTMLView",
      "description": "",
      "description_tooltip": null,
      "layout": "IPY_MODEL_724d67e68b194cd896ab38b437955143",
      "placeholder": "​",
      "style": "IPY_MODEL_7fa864d763fb477790e4bddbf50d90a7",
      "value": "Downloading builder script: 100%"
     }
    },
    "6c3d10fe60c94022a76571b0df64c1ad": {
     "model_module": "@jupyter-widgets/controls",
     "model_module_version": "1.5.0",
     "model_name": "HTMLModel",
     "state": {
      "_dom_classes": [],
      "_model_module": "@jupyter-widgets/controls",
      "_model_module_version": "1.5.0",
      "_model_name": "HTMLModel",
      "_view_count": null,
      "_view_module": "@jupyter-widgets/controls",
      "_view_module_version": "1.5.0",
      "_view_name": "HTMLView",
      "description": "",
      "description_tooltip": null,
      "layout": "IPY_MODEL_ef1c7b9525ec4ca49b7c88e0c755161b",
      "placeholder": "​",
      "style": "IPY_MODEL_b713869ee9b14665a6cd533a51a7df5d",
      "value": "Downloading builder script: 100%"
     }
    },
    "724d67e68b194cd896ab38b437955143": {
     "model_module": "@jupyter-widgets/base",
     "model_module_version": "1.2.0",
     "model_name": "LayoutModel",
     "state": {
      "_model_module": "@jupyter-widgets/base",
      "_model_module_version": "1.2.0",
      "_model_name": "LayoutModel",
      "_view_count": null,
      "_view_module": "@jupyter-widgets/base",
      "_view_module_version": "1.2.0",
      "_view_name": "LayoutView",
      "align_content": null,
      "align_items": null,
      "align_self": null,
      "border": null,
      "bottom": null,
      "display": null,
      "flex": null,
      "flex_flow": null,
      "grid_area": null,
      "grid_auto_columns": null,
      "grid_auto_flow": null,
      "grid_auto_rows": null,
      "grid_column": null,
      "grid_gap": null,
      "grid_row": null,
      "grid_template_areas": null,
      "grid_template_columns": null,
      "grid_template_rows": null,
      "height": null,
      "justify_content": null,
      "justify_items": null,
      "left": null,
      "margin": null,
      "max_height": null,
      "max_width": null,
      "min_height": null,
      "min_width": null,
      "object_fit": null,
      "object_position": null,
      "order": null,
      "overflow": null,
      "overflow_x": null,
      "overflow_y": null,
      "padding": null,
      "right": null,
      "top": null,
      "visibility": null,
      "width": null
     }
    },
    "7c260b0a4ea04d7ba6d8b88559a1855d": {
     "model_module": "@jupyter-widgets/controls",
     "model_module_version": "1.5.0",
     "model_name": "HTMLModel",
     "state": {
      "_dom_classes": [],
      "_model_module": "@jupyter-widgets/controls",
      "_model_module_version": "1.5.0",
      "_model_name": "HTMLModel",
      "_view_count": null,
      "_view_module": "@jupyter-widgets/controls",
      "_view_module_version": "1.5.0",
      "_view_name": "HTMLView",
      "description": "",
      "description_tooltip": null,
      "layout": "IPY_MODEL_a16fd99e4d864a57a3d854bd0ef1344f",
      "placeholder": "​",
      "style": "IPY_MODEL_ef055e55f8044a1b899f2ba71435c34b",
      "value": " 5.60k/5.60k [00:00&lt;00:00, 285kB/s]"
     }
    },
    "7f51473701f3456f825cd755be06645f": {
     "model_module": "@jupyter-widgets/base",
     "model_module_version": "1.2.0",
     "model_name": "LayoutModel",
     "state": {
      "_model_module": "@jupyter-widgets/base",
      "_model_module_version": "1.2.0",
      "_model_name": "LayoutModel",
      "_view_count": null,
      "_view_module": "@jupyter-widgets/base",
      "_view_module_version": "1.2.0",
      "_view_name": "LayoutView",
      "align_content": null,
      "align_items": null,
      "align_self": null,
      "border": null,
      "bottom": null,
      "display": null,
      "flex": null,
      "flex_flow": null,
      "grid_area": null,
      "grid_auto_columns": null,
      "grid_auto_flow": null,
      "grid_auto_rows": null,
      "grid_column": null,
      "grid_gap": null,
      "grid_row": null,
      "grid_template_areas": null,
      "grid_template_columns": null,
      "grid_template_rows": null,
      "height": null,
      "justify_content": null,
      "justify_items": null,
      "left": null,
      "margin": null,
      "max_height": null,
      "max_width": null,
      "min_height": null,
      "min_width": null,
      "object_fit": null,
      "object_position": null,
      "order": null,
      "overflow": null,
      "overflow_x": null,
      "overflow_y": null,
      "padding": null,
      "right": null,
      "top": null,
      "visibility": null,
      "width": null
     }
    },
    "7fa864d763fb477790e4bddbf50d90a7": {
     "model_module": "@jupyter-widgets/controls",
     "model_module_version": "1.5.0",
     "model_name": "DescriptionStyleModel",
     "state": {
      "_model_module": "@jupyter-widgets/controls",
      "_model_module_version": "1.5.0",
      "_model_name": "DescriptionStyleModel",
      "_view_count": null,
      "_view_module": "@jupyter-widgets/base",
      "_view_module_version": "1.2.0",
      "_view_name": "StyleView",
      "description_width": ""
     }
    },
    "85f91b5cfb244bffb98e083368fb1797": {
     "model_module": "@jupyter-widgets/base",
     "model_module_version": "1.2.0",
     "model_name": "LayoutModel",
     "state": {
      "_model_module": "@jupyter-widgets/base",
      "_model_module_version": "1.2.0",
      "_model_name": "LayoutModel",
      "_view_count": null,
      "_view_module": "@jupyter-widgets/base",
      "_view_module_version": "1.2.0",
      "_view_name": "LayoutView",
      "align_content": null,
      "align_items": null,
      "align_self": null,
      "border": null,
      "bottom": null,
      "display": null,
      "flex": null,
      "flex_flow": null,
      "grid_area": null,
      "grid_auto_columns": null,
      "grid_auto_flow": null,
      "grid_auto_rows": null,
      "grid_column": null,
      "grid_gap": null,
      "grid_row": null,
      "grid_template_areas": null,
      "grid_template_columns": null,
      "grid_template_rows": null,
      "height": null,
      "justify_content": null,
      "justify_items": null,
      "left": null,
      "margin": null,
      "max_height": null,
      "max_width": null,
      "min_height": null,
      "min_width": null,
      "object_fit": null,
      "object_position": null,
      "order": null,
      "overflow": null,
      "overflow_x": null,
      "overflow_y": null,
      "padding": null,
      "right": null,
      "top": null,
      "visibility": null,
      "width": null
     }
    },
    "89e26dd19aae4a689f3562b22383a881": {
     "model_module": "@jupyter-widgets/controls",
     "model_module_version": "1.5.0",
     "model_name": "HTMLModel",
     "state": {
      "_dom_classes": [],
      "_model_module": "@jupyter-widgets/controls",
      "_model_module_version": "1.5.0",
      "_model_name": "HTMLModel",
      "_view_count": null,
      "_view_module": "@jupyter-widgets/controls",
      "_view_module_version": "1.5.0",
      "_view_name": "HTMLView",
      "description": "",
      "description_tooltip": null,
      "layout": "IPY_MODEL_a12349165a3f4b8b9e2abafd083fc9aa",
      "placeholder": "​",
      "style": "IPY_MODEL_a1eba7e980724325ba8fd8ef9d4903f8",
      "value": " 4.49k/4.49k [00:00&lt;00:00, 225kB/s]"
     }
    },
    "8b2ad8db24ae4764bc4b8410201f3947": {
     "model_module": "@jupyter-widgets/base",
     "model_module_version": "1.2.0",
     "model_name": "LayoutModel",
     "state": {
      "_model_module": "@jupyter-widgets/base",
      "_model_module_version": "1.2.0",
      "_model_name": "LayoutModel",
      "_view_count": null,
      "_view_module": "@jupyter-widgets/base",
      "_view_module_version": "1.2.0",
      "_view_name": "LayoutView",
      "align_content": null,
      "align_items": null,
      "align_self": null,
      "border": null,
      "bottom": null,
      "display": null,
      "flex": null,
      "flex_flow": null,
      "grid_area": null,
      "grid_auto_columns": null,
      "grid_auto_flow": null,
      "grid_auto_rows": null,
      "grid_column": null,
      "grid_gap": null,
      "grid_row": null,
      "grid_template_areas": null,
      "grid_template_columns": null,
      "grid_template_rows": null,
      "height": null,
      "justify_content": null,
      "justify_items": null,
      "left": null,
      "margin": null,
      "max_height": null,
      "max_width": null,
      "min_height": null,
      "min_width": null,
      "object_fit": null,
      "object_position": null,
      "order": null,
      "overflow": null,
      "overflow_x": null,
      "overflow_y": null,
      "padding": null,
      "right": null,
      "top": null,
      "visibility": null,
      "width": null
     }
    },
    "9014f8035f61457ba430cdf08a660a3c": {
     "model_module": "@jupyter-widgets/controls",
     "model_module_version": "1.5.0",
     "model_name": "HBoxModel",
     "state": {
      "_dom_classes": [],
      "_model_module": "@jupyter-widgets/controls",
      "_model_module_version": "1.5.0",
      "_model_name": "HBoxModel",
      "_view_count": null,
      "_view_module": "@jupyter-widgets/controls",
      "_view_module_version": "1.5.0",
      "_view_name": "HBoxView",
      "box_style": "",
      "children": [
       "IPY_MODEL_6c3d10fe60c94022a76571b0df64c1ad",
       "IPY_MODEL_ca2296ffb7164f789635b1a6c5d8ea4b",
       "IPY_MODEL_7c260b0a4ea04d7ba6d8b88559a1855d"
      ],
      "layout": "IPY_MODEL_7f51473701f3456f825cd755be06645f"
     }
    },
    "9401814410a54a5987e233014a758a1d": {
     "model_module": "@jupyter-widgets/controls",
     "model_module_version": "1.5.0",
     "model_name": "FloatProgressModel",
     "state": {
      "_dom_classes": [],
      "_model_module": "@jupyter-widgets/controls",
      "_model_module_version": "1.5.0",
      "_model_name": "FloatProgressModel",
      "_view_count": null,
      "_view_module": "@jupyter-widgets/controls",
      "_view_module_version": "1.5.0",
      "_view_name": "ProgressView",
      "bar_style": "success",
      "description": "",
      "description_tooltip": null,
      "layout": "IPY_MODEL_d2536c609deb4b6f901720a107896ca7",
      "max": 4485,
      "min": 0,
      "orientation": "horizontal",
      "style": "IPY_MODEL_c5f264b4a9a14a4fb954da8b25193e3c",
      "value": 4485
     }
    },
    "a12349165a3f4b8b9e2abafd083fc9aa": {
     "model_module": "@jupyter-widgets/base",
     "model_module_version": "1.2.0",
     "model_name": "LayoutModel",
     "state": {
      "_model_module": "@jupyter-widgets/base",
      "_model_module_version": "1.2.0",
      "_model_name": "LayoutModel",
      "_view_count": null,
      "_view_module": "@jupyter-widgets/base",
      "_view_module_version": "1.2.0",
      "_view_name": "LayoutView",
      "align_content": null,
      "align_items": null,
      "align_self": null,
      "border": null,
      "bottom": null,
      "display": null,
      "flex": null,
      "flex_flow": null,
      "grid_area": null,
      "grid_auto_columns": null,
      "grid_auto_flow": null,
      "grid_auto_rows": null,
      "grid_column": null,
      "grid_gap": null,
      "grid_row": null,
      "grid_template_areas": null,
      "grid_template_columns": null,
      "grid_template_rows": null,
      "height": null,
      "justify_content": null,
      "justify_items": null,
      "left": null,
      "margin": null,
      "max_height": null,
      "max_width": null,
      "min_height": null,
      "min_width": null,
      "object_fit": null,
      "object_position": null,
      "order": null,
      "overflow": null,
      "overflow_x": null,
      "overflow_y": null,
      "padding": null,
      "right": null,
      "top": null,
      "visibility": null,
      "width": null
     }
    },
    "a16fd99e4d864a57a3d854bd0ef1344f": {
     "model_module": "@jupyter-widgets/base",
     "model_module_version": "1.2.0",
     "model_name": "LayoutModel",
     "state": {
      "_model_module": "@jupyter-widgets/base",
      "_model_module_version": "1.2.0",
      "_model_name": "LayoutModel",
      "_view_count": null,
      "_view_module": "@jupyter-widgets/base",
      "_view_module_version": "1.2.0",
      "_view_name": "LayoutView",
      "align_content": null,
      "align_items": null,
      "align_self": null,
      "border": null,
      "bottom": null,
      "display": null,
      "flex": null,
      "flex_flow": null,
      "grid_area": null,
      "grid_auto_columns": null,
      "grid_auto_flow": null,
      "grid_auto_rows": null,
      "grid_column": null,
      "grid_gap": null,
      "grid_row": null,
      "grid_template_areas": null,
      "grid_template_columns": null,
      "grid_template_rows": null,
      "height": null,
      "justify_content": null,
      "justify_items": null,
      "left": null,
      "margin": null,
      "max_height": null,
      "max_width": null,
      "min_height": null,
      "min_width": null,
      "object_fit": null,
      "object_position": null,
      "order": null,
      "overflow": null,
      "overflow_x": null,
      "overflow_y": null,
      "padding": null,
      "right": null,
      "top": null,
      "visibility": null,
      "width": null
     }
    },
    "a1eba7e980724325ba8fd8ef9d4903f8": {
     "model_module": "@jupyter-widgets/controls",
     "model_module_version": "1.5.0",
     "model_name": "DescriptionStyleModel",
     "state": {
      "_model_module": "@jupyter-widgets/controls",
      "_model_module_version": "1.5.0",
      "_model_name": "DescriptionStyleModel",
      "_view_count": null,
      "_view_module": "@jupyter-widgets/base",
      "_view_module_version": "1.2.0",
      "_view_name": "StyleView",
      "description_width": ""
     }
    },
    "ab39b6733ec74d729c0999e537dc7df4": {
     "model_module": "@jupyter-widgets/controls",
     "model_module_version": "1.5.0",
     "model_name": "ProgressStyleModel",
     "state": {
      "_model_module": "@jupyter-widgets/controls",
      "_model_module_version": "1.5.0",
      "_model_name": "ProgressStyleModel",
      "_view_count": null,
      "_view_module": "@jupyter-widgets/base",
      "_view_module_version": "1.2.0",
      "_view_name": "StyleView",
      "bar_color": null,
      "description_width": ""
     }
    },
    "b713869ee9b14665a6cd533a51a7df5d": {
     "model_module": "@jupyter-widgets/controls",
     "model_module_version": "1.5.0",
     "model_name": "DescriptionStyleModel",
     "state": {
      "_model_module": "@jupyter-widgets/controls",
      "_model_module_version": "1.5.0",
      "_model_name": "DescriptionStyleModel",
      "_view_count": null,
      "_view_module": "@jupyter-widgets/base",
      "_view_module_version": "1.2.0",
      "_view_name": "StyleView",
      "description_width": ""
     }
    },
    "c5f264b4a9a14a4fb954da8b25193e3c": {
     "model_module": "@jupyter-widgets/controls",
     "model_module_version": "1.5.0",
     "model_name": "ProgressStyleModel",
     "state": {
      "_model_module": "@jupyter-widgets/controls",
      "_model_module_version": "1.5.0",
      "_model_name": "ProgressStyleModel",
      "_view_count": null,
      "_view_module": "@jupyter-widgets/base",
      "_view_module_version": "1.2.0",
      "_view_name": "StyleView",
      "bar_color": null,
      "description_width": ""
     }
    },
    "ca2296ffb7164f789635b1a6c5d8ea4b": {
     "model_module": "@jupyter-widgets/controls",
     "model_module_version": "1.5.0",
     "model_name": "FloatProgressModel",
     "state": {
      "_dom_classes": [],
      "_model_module": "@jupyter-widgets/controls",
      "_model_module_version": "1.5.0",
      "_model_name": "FloatProgressModel",
      "_view_count": null,
      "_view_module": "@jupyter-widgets/controls",
      "_view_module_version": "1.5.0",
      "_view_name": "ProgressView",
      "bar_style": "success",
      "description": "",
      "description_tooltip": null,
      "layout": "IPY_MODEL_85f91b5cfb244bffb98e083368fb1797",
      "max": 5599,
      "min": 0,
      "orientation": "horizontal",
      "style": "IPY_MODEL_ab39b6733ec74d729c0999e537dc7df4",
      "value": 5599
     }
    },
    "d2536c609deb4b6f901720a107896ca7": {
     "model_module": "@jupyter-widgets/base",
     "model_module_version": "1.2.0",
     "model_name": "LayoutModel",
     "state": {
      "_model_module": "@jupyter-widgets/base",
      "_model_module_version": "1.2.0",
      "_model_name": "LayoutModel",
      "_view_count": null,
      "_view_module": "@jupyter-widgets/base",
      "_view_module_version": "1.2.0",
      "_view_name": "LayoutView",
      "align_content": null,
      "align_items": null,
      "align_self": null,
      "border": null,
      "bottom": null,
      "display": null,
      "flex": null,
      "flex_flow": null,
      "grid_area": null,
      "grid_auto_columns": null,
      "grid_auto_flow": null,
      "grid_auto_rows": null,
      "grid_column": null,
      "grid_gap": null,
      "grid_row": null,
      "grid_template_areas": null,
      "grid_template_columns": null,
      "grid_template_rows": null,
      "height": null,
      "justify_content": null,
      "justify_items": null,
      "left": null,
      "margin": null,
      "max_height": null,
      "max_width": null,
      "min_height": null,
      "min_width": null,
      "object_fit": null,
      "object_position": null,
      "order": null,
      "overflow": null,
      "overflow_x": null,
      "overflow_y": null,
      "padding": null,
      "right": null,
      "top": null,
      "visibility": null,
      "width": null
     }
    },
    "e09a4320484448b6ad467c45d4478cdd": {
     "model_module": "@jupyter-widgets/controls",
     "model_module_version": "1.5.0",
     "model_name": "HBoxModel",
     "state": {
      "_dom_classes": [],
      "_model_module": "@jupyter-widgets/controls",
      "_model_module_version": "1.5.0",
      "_model_name": "HBoxModel",
      "_view_count": null,
      "_view_module": "@jupyter-widgets/controls",
      "_view_module_version": "1.5.0",
      "_view_name": "HBoxView",
      "box_style": "",
      "children": [
       "IPY_MODEL_159e792689924686bbf3e0e4cd5bc6b9",
       "IPY_MODEL_9401814410a54a5987e233014a758a1d",
       "IPY_MODEL_89e26dd19aae4a689f3562b22383a881"
      ],
      "layout": "IPY_MODEL_8b2ad8db24ae4764bc4b8410201f3947"
     }
    },
    "ef055e55f8044a1b899f2ba71435c34b": {
     "model_module": "@jupyter-widgets/controls",
     "model_module_version": "1.5.0",
     "model_name": "DescriptionStyleModel",
     "state": {
      "_model_module": "@jupyter-widgets/controls",
      "_model_module_version": "1.5.0",
      "_model_name": "DescriptionStyleModel",
      "_view_count": null,
      "_view_module": "@jupyter-widgets/base",
      "_view_module_version": "1.2.0",
      "_view_name": "StyleView",
      "description_width": ""
     }
    },
    "ef1c7b9525ec4ca49b7c88e0c755161b": {
     "model_module": "@jupyter-widgets/base",
     "model_module_version": "1.2.0",
     "model_name": "LayoutModel",
     "state": {
      "_model_module": "@jupyter-widgets/base",
      "_model_module_version": "1.2.0",
      "_model_name": "LayoutModel",
      "_view_count": null,
      "_view_module": "@jupyter-widgets/base",
      "_view_module_version": "1.2.0",
      "_view_name": "LayoutView",
      "align_content": null,
      "align_items": null,
      "align_self": null,
      "border": null,
      "bottom": null,
      "display": null,
      "flex": null,
      "flex_flow": null,
      "grid_area": null,
      "grid_auto_columns": null,
      "grid_auto_flow": null,
      "grid_auto_rows": null,
      "grid_column": null,
      "grid_gap": null,
      "grid_row": null,
      "grid_template_areas": null,
      "grid_template_columns": null,
      "grid_template_rows": null,
      "height": null,
      "justify_content": null,
      "justify_items": null,
      "left": null,
      "margin": null,
      "max_height": null,
      "max_width": null,
      "min_height": null,
      "min_width": null,
      "object_fit": null,
      "object_position": null,
      "order": null,
      "overflow": null,
      "overflow_x": null,
      "overflow_y": null,
      "padding": null,
      "right": null,
      "top": null,
      "visibility": null,
      "width": null
     }
    }
   }
  }
 },
 "nbformat": 4,
 "nbformat_minor": 0
}
